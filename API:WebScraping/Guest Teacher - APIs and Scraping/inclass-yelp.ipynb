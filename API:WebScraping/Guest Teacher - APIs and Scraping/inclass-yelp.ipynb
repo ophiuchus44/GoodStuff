{
 "cells": [
  {
   "cell_type": "code",
   "execution_count": 1,
   "metadata": {
    "collapsed": true
   },
   "outputs": [],
   "source": [
    "import requests\n",
    "from bs4 import BeautifulSoup"
   ]
  },
  {
   "cell_type": "code",
   "execution_count": 2,
   "metadata": {
    "collapsed": true
   },
   "outputs": [],
   "source": [
    "YELP_URL = 'http://www.yelp.com/biz/general-assembly-santa-monica-santa-monica'\n",
    "r = requests.get(YELP_URL)"
   ]
  },
  {
   "cell_type": "code",
   "execution_count": 3,
   "metadata": {
    "collapsed": false
   },
   "outputs": [],
   "source": [
    "bs = BeautifulSoup(r.text, \"lxml\")\n",
    "\n",
    "pages = []   # all pages scraped\n",
    "page = {}    # scraped details for a given page"
   ]
  },
  {
   "cell_type": "code",
   "execution_count": 4,
   "metadata": {
    "collapsed": false
   },
   "outputs": [],
   "source": [
    "title_tag = bs.select('h1.biz-page-title')\n",
    "title = title_tag[0].text.strip()\n",
    "page['title'] = title"
   ]
  },
  {
   "cell_type": "code",
   "execution_count": 8,
   "metadata": {
    "collapsed": false
   },
   "outputs": [
    {
     "data": {
      "text/plain": [
       "{'reviews': [u\"Kim Cruickshanks [Fuze Branding] was a spectacular instructor for GA's 'Adobe Illustrator Workshop' in Santa Monica (10AM - 5PM)! She provided all the material necessary to give students a comprehensive, baseline understanding of Illustrator's fundamental tools, best practices, shortcuts, theory & applied strategy.While it'd take years of practice to develop expertise using the program -- like any professional software -- Kim's workshop offers all of the necessary information to quickly grasp the basic essentials early-on. The gratification that comes from grasping the basics early-on, as a result, empowers & encourages students to build those expert skills later-on through practice (ALOT), heuristics, and trial-and-error.Kim hones in on the program's most salient information, straying away from the more complex features that can bewilder & frustrate users in their developmental stages. [Sidenote: those complex features aren't used that frequently anyway].Topping it all of was Kim's exuberance & enthusiasm -- her pep & vitality made the 7-hour workshop delightful and super easy-to-follow!Any creative workshop led by Kim is not one to miss!\",\n",
       "  u\"I'd like to add more about life after the program. In January 2016, General Assembly created an Alumni Committee. This committee is handpicked alumni working with GA staff and their task is is to organize events, workshops, and anything else to enhance our community.Since then I've been able to attend events to help me boost my resume (nice perk for those of us that took the part-time program!), attend fun events like Trivia Night, and there are loads more events coming up.I love how GA listens to students and put something like this together. If you're a current student, or planning to attend soon - definitely get involved and take full advantage of these events. You never know who you're going to meet!\",\n",
       "  u'A very cool space to come study the different trades of tech, attend events, and meet people.',\n",
       "  u\"I've been taking workshops at GA for a while and decided finally to start the UX Design immersive course: 10 intensive weeks which I wish could last forever! The best investment ever! Amazing environment, Great program, awesome teachers (the best!) and staff to support you all the time. I needed a shift in my career and now I feel ready and confident to start it! \\xa0Extra points to the Outcome program, part of the course, which helps you to get prepared to get a job.Studying at GA you are not one more client or student, you are part of a family, the GA community and I am proud of being part if it!!! #ux #uxdesign #santamonica #samo #courses #classes #losangeles #handson\",\n",
       "  u\"Second time here. First time as a visitor during the day, second time as an event attendee. Excited to hear what chimes out of this event. If you're looking for a great working and learning space, consider coming here!\",\n",
       "  u'In our most recent round of hiring we added 4 new members to our team and all 4 of them came from General Assembly. Although we took the normal route of posting jobs to various career sites, in the end there were a few things that stood out for every GA candidate. They are seriously passionate about software development and 100% dedicated to self improvement. These key traits, combined with their technical skill foundation, speaks volumes to the education and experience that General Assembly is able to offer their students.',\n",
       "  u\"When my Director mentioned we'd have an opportunity (thanks to our Agency) to take a course at General Assembly, I admit I had never heard about them and was a little apprehensive about heading to the westside and fighting traffic. On first take, their website offered a great variety of classes in both front-end, back-end and more with enough weekday or weekend options to offer folks with set work schedules flexibility. I chose Front End Web Development held on Saturdays and it was an incredible experience!Our instruction team (led by Kameron Zach) was awesome. Very creative, insightful and knowledgeable his humor and teaching style was very thorough and welcoming. Shane and Machiko we always available during class or office hours if you had a question or needed more help with concepts as they built from week to week. What I liked most was the give and take between staff and the class -- classes were customized enough to our learning level and our input shaped where the final projects ended. Discussions were very spirited and enjoyable.For those of us who love taking and reviewing notes, classes were available in audio format and each weekend driving down to class, I'd listen and review which was an added bonus.TJ (Technical Course Producer) was always available and welcomed us with a welcome lunch and always shared valuable news about the General Assembly experience and how as students you can make the most of resources moving forward.The most fun was seeing everyone's final projects in a class that seemed more like a celebration. It was amazing how far those in class had come and what each person gleaned from instruction. I immediately begged my director for another opportunity.Finally, as a student, you get the type of exposure that could lead to a career opportunities. During our graduation, industry professionals share tips on getting your foot in the door and what steps should take next. Also, student projects can be posted on the General Assembly Gallery @ gallery.generalassemb.ly\\u2026 which allow for feedback, \\xa0sharing and a great link to add to your portfolio or resume.If you're looking for a jump start to your career, I'd seriously suggest doing an Full-Time Immersive or time permitting Part-Time Courses. You'll thank this review for where you'll be headed.\",\n",
       "  u\"Best if you already have some background in web development. Better if you work for a company that will sponsor you for this. Otherwise, its a series of bells and whistles and trial by fire learning experience. Best of luck after the program because most companies refuse to even take a chance for an intern position. There are other programs that has the incentive of you dont pay until we get you a job. This does not, only job search resources. If youre an absolute beginner, go through the free resources first and pick peoples' brains. Save yourself the almost $15K tuition.\",\n",
       "  u'Alright, I took three full courses here and attended over 18 workshops and events so I feel like I can give you a pretty qualified review of the good and bad. It should also be noted that I had very little technical experience coming into this.The three courses I took were User Experience Design (part-time), Sales and Business Development Immersive (full-time) and Web Development Immersive (full-time). Each course obviously had different (very qualified) instructors, and was run differently.The UXD (user experience design) course was my intro to GA. It was on tuesday and thursday nights. The two instructors were very qualified, and I learned a lot in a very short period of time. I would highly recommend this class to those who are looking to transition into tech but aren\\'t quite ready to jump into coding. UXD gives you a pretty good opportunity at learning the ins and outs of turning an app idea into a prototype.The SBDI (sales and business development immersive) course was my first full-time course. We were actually the pilot class for this course in Los Angeles. The main instructor was a Harvard Law School and Y-Combinator/500 Startups alumni. He was great, and the real value in this for me was connecting with people and really learning how to foster those relationships. It was mostly a series of valuable guest speakers. I don\\'t know if they\\'re doing this course any more though. There was less technical learning and more networking.Now the WDI (web development immersive) course is their flagship. This is where I feel like they put most of their efforts. It\\'s designed to take people from not knowing how to code at all to being junior developers that are actually hirable in the field. A lot of people graduated from WDI and got jobs (some of them upwards of six-figures). Others used their coding ability to start entrepreneurial endeavors. GA puts a lot of effort into the outcomes of their students and really helps you get your ducks in a row so you can go out there and get a job if you want to. They even coach you through mock interviews, real interviews, and have you set up your portfolio for meet and hire days where they bring actual companies in to take a look at your work.The WDI course was different for everyone. Personally, I put a lot of effort into the \"pre-work\" (work they give you before you start the course so you can be as prepared as possible to learn) so it was easier for me to pick up concepts in the beginning. By the end of the program, I felt very comfortable learning new languages and solving problems. It\\'s not going to turn you into Mark Zuckerberg in 3 months, but it gives you a strong foundation to continue your coding and become a senior developer eventually.The culture at GA is great. It\\'s very inviting and the staff does everything they can to make sure you\\'re having fun throughout your time there. They\\'re constantly planning happy hours, mixers, paid lunches, guest speakers, panels and field trips. A week doesn\\'t go by when they don\\'t have social events planned. Shout out to Taylor H. for all her hard work!I know it costs more than your typical community college, but you definitely get what you pay for. The only issue I had was parking, which is tough in Santa Monica. Most students just bought a parking pass at a nearby public lot.',\n",
       "  u\"I'm a fairly recent graduate of GA's Web Development Immersive (WDI) program, and would highly recommend it for those interested in a career in Web Development. The program is quite an investment in terms of money, time and effort...as with many things you get what you put into it. The energy from the other students is amazing. \\xa0You will meet people of all types and backgrounds...everyone looking to make an investment in their future. I enjoyed the program so much I signed on to be a WDI teaching assistant after my cohort was over...it's really inspiring to be around the students and instructors!\",\n",
       "  u'I am familiar with GA and took the part time UX Design class in the DTLA campus. I came to the Santa Monica campus for the Illustrator workshop. Kim was really hands on and very approachable. She is really patient and super knowledgeable. The day went by really fast. Small class and all of my questions were answered. The campus in Santa Monica is roomier and great natural lighting.',\n",
       "  u\"I am completing the summer User Experience Design Immersive Program this week here at General Assembly and I just want to say, what an experience it has been! I've learned so much in such a short amount of time and I feel so ready to start my job search (which General Assembly has an awesome team to help with, too!). I was prepared to be able to utilize the entire UX process in exciting projects (including an actual client project). The takeaways from this program are extremely helpful.My deduction of the 1 star is only for the parking inconvenience. My course was at a temporary location on Broadway at 16th and there were only meters around that area as is much of LA. Not entirely sure what can be done about this but the money sure does add up.\",\n",
       "  u\"One week away from completing UXDI program and as of now I feel great about what I have learned. For the course I taken I was fortunate enough to have someone who was well educated and have tremendous experienced in the field, I can't say anything for other classes that I have not taken. As of now only time can tell if I will find a job or not, but GA helps you greatly on preparing you for it. They have professionals who will give lectures on what the trend of company that is hiring, will help you 1:1 and help you set your value with skill you have.( I mean who does that right?lol) The school culture is great everyone is so friendly and like a family. If you are hesitant on taking the class my advice to you is take it, I felt the same way before taking the class but almost completing the course I feel great, but don't just rely on GA to hold your hand to the end, because in the end it is what you make of yourself so be prepare! And yes parking might not be great but it is Santa Monica it can never be great so can't blame that on GA.\",\n",
       "  u'Have a few friends that have gone through the Web Development Immersive (WDI in GA-speak) here. The answer has been resoundingly that it is worth every penny.Additionally, love the staff here. Every time I stop by for a free workshop, they are incredibly helpful and professional.',\n",
       "  u'I love coming to GA. Awesome vibe, and plenty of coffee. Today, I was here for the \"Introduction to Adobe Illustrator: Weekend Workshop\" with Kim Cruickshanks. Awesome class, super simple to follow along! Kim was a great instructor and I walked away with a fundamental overview of Illustrator that will save me tons of money on design work! Thanks so much!',\n",
       "  u'I took the Data Science course and found it wonderful! \\xa0After so many years of working, I needed to rejuvenate myself. I needed to know the world wasn\\'t passing me by. The content itself is hard. \\xa0However, the instructors were engaged, attentive, and supportive. \\xa0The classmates came from all different backgrounds, and the diversity made \"going back to school\" so much more bearable. \\xa0For those seeking career transitions, I recommend taking a course with GA. \\xa0It could be a full transition following these classes, but that\\'s not a guarantee. \\xa0For me, I never expected a 12-week course to put me in a competitive position against Ph.D.\\'s from the top international Computer Science and Statistic programs in the world. \\xa0However, I do expect the course to allow me to hold a conversation when interviewing for graduate schools, entry-level (maybe even mid-level) jobs, or industry networking events. I have yet to see how the alumni networking operates but will update my review should I feel it necessary. \\xa0I have heard good things. \\xa0Finally, I\\'d like to send compliments to TJ, Dan and Pauline.',\n",
       "  u\"General Assembly has changed the trajectory of my business and life. I have expanded my already robust network with new connections and friends. And trust me, I know a lot of people in LA but clearly I don't know them all. Their programs and events have been top-notch, they are very proactive on promoting graduates and sharing their names/talents with the community upon request and via hiring fairs. Plus, I am not afraid to share that I teach for GA and the process to apply and ensure student quality assurance is thorough, aimed at student satisfaction and fostering a genuine learning environment. I would be quite stagnant without GA, I encourage everyone to join the community and attend a class or two.\",\n",
       "  u'These group is completely disorganized. \\xa0I registered - paid - for an event. \\xa0Arrived at the place and time on my ticket. \\xa0Nobody there from GA. \\xa0Another intending attender was there and told me the date change when he checked online . \\xa0GA never emailed me. \\xa0Very unprofessional .',\n",
       "  u\"General Assembly (Or as we called it GA) was one of the most Fun, Educating and Exhilarating experiences of my life.A bit of background. I have always been interested in learning how to code. I started by learning how to make simple webpages while I was in Medical School. After getting done with Medical School I decided to give the tech world a shot and started researching online for coding bootcamps. Most of them required me to already know a fair amount of programming (which I obviously didnt coming straight from Medical School) but GA took me in and taught me from ground up. They sharpened my basics and I learned a fair amount of Advanced JavaScript and Ruby on Rails by the time I was done with their 12 week WDI (Web Development Immersive) course. I made amazing friends here and have worked on multiple projects with them even after Graduation. I got a fair amount of job offers through their meet and hire event as well as the portfolio of projects they helped me build throughout the course. \\xa0If you are keen on learning then this is the place for you. Super awesome instructors and program producers.Best Decision Ever. If anyone has any questions / doubts / opinions about this course I'd love to talk to them and help them through it.Thank you to Taylor, Blaise, Glenn, Jimmy, Shawn & my entire class of WDI 15 for an amazing 12 weeks. I wish the duration was longer so I could stay with this epic group of people longer.Regards,Dr Rushindra Sinha\",\n",
       "  u'This place can be pricey but I always walk out having learned something super useful that I use all the time. I have taken the Introduction to Illustrator with Kim Cruickshanks and the Intermediate Wordpress Bootcamp. Both classes were awesome and a great way to dive into something on a weekend and get a head start, instead of trying to learn from a bunch of videos online.'],\n",
       " 'title': u'General Assembly Santa Monica'}"
      ]
     },
     "execution_count": 8,
     "metadata": {},
     "output_type": "execute_result"
    }
   ],
   "source": [
    "page"
   ]
  },
  {
   "cell_type": "code",
   "execution_count": 5,
   "metadata": {
    "collapsed": false
   },
   "outputs": [],
   "source": [
    "review_tags = bs.select('p[itemprop=\"description\"]')\n",
    "\n",
    "page['reviews'] = []\n",
    "for review_tag in review_tags:\n",
    "    page['reviews'].append(review_tag.get_text())"
   ]
  },
  {
   "cell_type": "code",
   "execution_count": 6,
   "metadata": {
    "collapsed": false
   },
   "outputs": [
    {
     "data": {
      "text/plain": [
       "4.55"
      ]
     },
     "execution_count": 6,
     "metadata": {},
     "output_type": "execute_result"
    }
   ],
   "source": [
    "# All meta tags with attribute itemprop=\"ratingValue\"\n",
    "#   which are descendents of div tags with class review-list\n",
    "user_ratings = bs.select('div.review-list meta[itemprop=\"ratingValue\"]')\n",
    "\n",
    "# Test if avg rating is similar to the overall rating (4.5)\n",
    "all_ratings = [float(x.attrs['content']) for x in user_ratings]\n",
    "sum(all_ratings) / len(all_ratings)"
   ]
  },
  {
   "cell_type": "code",
   "execution_count": null,
   "metadata": {
    "collapsed": true
   },
   "outputs": [],
   "source": [
    "dan@danwilhelm.com"
   ]
  }
 ],
 "metadata": {
  "kernelspec": {
   "display_name": "Python 2",
   "language": "python",
   "name": "python2"
  },
  "language_info": {
   "codemirror_mode": {
    "name": "ipython",
    "version": 2
   },
   "file_extension": ".py",
   "mimetype": "text/x-python",
   "name": "python",
   "nbconvert_exporter": "python",
   "pygments_lexer": "ipython2",
   "version": "2.7.11"
  }
 },
 "nbformat": 4,
 "nbformat_minor": 0
}
