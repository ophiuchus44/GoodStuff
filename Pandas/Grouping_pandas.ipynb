{
 "cells": [
  {
   "cell_type": "markdown",
   "metadata": {},
   "source": [
    "<img src=\"https://ga-dash.s3.amazonaws.com/production/assets/logo-9f88ae6c9c3871690e33280fcf557f33.png\" style=\"float: left; margin: 15px;\">\n",
    "\n",
    "# Grouping with Pandas (Lesson + Lab)\n",
    "\n",
    "***\n",
    "\n",
    "Week 2 | Lesson 4.1-Alt"
   ]
  },
  {
   "cell_type": "markdown",
   "metadata": {},
   "source": [
    "### LEARNING OBJECTIVES\n",
    "*After this lesson, you will be able to:*\n",
    "- Know what situations **grouping** is useful for\n",
    "- Explain the **`.groupby()`** feature in Pandas\n",
    "- Demonstrate aggregation /w plotting methods in Pandas"
   ]
  },
  {
   "cell_type": "markdown",
   "metadata": {
    "slideshow": {
     "slide_type": "slide"
    }
   },
   "source": [
    "## Specific Examples When GroupBy is Useful\n",
    " - Segmenting customers based on age, buying habbits, interests, behavior\n",
    " \n",
    "\n",
    "\n"
   ]
  },
  {
   "cell_type": "markdown",
   "metadata": {
    "slideshow": {
     "slide_type": "fragment"
    }
   },
   "source": [
    "- Popularity of movie genres based on ticket sales"
   ]
  },
  {
   "cell_type": "markdown",
   "metadata": {
    "slideshow": {
     "slide_type": "fragment"
    }
   },
   "source": [
    " - Sum of crimes given time of day in SF (morning, afternoon, night)"
   ]
  },
  {
   "cell_type": "markdown",
   "metadata": {
    "slideshow": {
     "slide_type": "fragment"
    }
   },
   "source": [
    " - Count number of people with the same last name"
   ]
  },
  {
   "cell_type": "markdown",
   "metadata": {
    "slideshow": {
     "slide_type": "fragment"
    }
   },
   "source": [
    " - Median number of multi-unit buildings in a region"
   ]
  },
  {
   "cell_type": "markdown",
   "metadata": {
    "slideshow": {
     "slide_type": "slide"
    }
   },
   "source": [
    "## What is Grouping?\n",
    "\n",
    "_(visually)_"
   ]
  },
  {
   "cell_type": "markdown",
   "metadata": {
    "slideshow": {
     "slide_type": "slide"
    }
   },
   "source": [
    "![](http://www.w3resource.com/sql/sql-root-images/group-by.gif)"
   ]
  },
  {
   "cell_type": "markdown",
   "metadata": {
    "slideshow": {
     "slide_type": "slide"
    }
   },
   "source": [
    "![](http://www.omnis.net/support/images/technews/g2msimplebargraph.jpg)"
   ]
  },
  {
   "cell_type": "markdown",
   "metadata": {
    "slideshow": {
     "slide_type": "notes"
    }
   },
   "source": [
    "_Think about what this would look like as a summary statistic like mean or sum?_"
   ]
  },
  {
   "cell_type": "markdown",
   "metadata": {
    "slideshow": {
     "slide_type": "slide"
    }
   },
   "source": [
    "![](http://stephanieevergreen.com/wp-content/uploads/2013/08/DivergingFinal.png)"
   ]
  },
  {
   "cell_type": "markdown",
   "metadata": {
    "slideshow": {
     "slide_type": "notes"
    }
   },
   "source": [
    "_Summary grouped by question and response category_"
   ]
  },
  {
   "cell_type": "markdown",
   "metadata": {
    "slideshow": {
     "slide_type": "slide"
    }
   },
   "source": [
    "![](http://zmjones.com/static/posts/titanic-survival-glm.png)"
   ]
  },
  {
   "cell_type": "code",
   "execution_count": 1,
   "metadata": {
    "collapsed": false,
    "slideshow": {
     "slide_type": "slide"
    }
   },
   "outputs": [
    {
     "data": {
      "text/html": [
       "<div style=\"max-height:1000px;max-width:1500px;overflow:auto;\">\n",
       "<table border=\"1\" class=\"dataframe\">\n",
       "  <thead>\n",
       "    <tr style=\"text-align: right;\">\n",
       "      <th></th>\n",
       "      <th>a</th>\n",
       "      <th>b</th>\n",
       "      <th>cat1</th>\n",
       "      <th>cat2</th>\n",
       "    </tr>\n",
       "  </thead>\n",
       "  <tbody>\n",
       "    <tr>\n",
       "      <th>0</th>\n",
<<<<<<< HEAD
       "      <td>-0.209200</td>\n",
       "      <td>0.369342</td>\n",
=======
       "      <td>-0.123917</td>\n",
       "      <td>1.450438</td>\n",
>>>>>>> 065d7e12db1816bc03274892c63d523a7a537c27
       "      <td>X</td>\n",
       "      <td>alpha</td>\n",
       "    </tr>\n",
       "    <tr>\n",
       "      <th>1</th>\n",
<<<<<<< HEAD
       "      <td>-1.002863</td>\n",
       "      <td>0.265011</td>\n",
=======
       "      <td>-0.179764</td>\n",
       "      <td>1.291485</td>\n",
>>>>>>> 065d7e12db1816bc03274892c63d523a7a537c27
       "      <td>X</td>\n",
       "      <td>beta</td>\n",
       "    </tr>\n",
       "    <tr>\n",
       "      <th>2</th>\n",
<<<<<<< HEAD
       "      <td>-0.223682</td>\n",
       "      <td>-0.401754</td>\n",
=======
       "      <td>0.061869</td>\n",
       "      <td>-0.790737</td>\n",
>>>>>>> 065d7e12db1816bc03274892c63d523a7a537c27
       "      <td>Y</td>\n",
       "      <td>alpha</td>\n",
       "    </tr>\n",
       "    <tr>\n",
       "      <th>3</th>\n",
<<<<<<< HEAD
       "      <td>0.822566</td>\n",
       "      <td>1.595559</td>\n",
=======
       "      <td>-0.495592</td>\n",
       "      <td>0.646384</td>\n",
>>>>>>> 065d7e12db1816bc03274892c63d523a7a537c27
       "      <td>Y</td>\n",
       "      <td>beta</td>\n",
       "    </tr>\n",
       "    <tr>\n",
       "      <th>4</th>\n",
<<<<<<< HEAD
       "      <td>1.652815</td>\n",
       "      <td>-0.445738</td>\n",
=======
       "      <td>0.801755</td>\n",
       "      <td>-1.219681</td>\n",
>>>>>>> 065d7e12db1816bc03274892c63d523a7a537c27
       "      <td>Z</td>\n",
       "      <td>alpha</td>\n",
       "    </tr>\n",
       "  </tbody>\n",
       "</table>\n",
       "</div>"
      ],
      "text/plain": [
       "          a         b cat1   cat2\n",
<<<<<<< HEAD
       "0 -0.209200  0.369342    X  alpha\n",
       "1 -1.002863  0.265011    X   beta\n",
       "2 -0.223682 -0.401754    Y  alpha\n",
       "3  0.822566  1.595559    Y   beta\n",
       "4  1.652815 -0.445738    Z  alpha"
=======
       "0 -0.123917  1.450438    X  alpha\n",
       "1 -0.179764  1.291485    X   beta\n",
       "2  0.061869 -0.790737    Y  alpha\n",
       "3 -0.495592  0.646384    Y   beta\n",
       "4  0.801755 -1.219681    Z  alpha"
>>>>>>> 065d7e12db1816bc03274892c63d523a7a537c27
      ]
     },
     "execution_count": 1,
     "metadata": {},
     "output_type": "execute_result"
    }
   ],
   "source": [
    "import pandas as pd\n",
    "import numpy as np\n",
    "df = pd.DataFrame({'cat1':['X','X','Y','Y','Z'],\n",
    "                   'cat2':['alpha','beta','alpha','beta','alpha'],\n",
    "                   'a':np.random.randn(5),\n",
    "                   'b':np.random.randn(5)})\n",
    "df"
   ]
  },
  {
   "cell_type": "markdown",
   "metadata": {
    "slideshow": {
     "slide_type": "slide"
    }
   },
   "source": [
    "**This gives us a specific feature \"a\", grouped by cat1.** \n",
    "\n",
    "_Notice that groups don't really print anything interesting on their own._"
   ]
  },
  {
   "cell_type": "code",
   "execution_count": 2,
   "metadata": {
    "collapsed": false,
    "scrolled": true,
    "slideshow": {
     "slide_type": "-"
    }
   },
   "outputs": [
    {
     "data": {
      "text/plain": [
<<<<<<< HEAD
       "<pandas.core.groupby.SeriesGroupBy object at 0x10382db10>"
=======
       "<pandas.core.groupby.SeriesGroupBy object at 0x1097a38d0>"
>>>>>>> 065d7e12db1816bc03274892c63d523a7a537c27
      ]
     },
     "execution_count": 2,
     "metadata": {},
     "output_type": "execute_result"
    }
   ],
   "source": [
    "group = df['a'].groupby(df['cat1'])\n",
    "group"
   ]
  },
  {
   "cell_type": "code",
   "execution_count": 3,
   "metadata": {
    "collapsed": false
   },
   "outputs": [],
   "source": [
    "# import matplotlib.pyplot as plt\n",
    "# %matplotlib inline\n",
    "\n",
    "# plt.plot(group)\n",
    "# plt.show()"
   ]
  },
  {
   "cell_type": "markdown",
   "metadata": {
    "slideshow": {
     "slide_type": "slide"
    }
   },
   "source": [
    "**Groups can be operated on in aggregate.**"
   ]
  },
  {
<<<<<<< HEAD
   "cell_type": "raw",
=======
   "cell_type": "code",
   "execution_count": 3,
>>>>>>> 065d7e12db1816bc03274892c63d523a7a537c27
   "metadata": {
    "collapsed": false,
    "slideshow": {
     "slide_type": "slide"
    }
   },
<<<<<<< HEAD
=======
   "outputs": [
    {
     "data": {
      "text/plain": [
       "cat1\n",
       "X   -0.151841\n",
       "Y   -0.216862\n",
       "Z    0.801755\n",
       "Name: a, dtype: float64"
      ]
     },
     "execution_count": 3,
     "metadata": {},
     "output_type": "execute_result"
    }
   ],
>>>>>>> 065d7e12db1816bc03274892c63d523a7a537c27
   "source": [
    "# mean\n",
    "group.mean()"
   ]
  },
  {
   "cell_type": "code",
   "execution_count": 4,
   "metadata": {
    "collapsed": false,
    "slideshow": {
     "slide_type": "slide"
    }
   },
   "outputs": [
    {
     "data": {
      "text/plain": [
       "cat1\n",
<<<<<<< HEAD
       "X   -0.606032\n",
       "Y    0.299442\n",
       "Z    1.652815\n",
=======
       "X   -0.151841\n",
       "Y   -0.216862\n",
       "Z    0.801755\n",
>>>>>>> 065d7e12db1816bc03274892c63d523a7a537c27
       "Name: a, dtype: float64"
      ]
     },
     "execution_count": 4,
     "metadata": {},
     "output_type": "execute_result"
    }
   ],
   "source": [
    "# median\n",
    "group.median()"
   ]
  },
  {
   "cell_type": "code",
   "execution_count": 5,
   "metadata": {
    "collapsed": false,
    "slideshow": {
     "slide_type": "slide"
    }
   },
   "outputs": [
    {
     "data": {
      "text/plain": [
       "cat1\n",
<<<<<<< HEAD
       "X   -1.212063\n",
       "Y    0.598884\n",
       "Z    1.652815\n",
=======
       "X   -0.303681\n",
       "Y   -0.433723\n",
       "Z    0.801755\n",
>>>>>>> 065d7e12db1816bc03274892c63d523a7a537c27
       "Name: a, dtype: float64"
      ]
     },
     "execution_count": 5,
     "metadata": {},
     "output_type": "execute_result"
    }
   ],
   "source": [
    "# sum\n",
    "group.sum()"
   ]
  },
  {
   "cell_type": "markdown",
   "metadata": {
    "slideshow": {
     "slide_type": "slide"
    }
   },
   "source": [
    "**We can use group keys that are series as well**\n",
    "\n",
    "For example:"
   ]
  },
  {
   "cell_type": "code",
   "execution_count": 6,
   "metadata": {
    "collapsed": false,
    "slideshow": {
     "slide_type": "slide"
    }
   },
   "outputs": [
    {
     "data": {
      "text/plain": [
<<<<<<< HEAD
       "LA  FEB   -1.002863\n",
       "    JAN   -0.223682\n",
       "NY  FEB    0.822566\n",
       "    JAN    0.721808\n",
=======
       "LA  FEB   -0.179764\n",
       "    JAN    0.061869\n",
       "NY  FEB   -0.495592\n",
       "    JAN    0.338919\n",
>>>>>>> 065d7e12db1816bc03274892c63d523a7a537c27
       "Name: a, dtype: float64"
      ]
     },
     "execution_count": 6,
     "metadata": {},
     "output_type": "execute_result"
    }
   ],
   "source": [
    "#We'll make some arrays for use as keys\n",
    "cities = np.array(['NY','LA','LA','NY','NY'])\n",
    "month = np.array(['JAN','FEB','JAN','FEB','JAN'])\n",
    "\n",
    "#Now using the data from dataset1, group the means by city and month\n",
    "df['a'].groupby([cities,month]).mean()"
   ]
  },
  {
   "cell_type": "markdown",
   "metadata": {
    "slideshow": {
     "slide_type": "slide"
    }
   },
   "source": [
    "This is an equivelent method for doing the same thing but you will find this to be much more common when dealing with DataFrames."
   ]
  },
  {
   "cell_type": "code",
   "execution_count": 7,
   "metadata": {
    "collapsed": false,
    "slideshow": {
     "slide_type": "-"
    }
   },
   "outputs": [
    {
     "data": {
      "text/html": [
       "<div style=\"max-height:1000px;max-width:1500px;overflow:auto;\">\n",
       "<table border=\"1\" class=\"dataframe\">\n",
       "  <thead>\n",
       "    <tr style=\"text-align: right;\">\n",
       "      <th></th>\n",
       "      <th>a</th>\n",
       "      <th>b</th>\n",
       "      <th>cat1</th>\n",
       "      <th>cat2</th>\n",
       "      <th>cities</th>\n",
       "      <th>month</th>\n",
       "    </tr>\n",
       "  </thead>\n",
       "  <tbody>\n",
       "    <tr>\n",
       "      <th>0</th>\n",
<<<<<<< HEAD
       "      <td>-0.209200</td>\n",
       "      <td>0.369342</td>\n",
=======
       "      <td>-0.123917</td>\n",
       "      <td>1.450438</td>\n",
>>>>>>> 065d7e12db1816bc03274892c63d523a7a537c27
       "      <td>X</td>\n",
       "      <td>alpha</td>\n",
       "      <td>NY</td>\n",
       "      <td>JAN</td>\n",
       "    </tr>\n",
       "    <tr>\n",
       "      <th>1</th>\n",
<<<<<<< HEAD
       "      <td>-1.002863</td>\n",
       "      <td>0.265011</td>\n",
=======
       "      <td>-0.179764</td>\n",
       "      <td>1.291485</td>\n",
>>>>>>> 065d7e12db1816bc03274892c63d523a7a537c27
       "      <td>X</td>\n",
       "      <td>beta</td>\n",
       "      <td>LA</td>\n",
       "      <td>FEB</td>\n",
       "    </tr>\n",
       "    <tr>\n",
       "      <th>2</th>\n",
<<<<<<< HEAD
       "      <td>-0.223682</td>\n",
       "      <td>-0.401754</td>\n",
=======
       "      <td>0.061869</td>\n",
       "      <td>-0.790737</td>\n",
>>>>>>> 065d7e12db1816bc03274892c63d523a7a537c27
       "      <td>Y</td>\n",
       "      <td>alpha</td>\n",
       "      <td>LA</td>\n",
       "      <td>JAN</td>\n",
       "    </tr>\n",
       "    <tr>\n",
       "      <th>3</th>\n",
<<<<<<< HEAD
       "      <td>0.822566</td>\n",
       "      <td>1.595559</td>\n",
=======
       "      <td>-0.495592</td>\n",
       "      <td>0.646384</td>\n",
>>>>>>> 065d7e12db1816bc03274892c63d523a7a537c27
       "      <td>Y</td>\n",
       "      <td>beta</td>\n",
       "      <td>NY</td>\n",
       "      <td>FEB</td>\n",
       "    </tr>\n",
       "    <tr>\n",
       "      <th>4</th>\n",
<<<<<<< HEAD
       "      <td>1.652815</td>\n",
       "      <td>-0.445738</td>\n",
=======
       "      <td>0.801755</td>\n",
       "      <td>-1.219681</td>\n",
>>>>>>> 065d7e12db1816bc03274892c63d523a7a537c27
       "      <td>Z</td>\n",
       "      <td>alpha</td>\n",
       "      <td>NY</td>\n",
       "      <td>JAN</td>\n",
       "    </tr>\n",
       "  </tbody>\n",
       "</table>\n",
       "</div>"
      ],
      "text/plain": [
       "          a         b cat1   cat2 cities month\n",
<<<<<<< HEAD
       "0 -0.209200  0.369342    X  alpha     NY   JAN\n",
       "1 -1.002863  0.265011    X   beta     LA   FEB\n",
       "2 -0.223682 -0.401754    Y  alpha     LA   JAN\n",
       "3  0.822566  1.595559    Y   beta     NY   FEB\n",
       "4  1.652815 -0.445738    Z  alpha     NY   JAN"
=======
       "0 -0.123917  1.450438    X  alpha     NY   JAN\n",
       "1 -0.179764  1.291485    X   beta     LA   FEB\n",
       "2  0.061869 -0.790737    Y  alpha     LA   JAN\n",
       "3 -0.495592  0.646384    Y   beta     NY   FEB\n",
       "4  0.801755 -1.219681    Z  alpha     NY   JAN"
>>>>>>> 065d7e12db1816bc03274892c63d523a7a537c27
      ]
     },
     "execution_count": 7,
     "metadata": {},
     "output_type": "execute_result"
    }
   ],
   "source": [
    "# adding cites and month to our DataFrame\n",
    "df['cities'] = np.array(['NY','LA','LA','NY','NY'])\n",
    "df['month'] = np.array(['JAN','FEB','JAN','FEB','JAN'])\n",
    "df"
   ]
  },
  {
   "cell_type": "code",
   "execution_count": 8,
   "metadata": {
    "collapsed": false
   },
   "outputs": [
    {
     "data": {
      "text/html": [
       "<div>\n",
       "<table border=\"1\" class=\"dataframe\">\n",
       "  <thead>\n",
       "    <tr style=\"text-align: right;\">\n",
       "      <th></th>\n",
       "      <th></th>\n",
       "      <th>a</th>\n",
       "    </tr>\n",
       "    <tr>\n",
       "      <th>cities</th>\n",
       "      <th>month</th>\n",
       "      <th></th>\n",
       "    </tr>\n",
       "  </thead>\n",
       "  <tbody>\n",
       "    <tr>\n",
       "      <th rowspan=\"2\" valign=\"top\">LA</th>\n",
       "      <th>FEB</th>\n",
       "      <td>-1.002863</td>\n",
       "    </tr>\n",
       "    <tr>\n",
       "      <th>JAN</th>\n",
       "      <td>-0.223682</td>\n",
       "    </tr>\n",
       "    <tr>\n",
       "      <th rowspan=\"2\" valign=\"top\">NY</th>\n",
       "      <th>FEB</th>\n",
       "      <td>0.822566</td>\n",
       "    </tr>\n",
       "    <tr>\n",
       "      <th>JAN</th>\n",
       "      <td>0.721808</td>\n",
       "    </tr>\n",
       "  </tbody>\n",
       "</table>\n",
       "</div>"
      ],
      "text/plain": [
<<<<<<< HEAD
       "                     a\n",
       "cities month          \n",
       "LA     FEB   -1.002863\n",
       "       JAN   -0.223682\n",
       "NY     FEB    0.822566\n",
       "       JAN    0.721808"
=======
       "cities  month\n",
       "LA      FEB     -0.179764\n",
       "        JAN      0.061869\n",
       "NY      FEB     -0.495592\n",
       "        JAN      0.338919\n",
       "Name: a, dtype: float64"
>>>>>>> 065d7e12db1816bc03274892c63d523a7a537c27
      ]
     },
     "execution_count": 8,
     "metadata": {},
     "output_type": "execute_result"
    }
   ],
   "source": [
    "df.groupby(['cities', 'month'])[['a']].mean()"
   ]
  },
  {
   "cell_type": "markdown",
   "metadata": {
    "slideshow": {
     "slide_type": "slide"
    }
   },
   "source": [
    "## For 1 minute:  Ask your group what would you expect to happen if you didn't specifiy a column / feature label?"
   ]
  },
  {
   "cell_type": "code",
   "execution_count": 9,
   "metadata": {
    "collapsed": false,
    "slideshow": {
     "slide_type": "fragment"
    }
   },
   "outputs": [
    {
     "data": {
      "text/html": [
       "<div style=\"max-height:1000px;max-width:1500px;overflow:auto;\">\n",
       "<table border=\"1\" class=\"dataframe\">\n",
       "  <thead>\n",
       "    <tr style=\"text-align: right;\">\n",
       "      <th></th>\n",
       "      <th></th>\n",
       "      <th>a</th>\n",
       "      <th>b</th>\n",
       "    </tr>\n",
       "    <tr>\n",
       "      <th>cities</th>\n",
       "      <th>month</th>\n",
       "      <th></th>\n",
       "      <th></th>\n",
       "    </tr>\n",
       "  </thead>\n",
       "  <tbody>\n",
       "    <tr>\n",
       "      <th rowspan=\"2\" valign=\"top\">LA</th>\n",
       "      <th>FEB</th>\n",
<<<<<<< HEAD
       "      <td>-1.002863</td>\n",
       "      <td>0.265011</td>\n",
       "    </tr>\n",
       "    <tr>\n",
       "      <th>JAN</th>\n",
       "      <td>-0.223682</td>\n",
       "      <td>-0.401754</td>\n",
=======
       "      <td>-0.179764</td>\n",
       "      <td>1.291485</td>\n",
       "    </tr>\n",
       "    <tr>\n",
       "      <th>JAN</th>\n",
       "      <td>0.061869</td>\n",
       "      <td>-0.790737</td>\n",
>>>>>>> 065d7e12db1816bc03274892c63d523a7a537c27
       "    </tr>\n",
       "    <tr>\n",
       "      <th rowspan=\"2\" valign=\"top\">NY</th>\n",
       "      <th>FEB</th>\n",
<<<<<<< HEAD
       "      <td>0.822566</td>\n",
       "      <td>1.595559</td>\n",
       "    </tr>\n",
       "    <tr>\n",
       "      <th>JAN</th>\n",
       "      <td>0.721808</td>\n",
       "      <td>-0.038198</td>\n",
=======
       "      <td>-0.495592</td>\n",
       "      <td>0.646384</td>\n",
       "    </tr>\n",
       "    <tr>\n",
       "      <th>JAN</th>\n",
       "      <td>0.338919</td>\n",
       "      <td>0.115378</td>\n",
>>>>>>> 065d7e12db1816bc03274892c63d523a7a537c27
       "    </tr>\n",
       "  </tbody>\n",
       "</table>\n",
       "</div>"
      ],
      "text/plain": [
       "                     a         b\n",
       "cities month                    \n",
<<<<<<< HEAD
       "LA     FEB   -1.002863  0.265011\n",
       "       JAN   -0.223682 -0.401754\n",
       "NY     FEB    0.822566  1.595559\n",
       "       JAN    0.721808 -0.038198"
=======
       "LA     FEB   -0.179764  1.291485\n",
       "       JAN    0.061869 -0.790737\n",
       "NY     FEB   -0.495592  0.646384\n",
       "       JAN    0.338919  0.115378"
>>>>>>> 065d7e12db1816bc03274892c63d523a7a537c27
      ]
     },
     "execution_count": 9,
     "metadata": {},
     "output_type": "execute_result"
    }
   ],
   "source": [
    "# It looks nicer for 1 thing!\n",
    "df.groupby(['cities', 'month']).mean()"
   ]
  },
  {
   "cell_type": "markdown",
   "metadata": {
    "slideshow": {
     "slide_type": "slide"
    }
   },
   "source": [
    "Grouping by a single variable can be done by specifying a variable key string."
   ]
  },
  {
   "cell_type": "code",
   "execution_count": 10,
   "metadata": {
    "collapsed": false
   },
   "outputs": [
    {
     "data": {
      "text/html": [
       "<div style=\"max-height:1000px;max-width:1500px;overflow:auto;\">\n",
       "<table border=\"1\" class=\"dataframe\">\n",
       "  <thead>\n",
       "    <tr style=\"text-align: right;\">\n",
       "      <th></th>\n",
       "      <th>a</th>\n",
       "      <th>b</th>\n",
       "    </tr>\n",
       "    <tr>\n",
       "      <th>cities</th>\n",
       "      <th></th>\n",
       "      <th></th>\n",
       "    </tr>\n",
       "  </thead>\n",
       "  <tbody>\n",
       "    <tr>\n",
       "      <th>LA</th>\n",
<<<<<<< HEAD
       "      <td>-0.613273</td>\n",
       "      <td>-0.068371</td>\n",
       "    </tr>\n",
       "    <tr>\n",
       "      <th>NY</th>\n",
       "      <td>0.755394</td>\n",
       "      <td>0.506388</td>\n",
=======
       "      <td>-0.058948</td>\n",
       "      <td>0.250374</td>\n",
       "    </tr>\n",
       "    <tr>\n",
       "      <th>NY</th>\n",
       "      <td>0.060749</td>\n",
       "      <td>0.292380</td>\n",
>>>>>>> 065d7e12db1816bc03274892c63d523a7a537c27
       "    </tr>\n",
       "  </tbody>\n",
       "</table>\n",
       "</div>"
      ],
      "text/plain": [
       "               a         b\n",
       "cities                    \n",
<<<<<<< HEAD
       "LA     -0.613273 -0.068371\n",
       "NY      0.755394  0.506388"
=======
       "LA     -0.058948  0.250374\n",
       "NY      0.060749  0.292380"
>>>>>>> 065d7e12db1816bc03274892c63d523a7a537c27
      ]
     },
     "execution_count": 10,
     "metadata": {},
     "output_type": "execute_result"
    }
   ],
   "source": [
    "df.groupby('cities').mean()"
   ]
  },
  {
   "cell_type": "code",
   "execution_count": 11,
   "metadata": {
    "collapsed": false,
    "slideshow": {
     "slide_type": "slide"
    }
   },
   "outputs": [
    {
     "data": {
      "text/html": [
       "<div style=\"max-height:1000px;max-width:1500px;overflow:auto;\">\n",
       "<table border=\"1\" class=\"dataframe\">\n",
       "  <thead>\n",
       "    <tr style=\"text-align: right;\">\n",
       "      <th></th>\n",
       "      <th>a</th>\n",
       "    </tr>\n",
       "    <tr>\n",
       "      <th>cities</th>\n",
       "      <th></th>\n",
       "    </tr>\n",
       "  </thead>\n",
       "  <tbody>\n",
       "    <tr>\n",
       "      <th>LA</th>\n",
       "      <td>2</td>\n",
       "    </tr>\n",
       "    <tr>\n",
       "      <th>NY</th>\n",
       "      <td>3</td>\n",
       "    </tr>\n",
       "  </tbody>\n",
       "</table>\n",
       "</div>"
      ],
      "text/plain": [
       "        a\n",
       "cities   \n",
       "LA      2\n",
       "NY      3"
      ]
     },
     "execution_count": 11,
     "metadata": {},
     "output_type": "execute_result"
    }
   ],
   "source": [
    "df.groupby('cities')[['a']].count()"
   ]
  },
  {
   "cell_type": "markdown",
   "metadata": {
    "slideshow": {
     "slide_type": "slide"
    }
   },
   "source": [
    "## 5 mins discuss with your group:  How might you use this in the future?"
   ]
  },
  {
   "cell_type": "markdown",
   "metadata": {
    "slideshow": {
     "slide_type": "slide"
    }
   },
   "source": [
    "**Getting Subsets By Index**\n",
    "\n",
    "Usually, we tell a DataFrame what we want by axis, to get a series.  with groups, we can still select columns, but the way we select subsets is a little different.  We must request them with a method for example:"
   ]
  },
  {
   "cell_type": "code",
   "execution_count": 12,
   "metadata": {
    "collapsed": false
   },
   "outputs": [
    {
     "data": {
      "text/html": [
       "<div style=\"max-height:1000px;max-width:1500px;overflow:auto;\">\n",
       "<table border=\"1\" class=\"dataframe\">\n",
       "  <thead>\n",
       "    <tr style=\"text-align: right;\">\n",
       "      <th></th>\n",
       "      <th>a</th>\n",
       "      <th>b</th>\n",
       "      <th>cat1</th>\n",
       "      <th>cat2</th>\n",
       "      <th>cities</th>\n",
       "      <th>month</th>\n",
       "    </tr>\n",
       "  </thead>\n",
       "  <tbody>\n",
       "    <tr>\n",
       "      <th>0</th>\n",
<<<<<<< HEAD
       "      <td>-0.077233</td>\n",
       "      <td>-1.581812</td>\n",
=======
       "      <td>-0.671556</td>\n",
       "      <td>0.699524</td>\n",
>>>>>>> 065d7e12db1816bc03274892c63d523a7a537c27
       "      <td>X</td>\n",
       "      <td>alpha</td>\n",
       "      <td>NY</td>\n",
       "      <td>JAN</td>\n",
       "    </tr>\n",
       "    <tr>\n",
       "      <th>1</th>\n",
<<<<<<< HEAD
       "      <td>-1.327008</td>\n",
       "      <td>0.506697</td>\n",
=======
       "      <td>0.451584</td>\n",
       "      <td>-2.253125</td>\n",
>>>>>>> 065d7e12db1816bc03274892c63d523a7a537c27
       "      <td>X</td>\n",
       "      <td>beta</td>\n",
       "      <td>LA</td>\n",
       "      <td>FEB</td>\n",
       "    </tr>\n",
       "    <tr>\n",
       "      <th>2</th>\n",
<<<<<<< HEAD
       "      <td>1.439350</td>\n",
       "      <td>-0.366506</td>\n",
=======
       "      <td>-1.053556</td>\n",
       "      <td>-0.586186</td>\n",
>>>>>>> 065d7e12db1816bc03274892c63d523a7a537c27
       "      <td>Y</td>\n",
       "      <td>alpha</td>\n",
       "      <td>LA</td>\n",
       "      <td>JAN</td>\n",
       "    </tr>\n",
       "    <tr>\n",
       "      <th>3</th>\n",
<<<<<<< HEAD
       "      <td>-0.616636</td>\n",
       "      <td>0.045582</td>\n",
=======
       "      <td>0.391043</td>\n",
       "      <td>1.456478</td>\n",
>>>>>>> 065d7e12db1816bc03274892c63d523a7a537c27
       "      <td>Y</td>\n",
       "      <td>beta</td>\n",
       "      <td>NY</td>\n",
       "      <td>FEB</td>\n",
       "    </tr>\n",
       "    <tr>\n",
       "      <th>4</th>\n",
<<<<<<< HEAD
       "      <td>2.590462</td>\n",
       "      <td>0.695941</td>\n",
=======
       "      <td>0.270942</td>\n",
       "      <td>0.533297</td>\n",
>>>>>>> 065d7e12db1816bc03274892c63d523a7a537c27
       "      <td>Z</td>\n",
       "      <td>alpha</td>\n",
       "      <td>NY</td>\n",
       "      <td>JAN</td>\n",
       "    </tr>\n",
       "  </tbody>\n",
       "</table>\n",
       "</div>"
      ],
      "text/plain": [
       "          a         b cat1   cat2 cities month\n",
<<<<<<< HEAD
       "0 -0.077233 -1.581812    X  alpha     NY   JAN\n",
       "1 -1.327008  0.506697    X   beta     LA   FEB\n",
       "2  1.439350 -0.366506    Y  alpha     LA   JAN\n",
       "3 -0.616636  0.045582    Y   beta     NY   FEB\n",
       "4  2.590462  0.695941    Z  alpha     NY   JAN"
=======
       "0 -0.671556  0.699524    X  alpha     NY   JAN\n",
       "1  0.451584 -2.253125    X   beta     LA   FEB\n",
       "2 -1.053556 -0.586186    Y  alpha     LA   JAN\n",
       "3  0.391043  1.456478    Y   beta     NY   FEB\n",
       "4  0.270942  0.533297    Z  alpha     NY   JAN"
>>>>>>> 065d7e12db1816bc03274892c63d523a7a537c27
      ]
     },
     "execution_count": 12,
     "metadata": {},
     "output_type": "execute_result"
    }
   ],
   "source": [
    "# Re-init our test data\n",
    "df = pd.DataFrame({'cat1':['X','X','Y','Y','Z'],\n",
    "                   'cat2':['alpha','beta','alpha','beta','alpha'],\n",
    "                   'a':np.random.randn(5),\n",
    "                   'b':np.random.randn(5)})\n",
    "\n",
    "df['cities'] = np.array(['NY','LA','LA','NY','NY'])\n",
    "df['month'] = np.array(['JAN','FEB','JAN','FEB','JAN'])\n",
    "\n",
    "df"
   ]
  },
  {
   "cell_type": "code",
   "execution_count": 13,
   "metadata": {
    "collapsed": false,
    "slideshow": {
     "slide_type": "slide"
    }
   },
   "outputs": [
    {
     "data": {
      "text/plain": [
       "cities  cat2 \n",
       "LA      alpha    1\n",
       "        beta     1\n",
       "NY      alpha    2\n",
       "        beta     1\n",
       "dtype: int64"
      ]
     },
     "execution_count": 13,
     "metadata": {},
     "output_type": "execute_result"
    }
   ],
   "source": [
    "# our group by values of cat2, inside of groups by cities\n",
    "df.groupby([\"cities\", \"cat2\"]).size()"
   ]
  },
  {
   "cell_type": "code",
   "execution_count": 14,
   "metadata": {
    "collapsed": false
   },
   "outputs": [
    {
     "name": "stdout",
     "output_type": "stream",
     "text": [
      "NY\n",
      "LA\n"
     ]
    }
   ],
   "source": [
    "# Fetching group subset pairs\n",
    "my_group = df.groupby([\"cities\"])\n",
    "for c in my_group.groups: \n",
    "    print c"
   ]
  },
  {
   "cell_type": "code",
   "execution_count": 15,
   "metadata": {
    "collapsed": false
   },
   "outputs": [
    {
     "data": {
      "text/html": [
       "<div>\n",
       "<table border=\"1\" class=\"dataframe\">\n",
       "  <thead>\n",
       "    <tr style=\"text-align: right;\">\n",
       "      <th></th>\n",
       "      <th>a</th>\n",
       "      <th>b</th>\n",
       "      <th>cat1</th>\n",
       "      <th>cat2</th>\n",
       "      <th>cities</th>\n",
       "      <th>month</th>\n",
       "    </tr>\n",
       "  </thead>\n",
       "  <tbody>\n",
       "    <tr>\n",
       "      <th>1</th>\n",
       "      <td>-1.327008</td>\n",
       "      <td>0.506697</td>\n",
       "      <td>X</td>\n",
       "      <td>beta</td>\n",
       "      <td>LA</td>\n",
       "      <td>FEB</td>\n",
       "    </tr>\n",
       "    <tr>\n",
       "      <th>2</th>\n",
       "      <td>1.439350</td>\n",
       "      <td>-0.366506</td>\n",
       "      <td>Y</td>\n",
       "      <td>alpha</td>\n",
       "      <td>LA</td>\n",
       "      <td>JAN</td>\n",
       "    </tr>\n",
       "  </tbody>\n",
       "</table>\n",
       "</div>"
      ],
      "text/plain": [
       "          a         b cat1   cat2 cities month\n",
       "1 -1.327008  0.506697    X   beta     LA   FEB\n",
       "2  1.439350 -0.366506    Y  alpha     LA   JAN"
      ]
     },
     "execution_count": 15,
     "metadata": {},
     "output_type": "execute_result"
    }
   ],
   "source": [
    "my_group.get_group('LA')"
   ]
  },
  {
   "cell_type": "code",
   "execution_count": 16,
   "metadata": {
    "collapsed": false,
    "slideshow": {
     "slide_type": "slide"
    }
   },
   "outputs": [
    {
     "data": {
      "text/html": [
       "<div>\n",
       "<table border=\"1\" class=\"dataframe\">\n",
       "  <thead>\n",
       "    <tr style=\"text-align: right;\">\n",
       "      <th></th>\n",
       "      <th>a</th>\n",
       "      <th>b</th>\n",
       "      <th>cat1</th>\n",
       "      <th>cat2</th>\n",
       "      <th>cities</th>\n",
       "      <th>month</th>\n",
       "    </tr>\n",
       "  </thead>\n",
       "  <tbody>\n",
       "    <tr>\n",
       "      <th>0</th>\n",
       "      <td>-0.077233</td>\n",
       "      <td>-1.581812</td>\n",
       "      <td>X</td>\n",
       "      <td>alpha</td>\n",
       "      <td>NY</td>\n",
       "      <td>JAN</td>\n",
       "    </tr>\n",
       "    <tr>\n",
       "      <th>3</th>\n",
       "      <td>-0.616636</td>\n",
       "      <td>0.045582</td>\n",
       "      <td>Y</td>\n",
       "      <td>beta</td>\n",
       "      <td>NY</td>\n",
       "      <td>FEB</td>\n",
       "    </tr>\n",
       "    <tr>\n",
       "      <th>4</th>\n",
       "      <td>2.590462</td>\n",
       "      <td>0.695941</td>\n",
       "      <td>Z</td>\n",
       "      <td>alpha</td>\n",
       "      <td>NY</td>\n",
       "      <td>JAN</td>\n",
       "    </tr>\n",
       "  </tbody>\n",
       "</table>\n",
       "</div>"
      ],
      "text/plain": [
       "          a         b cat1   cat2 cities month\n",
       "0 -0.077233 -1.581812    X  alpha     NY   JAN\n",
       "3 -0.616636  0.045582    Y   beta     NY   FEB\n",
       "4  2.590462  0.695941    Z  alpha     NY   JAN"
      ]
     },
     "execution_count": 16,
     "metadata": {},
     "output_type": "execute_result"
    }
   ],
   "source": [
    "# Say we want NY only from our subset\n",
    "my_group.get_group('NY')"
   ]
  },
  {
   "cell_type": "code",
   "execution_count": 17,
   "metadata": {
    "collapsed": false
   },
   "outputs": [
    {
     "name": "stdout",
     "output_type": "stream",
     "text": [
      "('NY', 'beta')\n",
      "('NY', 'alpha')\n",
      "('LA', 'beta')\n",
      "('LA', 'alpha')\n"
     ]
    }
   ],
   "source": [
    "my_group = df.groupby([\"cities\", \"cat2\"])\n",
    "for c in my_group.groups: \n",
    "    print c"
   ]
  },
  {
   "cell_type": "markdown",
   "metadata": {
    "slideshow": {
     "slide_type": "slide"
    }
   },
   "source": [
    "## 2-5 minutes try to do this with a partner:\n",
    "\n",
    " - Make a group object using citites and cat2\n",
    " - Select the cities subgroup \"NY\" with cat2 values \"alpha\"\n",
    " - Use get_group() on your group object, and pass a tuple with 2 values as the parameter\n",
    "   - The first tuple element is the value you are looking for in \"cities\" index\n",
    "   - The 2nd tuple element is the value you are looking for in \"cat2\""
   ]
  },
  {
   "cell_type": "code",
   "execution_count": 18,
   "metadata": {
    "collapsed": false
   },
   "outputs": [
    {
     "data": {
      "text/html": [
       "<div>\n",
       "<table border=\"1\" class=\"dataframe\">\n",
       "  <thead>\n",
       "    <tr style=\"text-align: right;\">\n",
       "      <th></th>\n",
       "      <th>a</th>\n",
       "      <th>b</th>\n",
       "      <th>cat1</th>\n",
       "      <th>cat2</th>\n",
       "      <th>cities</th>\n",
       "      <th>month</th>\n",
       "    </tr>\n",
       "  </thead>\n",
       "  <tbody>\n",
       "    <tr>\n",
       "      <th>0</th>\n",
       "      <td>-0.077233</td>\n",
       "      <td>-1.581812</td>\n",
       "      <td>X</td>\n",
       "      <td>alpha</td>\n",
       "      <td>NY</td>\n",
       "      <td>JAN</td>\n",
       "    </tr>\n",
       "    <tr>\n",
       "      <th>4</th>\n",
       "      <td>2.590462</td>\n",
       "      <td>0.695941</td>\n",
       "      <td>Z</td>\n",
       "      <td>alpha</td>\n",
       "      <td>NY</td>\n",
       "      <td>JAN</td>\n",
       "    </tr>\n",
       "  </tbody>\n",
       "</table>\n",
       "</div>"
      ],
      "text/plain": [
       "          a         b cat1   cat2 cities month\n",
       "0 -0.077233 -1.581812    X  alpha     NY   JAN\n",
       "4  2.590462  0.695941    Z  alpha     NY   JAN"
      ]
     },
     "execution_count": 18,
     "metadata": {},
     "output_type": "execute_result"
    }
   ],
   "source": [
    "my_group.get_group(('NY', 'alpha'))"
   ]
  },
  {
   "cell_type": "markdown",
   "metadata": {
    "slideshow": {
     "slide_type": "slide"
    }
   },
   "source": [
    "## Explain what happened "
   ]
  },
  {
   "cell_type": "markdown",
   "metadata": {
    "slideshow": {
     "slide_type": "slide"
    }
   },
   "source": [
    "More useful info about groups and selection in the [Pandas Cookbook docs](http://pandas.pydata.org/pandas-docs/stable/cookbook.html)"
   ]
  },
  {
   "cell_type": "markdown",
   "metadata": {
    "slideshow": {
     "slide_type": "slide"
    }
   },
   "source": [
    "A quick note about two popular aggregates that seem the same, but are not!\n",
    "\n",
    ".count() vs .size()"
   ]
  },
  {
   "cell_type": "code",
   "execution_count": 19,
   "metadata": {
    "collapsed": false,
    "slideshow": {
     "slide_type": "slide"
    }
   },
   "outputs": [
    {
     "data": {
      "text/html": [
       "<div>\n",
       "<table border=\"1\" class=\"dataframe\">\n",
       "  <thead>\n",
       "    <tr style=\"text-align: right;\">\n",
       "      <th></th>\n",
       "      <th>a</th>\n",
       "      <th>b</th>\n",
       "      <th>cat1</th>\n",
       "      <th>cat2</th>\n",
       "      <th>month</th>\n",
       "    </tr>\n",
       "    <tr>\n",
       "      <th>cities</th>\n",
       "      <th></th>\n",
       "      <th></th>\n",
       "      <th></th>\n",
       "      <th></th>\n",
       "      <th></th>\n",
       "    </tr>\n",
       "  </thead>\n",
       "  <tbody>\n",
       "    <tr>\n",
       "      <th>LA</th>\n",
       "      <td>2</td>\n",
       "      <td>2</td>\n",
       "      <td>2</td>\n",
       "      <td>2</td>\n",
       "      <td>2</td>\n",
       "    </tr>\n",
       "    <tr>\n",
       "      <th>NY</th>\n",
       "      <td>3</td>\n",
       "      <td>3</td>\n",
       "      <td>3</td>\n",
       "      <td>3</td>\n",
       "      <td>3</td>\n",
       "    </tr>\n",
       "  </tbody>\n",
       "</table>\n",
       "</div>"
      ],
      "text/plain": [
       "        a  b  cat1  cat2  month\n",
       "cities                         \n",
       "LA      2  2     2     2      2\n",
       "NY      3  3     3     3      3"
      ]
     },
     "execution_count": 19,
     "metadata": {},
     "output_type": "execute_result"
    }
   ],
   "source": [
    "# Gives us counts of record rows repeated over variable columns\n",
    "df.groupby('cities').count()"
   ]
  },
  {
   "cell_type": "code",
   "execution_count": 20,
   "metadata": {
    "collapsed": false,
    "slideshow": {
     "slide_type": "slide"
    }
   },
   "outputs": [
    {
     "data": {
      "text/plain": [
       "cities\n",
       "LA    2\n",
       "NY    3\n",
       "dtype: int64"
      ]
     },
     "execution_count": 20,
     "metadata": {},
     "output_type": "execute_result"
    }
   ],
   "source": [
    "# .size gives us counts as series, not repeated values over column variables\n",
    "df.groupby('cities').size()"
   ]
  },
  {
   "cell_type": "markdown",
   "metadata": {},
   "source": [
    "With a Pandas **group object**, .count(), .size(), .sum(), .mean(), .std() are some very common ways to apply calcuation operations in aggregate to subsets of your data.\n",
    "\n",
    "[Pandas .groupby docs](http://pandas.pydata.org/pandas-docs/version/0.15.2/groupby.html)\n"
   ]
  },
  {
   "cell_type": "code",
   "execution_count": 21,
   "metadata": {
    "collapsed": false,
    "slideshow": {
     "slide_type": "slide"
    }
   },
   "outputs": [
    {
     "data": {
      "text/html": [
       "<div>\n",
       "<table border=\"1\" class=\"dataframe\">\n",
       "  <thead>\n",
       "    <tr style=\"text-align: right;\">\n",
       "      <th></th>\n",
       "      <th>.groupby() aggregate functions</th>\n",
       "    </tr>\n",
       "  </thead>\n",
       "  <tbody>\n",
       "    <tr>\n",
       "      <th>0</th>\n",
       "      <td>filter</td>\n",
       "    </tr>\n",
       "    <tr>\n",
       "      <th>1</th>\n",
       "      <td>get_group</td>\n",
       "    </tr>\n",
       "    <tr>\n",
       "      <th>2</th>\n",
       "      <td>height</td>\n",
       "    </tr>\n",
       "    <tr>\n",
       "      <th>3</th>\n",
       "      <td>last</td>\n",
       "    </tr>\n",
       "    <tr>\n",
       "      <th>4</th>\n",
       "      <td>median</td>\n",
       "    </tr>\n",
       "    <tr>\n",
       "      <th>5</th>\n",
       "      <td>ngroups</td>\n",
       "    </tr>\n",
       "    <tr>\n",
       "      <th>6</th>\n",
       "      <td>plot</td>\n",
       "    </tr>\n",
       "    <tr>\n",
       "      <th>7</th>\n",
       "      <td>rank</td>\n",
       "    </tr>\n",
       "    <tr>\n",
       "      <th>8</th>\n",
       "      <td>std</td>\n",
       "    </tr>\n",
       "    <tr>\n",
       "      <th>9</th>\n",
       "      <td>transform</td>\n",
       "    </tr>\n",
       "    <tr>\n",
       "      <th>10</th>\n",
       "      <td>aggregate</td>\n",
       "    </tr>\n",
       "    <tr>\n",
       "      <th>11</th>\n",
       "      <td>count</td>\n",
       "    </tr>\n",
       "    <tr>\n",
       "      <th>12</th>\n",
       "      <td>cumprod</td>\n",
       "    </tr>\n",
       "    <tr>\n",
       "      <th>13</th>\n",
       "      <td>dtype</td>\n",
       "    </tr>\n",
       "    <tr>\n",
       "      <th>14</th>\n",
       "      <td>first</td>\n",
       "    </tr>\n",
       "    <tr>\n",
       "      <th>15</th>\n",
       "      <td>groups</td>\n",
       "    </tr>\n",
       "    <tr>\n",
       "      <th>16</th>\n",
       "      <td>hist</td>\n",
       "    </tr>\n",
       "    <tr>\n",
       "      <th>17</th>\n",
       "      <td>max</td>\n",
       "    </tr>\n",
       "    <tr>\n",
       "      <th>18</th>\n",
       "      <td>min</td>\n",
       "    </tr>\n",
       "    <tr>\n",
       "      <th>19</th>\n",
       "      <td>nth</td>\n",
       "    </tr>\n",
       "    <tr>\n",
       "      <th>20</th>\n",
       "      <td>prod</td>\n",
       "    </tr>\n",
       "    <tr>\n",
       "      <th>21</th>\n",
       "      <td>resample</td>\n",
       "    </tr>\n",
       "    <tr>\n",
       "      <th>22</th>\n",
       "      <td>sum</td>\n",
       "    </tr>\n",
       "    <tr>\n",
       "      <th>23</th>\n",
       "      <td>var</td>\n",
       "    </tr>\n",
       "    <tr>\n",
       "      <th>24</th>\n",
       "      <td>apply</td>\n",
       "    </tr>\n",
       "    <tr>\n",
       "      <th>25</th>\n",
       "      <td>cummax</td>\n",
       "    </tr>\n",
       "    <tr>\n",
       "      <th>26</th>\n",
       "      <td>cumsum</td>\n",
       "    </tr>\n",
       "    <tr>\n",
       "      <th>27</th>\n",
       "      <td>fillna</td>\n",
       "    </tr>\n",
       "    <tr>\n",
       "      <th>28</th>\n",
       "      <td>gender</td>\n",
       "    </tr>\n",
       "    <tr>\n",
       "      <th>29</th>\n",
       "      <td>head</td>\n",
       "    </tr>\n",
       "    <tr>\n",
       "      <th>30</th>\n",
       "      <td>indices</td>\n",
       "    </tr>\n",
       "    <tr>\n",
       "      <th>31</th>\n",
       "      <td>mean</td>\n",
       "    </tr>\n",
       "    <tr>\n",
       "      <th>32</th>\n",
       "      <td>name</td>\n",
       "    </tr>\n",
       "    <tr>\n",
       "      <th>33</th>\n",
       "      <td>ohlc</td>\n",
       "    </tr>\n",
       "    <tr>\n",
       "      <th>34</th>\n",
       "      <td>quantile</td>\n",
       "    </tr>\n",
       "    <tr>\n",
       "      <th>35</th>\n",
       "      <td>size</td>\n",
       "    </tr>\n",
       "    <tr>\n",
       "      <th>36</th>\n",
       "      <td>tail</td>\n",
       "    </tr>\n",
       "    <tr>\n",
       "      <th>37</th>\n",
       "      <td>weight</td>\n",
       "    </tr>\n",
       "  </tbody>\n",
       "</table>\n",
       "</div>"
      ],
      "text/plain": [
       "   .groupby() aggregate functions\n",
       "0                          filter\n",
       "1                       get_group\n",
       "2                          height\n",
       "3                            last\n",
       "4                          median\n",
       "5                         ngroups\n",
       "6                            plot\n",
       "7                            rank\n",
       "8                             std\n",
       "9                       transform\n",
       "10                      aggregate\n",
       "11                          count\n",
       "12                        cumprod\n",
       "13                          dtype\n",
       "14                          first\n",
       "15                         groups\n",
       "16                           hist\n",
       "17                            max\n",
       "18                            min\n",
       "19                            nth\n",
       "20                           prod\n",
       "21                       resample\n",
       "22                            sum\n",
       "23                            var\n",
       "24                          apply\n",
       "25                         cummax\n",
       "26                         cumsum\n",
       "27                         fillna\n",
       "28                         gender\n",
       "29                           head\n",
       "30                        indices\n",
       "31                           mean\n",
       "32                           name\n",
       "33                           ohlc\n",
       "34                       quantile\n",
       "35                           size\n",
       "36                           tail\n",
       "37                         weight"
      ]
     },
     "execution_count": 21,
     "metadata": {},
     "output_type": "execute_result"
    }
   ],
   "source": [
    "# Other group by methods include -- \n",
    "# sorry was too pressed for time to manually format this list\n",
    "\n",
    "groupby_list = \"\"\"\n",
    "gb.filter  gb.get_group  gb.height  gb.last gb.median gb.ngroups    gb.plot       gb.rank       gb.std        gb.transform\n",
    "gb.aggregate  gb.count      gb.cumprod    gb.dtype      gb.first      gb.groups     gb.hist       gb.max        gb.min        gb.nth        gb.prod       gb.resample   gb.sum        gb.var\n",
    "gb.apply      gb.cummax     gb.cumsum     gb.fillna     gb.gender     gb.head       gb.indices    gb.mean       gb.name       gb.ohlc       gb.quantile   gb.size       gb.tail       gb.weight\n",
    "\"\"\"\n",
    "\n",
    "cleaned_list = map(lambda item: item.replace(\"gb\", \"\").strip(), groupby_list.split(\".\")[1:])\n",
    "pd.DataFrame(cleaned_list, columns=[\".groupby() aggregate functions\"])"
   ]
  },
  {
   "cell_type": "markdown",
   "metadata": {
    "slideshow": {
     "slide_type": "slide"
    }
   },
   "source": [
    "# (basic) Plotting with Groups\n"
   ]
  },
  {
   "cell_type": "code",
   "execution_count": 22,
   "metadata": {
    "collapsed": false
   },
   "outputs": [
    {
     "data": {
      "text/html": [
       "<div>\n",
       "<table border=\"1\" class=\"dataframe\">\n",
       "  <thead>\n",
       "    <tr style=\"text-align: right;\">\n",
       "      <th></th>\n",
       "      <th>a</th>\n",
       "      <th>b</th>\n",
       "      <th>cat1</th>\n",
       "      <th>cat2</th>\n",
       "      <th>cities</th>\n",
       "      <th>month</th>\n",
       "    </tr>\n",
       "  </thead>\n",
       "  <tbody>\n",
       "    <tr>\n",
       "      <th>0</th>\n",
       "      <td>-0.077233</td>\n",
       "      <td>-1.581812</td>\n",
       "      <td>X</td>\n",
       "      <td>alpha</td>\n",
       "      <td>NY</td>\n",
       "      <td>JAN</td>\n",
       "    </tr>\n",
       "    <tr>\n",
       "      <th>1</th>\n",
       "      <td>-1.327008</td>\n",
       "      <td>0.506697</td>\n",
       "      <td>X</td>\n",
       "      <td>beta</td>\n",
       "      <td>LA</td>\n",
       "      <td>FEB</td>\n",
       "    </tr>\n",
       "    <tr>\n",
       "      <th>2</th>\n",
       "      <td>1.439350</td>\n",
       "      <td>-0.366506</td>\n",
       "      <td>Y</td>\n",
       "      <td>alpha</td>\n",
       "      <td>LA</td>\n",
       "      <td>JAN</td>\n",
       "    </tr>\n",
       "    <tr>\n",
       "      <th>3</th>\n",
       "      <td>-0.616636</td>\n",
       "      <td>0.045582</td>\n",
       "      <td>Y</td>\n",
       "      <td>beta</td>\n",
       "      <td>NY</td>\n",
       "      <td>FEB</td>\n",
       "    </tr>\n",
       "    <tr>\n",
       "      <th>4</th>\n",
       "      <td>2.590462</td>\n",
       "      <td>0.695941</td>\n",
       "      <td>Z</td>\n",
       "      <td>alpha</td>\n",
       "      <td>NY</td>\n",
       "      <td>JAN</td>\n",
       "    </tr>\n",
       "  </tbody>\n",
       "</table>\n",
       "</div>"
      ],
      "text/plain": [
       "          a         b cat1   cat2 cities month\n",
       "0 -0.077233 -1.581812    X  alpha     NY   JAN\n",
       "1 -1.327008  0.506697    X   beta     LA   FEB\n",
       "2  1.439350 -0.366506    Y  alpha     LA   JAN\n",
       "3 -0.616636  0.045582    Y   beta     NY   FEB\n",
       "4  2.590462  0.695941    Z  alpha     NY   JAN"
      ]
     },
     "execution_count": 22,
     "metadata": {},
     "output_type": "execute_result"
    }
   ],
   "source": [
    "# This is a reminder of what our dataframe looks like\n",
    "df"
   ]
  },
  {
   "cell_type": "code",
   "execution_count": 23,
   "metadata": {
    "collapsed": false,
    "slideshow": {
     "slide_type": "slide"
    }
   },
   "outputs": [
    {
     "data": {
      "text/plain": [
       "cities\n",
       "LA    2\n",
       "NY    3\n",
       "Name: cat2, dtype: int64"
      ]
     },
     "execution_count": 23,
     "metadata": {},
     "output_type": "execute_result"
    }
   ],
   "source": [
    "# We want to see the count of alpha + beta values, given cities\n",
    "df.groupby(\"cities\")['cat2'].count()"
   ]
  },
  {
   "cell_type": "code",
   "execution_count": 24,
   "metadata": {
    "collapsed": false,
    "scrolled": true
   },
   "outputs": [
    {
     "data": {
      "text/plain": [
       "<matplotlib.axes._subplots.AxesSubplot at 0x1130b6f90>"
      ]
     },
     "execution_count": 24,
     "metadata": {},
     "output_type": "execute_result"
    }
   ],
   "source": [
    "df.groupby(\"cities\")['cat2'].count().plot(kind=\"bar\")"
   ]
  },
  {
   "cell_type": "markdown",
   "metadata": {
    "slideshow": {
     "slide_type": "slide"
    }
   },
   "source": [
    "## Who remembers how to groupby with more than one variable?"
   ]
  },
  {
   "cell_type": "code",
   "execution_count": 25,
   "metadata": {
    "collapsed": false,
    "slideshow": {
     "slide_type": "fragment"
    }
   },
   "outputs": [
    {
     "data": {
      "text/plain": [
       "<matplotlib.axes._subplots.AxesSubplot at 0x1130b6f90>"
      ]
     },
     "execution_count": 25,
     "metadata": {},
     "output_type": "execute_result"
    }
   ],
   "source": [
    "df.groupby([\"cities\",\"cat2\"]).size().plot(kind=\"bar\")"
   ]
  },
  {
   "cell_type": "code",
   "execution_count": 26,
   "metadata": {
    "collapsed": false,
    "slideshow": {
     "slide_type": "slide"
    }
   },
   "outputs": [
    {
     "data": {
      "text/plain": [
       "<matplotlib.axes._subplots.AxesSubplot at 0x1194b9fd0>"
      ]
     },
     "execution_count": 26,
     "metadata": {},
     "output_type": "execute_result"
    }
   ],
   "source": [
    "# Unstack will pull-apart group values for easy display\n",
    "df.groupby([\"cities\",\"cat2\"]).size().unstack().plot(kind=\"bar\")"
   ]
  },
  {
   "cell_type": "code",
   "execution_count": 27,
   "metadata": {
    "collapsed": false,
    "slideshow": {
     "slide_type": "slide"
    }
   },
   "outputs": [
    {
     "data": {
      "text/plain": [
       "<matplotlib.axes._subplots.AxesSubplot at 0x119571a10>"
      ]
     },
     "execution_count": 27,
     "metadata": {},
     "output_type": "execute_result"
    }
   ],
   "source": [
    "# Stacking isn't a bad choice for fewer categories but can look cluttery with lots of categories\n",
    "df.groupby([\"cities\",\"cat2\"]).size().unstack().plot(kind=\"bar\", stacked=True)"
   ]
  },
  {
   "cell_type": "markdown",
   "metadata": {
    "slideshow": {
     "slide_type": "slide"
    }
   },
   "source": [
    "Bar charts are great for displaying quanitites with groups and understanding qantity / size within subsets.  This is only an \"introduction\".  There are many ways to plot things."
   ]
  },
  {
   "cell_type": "code",
   "execution_count": 28,
   "metadata": {
    "collapsed": false
   },
   "outputs": [
    {
     "data": {
      "text/plain": [
       "<matplotlib.legend.Legend at 0x119497e50>"
      ]
     },
     "execution_count": 28,
     "metadata": {},
     "output_type": "execute_result"
    }
   ],
   "source": [
    "import matplotlib.pyplot as plt\n",
    "\n",
    "classes = [\"class 1\"] * 5 + [\"class 2\"] * 5\n",
    "vals = [1,3,5,1,3] + [2,6,7,5,2]\n",
    "p_df = pd.DataFrame({\"class\": classes, \"vals\": vals})\n",
    "\n",
    "fig, ax = plt.subplots(figsize=(8,6))\n",
    "for label, df in p_df.groupby('class'):\n",
    "    df.vals.plot(kind=\"kde\", ax=ax, label=label)\n",
    "plt.legend()"
   ]
  },
  {
   "cell_type": "code",
   "execution_count": 30,
   "metadata": {
    "collapsed": false,
    "slideshow": {
     "slide_type": "slide"
    }
   },
   "outputs": [
    {
     "ename": "KeyError",
     "evalue": "'cities'",
     "output_type": "error",
     "traceback": [
      "\u001b[0;31m---------------------------------------------------------------------------\u001b[0m",
      "\u001b[0;31mKeyError\u001b[0m                                  Traceback (most recent call last)",
      "\u001b[0;32m<ipython-input-30-c72ffe0b5a60>\u001b[0m in \u001b[0;36m<module>\u001b[0;34m()\u001b[0m\n\u001b[1;32m      1\u001b[0m \u001b[0;31m# This could be labled better but notice we can also plot negative values\u001b[0m\u001b[0;34m\u001b[0m\u001b[0;34m\u001b[0m\u001b[0m\n\u001b[0;32m----> 2\u001b[0;31m \u001b[0mdf\u001b[0m\u001b[0;34m.\u001b[0m\u001b[0mgroupby\u001b[0m\u001b[0;34m(\u001b[0m\u001b[0;34m\"cities\"\u001b[0m\u001b[0;34m)\u001b[0m\u001b[0;34m.\u001b[0m\u001b[0mplot\u001b[0m\u001b[0;34m(\u001b[0m\u001b[0mkind\u001b[0m\u001b[0;34m=\u001b[0m\u001b[0;34m\"barh\"\u001b[0m\u001b[0;34m)\u001b[0m\u001b[0;34m\u001b[0m\u001b[0m\n\u001b[0m",
      "\u001b[0;32m/Users/Paul/anaconda/lib/python2.7/site-packages/pandas/core/generic.pyc\u001b[0m in \u001b[0;36mgroupby\u001b[0;34m(self, by, axis, level, as_index, sort, group_keys, squeeze)\u001b[0m\n\u001b[1;32m   3746\u001b[0m         \u001b[0maxis\u001b[0m \u001b[0;34m=\u001b[0m \u001b[0mself\u001b[0m\u001b[0;34m.\u001b[0m\u001b[0m_get_axis_number\u001b[0m\u001b[0;34m(\u001b[0m\u001b[0maxis\u001b[0m\u001b[0;34m)\u001b[0m\u001b[0;34m\u001b[0m\u001b[0m\n\u001b[1;32m   3747\u001b[0m         return groupby(self, by=by, axis=axis, level=level, as_index=as_index,\n\u001b[0;32m-> 3748\u001b[0;31m                        sort=sort, group_keys=group_keys, squeeze=squeeze)\n\u001b[0m\u001b[1;32m   3749\u001b[0m \u001b[0;34m\u001b[0m\u001b[0m\n\u001b[1;32m   3750\u001b[0m     \u001b[0;32mdef\u001b[0m \u001b[0masfreq\u001b[0m\u001b[0;34m(\u001b[0m\u001b[0mself\u001b[0m\u001b[0;34m,\u001b[0m \u001b[0mfreq\u001b[0m\u001b[0;34m,\u001b[0m \u001b[0mmethod\u001b[0m\u001b[0;34m=\u001b[0m\u001b[0mNone\u001b[0m\u001b[0;34m,\u001b[0m \u001b[0mhow\u001b[0m\u001b[0;34m=\u001b[0m\u001b[0mNone\u001b[0m\u001b[0;34m,\u001b[0m \u001b[0mnormalize\u001b[0m\u001b[0;34m=\u001b[0m\u001b[0mFalse\u001b[0m\u001b[0;34m)\u001b[0m\u001b[0;34m:\u001b[0m\u001b[0;34m\u001b[0m\u001b[0m\n",
      "\u001b[0;32m/Users/Paul/anaconda/lib/python2.7/site-packages/pandas/core/groupby.pyc\u001b[0m in \u001b[0;36mgroupby\u001b[0;34m(obj, by, **kwds)\u001b[0m\n\u001b[1;32m   1426\u001b[0m         \u001b[0;32mraise\u001b[0m \u001b[0mTypeError\u001b[0m\u001b[0;34m(\u001b[0m\u001b[0;34m'invalid type: %s'\u001b[0m \u001b[0;34m%\u001b[0m \u001b[0mtype\u001b[0m\u001b[0;34m(\u001b[0m\u001b[0mobj\u001b[0m\u001b[0;34m)\u001b[0m\u001b[0;34m)\u001b[0m\u001b[0;34m\u001b[0m\u001b[0m\n\u001b[1;32m   1427\u001b[0m \u001b[0;34m\u001b[0m\u001b[0m\n\u001b[0;32m-> 1428\u001b[0;31m     \u001b[0;32mreturn\u001b[0m \u001b[0mklass\u001b[0m\u001b[0;34m(\u001b[0m\u001b[0mobj\u001b[0m\u001b[0;34m,\u001b[0m \u001b[0mby\u001b[0m\u001b[0;34m,\u001b[0m \u001b[0;34m**\u001b[0m\u001b[0mkwds\u001b[0m\u001b[0;34m)\u001b[0m\u001b[0;34m\u001b[0m\u001b[0m\n\u001b[0m\u001b[1;32m   1429\u001b[0m \u001b[0;34m\u001b[0m\u001b[0m\n\u001b[1;32m   1430\u001b[0m \u001b[0;34m\u001b[0m\u001b[0m\n",
      "\u001b[0;32m/Users/Paul/anaconda/lib/python2.7/site-packages/pandas/core/groupby.pyc\u001b[0m in \u001b[0;36m__init__\u001b[0;34m(self, obj, keys, axis, level, grouper, exclusions, selection, as_index, sort, group_keys, squeeze)\u001b[0m\n\u001b[1;32m    343\u001b[0m         \u001b[0;32mif\u001b[0m \u001b[0mgrouper\u001b[0m \u001b[0;32mis\u001b[0m \u001b[0mNone\u001b[0m\u001b[0;34m:\u001b[0m\u001b[0;34m\u001b[0m\u001b[0m\n\u001b[1;32m    344\u001b[0m             grouper, exclusions, obj = _get_grouper(obj, keys, axis=axis,\n\u001b[0;32m--> 345\u001b[0;31m                                                     level=level, sort=sort)\n\u001b[0m\u001b[1;32m    346\u001b[0m \u001b[0;34m\u001b[0m\u001b[0m\n\u001b[1;32m    347\u001b[0m         \u001b[0mself\u001b[0m\u001b[0;34m.\u001b[0m\u001b[0mobj\u001b[0m \u001b[0;34m=\u001b[0m \u001b[0mobj\u001b[0m\u001b[0;34m\u001b[0m\u001b[0m\n",
      "\u001b[0;32m/Users/Paul/anaconda/lib/python2.7/site-packages/pandas/core/groupby.pyc\u001b[0m in \u001b[0;36m_get_grouper\u001b[0;34m(obj, key, axis, level, sort)\u001b[0m\n\u001b[1;32m   2396\u001b[0m \u001b[0;34m\u001b[0m\u001b[0m\n\u001b[1;32m   2397\u001b[0m         \u001b[0;32melif\u001b[0m \u001b[0mis_in_axis\u001b[0m\u001b[0;34m(\u001b[0m\u001b[0mgpr\u001b[0m\u001b[0;34m)\u001b[0m\u001b[0;34m:\u001b[0m  \u001b[0;31m# df.groupby('name')\u001b[0m\u001b[0;34m\u001b[0m\u001b[0m\n\u001b[0;32m-> 2398\u001b[0;31m             \u001b[0min_axis\u001b[0m\u001b[0;34m,\u001b[0m \u001b[0mname\u001b[0m\u001b[0;34m,\u001b[0m \u001b[0mgpr\u001b[0m \u001b[0;34m=\u001b[0m \u001b[0mTrue\u001b[0m\u001b[0;34m,\u001b[0m \u001b[0mgpr\u001b[0m\u001b[0;34m,\u001b[0m \u001b[0mobj\u001b[0m\u001b[0;34m[\u001b[0m\u001b[0mgpr\u001b[0m\u001b[0;34m]\u001b[0m\u001b[0;34m\u001b[0m\u001b[0m\n\u001b[0m\u001b[1;32m   2399\u001b[0m             \u001b[0mexclusions\u001b[0m\u001b[0;34m.\u001b[0m\u001b[0mappend\u001b[0m\u001b[0;34m(\u001b[0m\u001b[0mname\u001b[0m\u001b[0;34m)\u001b[0m\u001b[0;34m\u001b[0m\u001b[0m\n\u001b[1;32m   2400\u001b[0m \u001b[0;34m\u001b[0m\u001b[0m\n",
      "\u001b[0;32m/Users/Paul/anaconda/lib/python2.7/site-packages/pandas/core/frame.pyc\u001b[0m in \u001b[0;36m__getitem__\u001b[0;34m(self, key)\u001b[0m\n\u001b[1;32m   1990\u001b[0m             \u001b[0;32mreturn\u001b[0m \u001b[0mself\u001b[0m\u001b[0;34m.\u001b[0m\u001b[0m_getitem_multilevel\u001b[0m\u001b[0;34m(\u001b[0m\u001b[0mkey\u001b[0m\u001b[0;34m)\u001b[0m\u001b[0;34m\u001b[0m\u001b[0m\n\u001b[1;32m   1991\u001b[0m         \u001b[0;32melse\u001b[0m\u001b[0;34m:\u001b[0m\u001b[0;34m\u001b[0m\u001b[0m\n\u001b[0;32m-> 1992\u001b[0;31m             \u001b[0;32mreturn\u001b[0m \u001b[0mself\u001b[0m\u001b[0;34m.\u001b[0m\u001b[0m_getitem_column\u001b[0m\u001b[0;34m(\u001b[0m\u001b[0mkey\u001b[0m\u001b[0;34m)\u001b[0m\u001b[0;34m\u001b[0m\u001b[0m\n\u001b[0m\u001b[1;32m   1993\u001b[0m \u001b[0;34m\u001b[0m\u001b[0m\n\u001b[1;32m   1994\u001b[0m     \u001b[0;32mdef\u001b[0m \u001b[0m_getitem_column\u001b[0m\u001b[0;34m(\u001b[0m\u001b[0mself\u001b[0m\u001b[0;34m,\u001b[0m \u001b[0mkey\u001b[0m\u001b[0;34m)\u001b[0m\u001b[0;34m:\u001b[0m\u001b[0;34m\u001b[0m\u001b[0m\n",
      "\u001b[0;32m/Users/Paul/anaconda/lib/python2.7/site-packages/pandas/core/frame.pyc\u001b[0m in \u001b[0;36m_getitem_column\u001b[0;34m(self, key)\u001b[0m\n\u001b[1;32m   1997\u001b[0m         \u001b[0;31m# get column\u001b[0m\u001b[0;34m\u001b[0m\u001b[0;34m\u001b[0m\u001b[0m\n\u001b[1;32m   1998\u001b[0m         \u001b[0;32mif\u001b[0m \u001b[0mself\u001b[0m\u001b[0;34m.\u001b[0m\u001b[0mcolumns\u001b[0m\u001b[0;34m.\u001b[0m\u001b[0mis_unique\u001b[0m\u001b[0;34m:\u001b[0m\u001b[0;34m\u001b[0m\u001b[0m\n\u001b[0;32m-> 1999\u001b[0;31m             \u001b[0;32mreturn\u001b[0m \u001b[0mself\u001b[0m\u001b[0;34m.\u001b[0m\u001b[0m_get_item_cache\u001b[0m\u001b[0;34m(\u001b[0m\u001b[0mkey\u001b[0m\u001b[0;34m)\u001b[0m\u001b[0;34m\u001b[0m\u001b[0m\n\u001b[0m\u001b[1;32m   2000\u001b[0m \u001b[0;34m\u001b[0m\u001b[0m\n\u001b[1;32m   2001\u001b[0m         \u001b[0;31m# duplicate columns & possible reduce dimensionality\u001b[0m\u001b[0;34m\u001b[0m\u001b[0;34m\u001b[0m\u001b[0m\n",
      "\u001b[0;32m/Users/Paul/anaconda/lib/python2.7/site-packages/pandas/core/generic.pyc\u001b[0m in \u001b[0;36m_get_item_cache\u001b[0;34m(self, item)\u001b[0m\n\u001b[1;32m   1343\u001b[0m         \u001b[0mres\u001b[0m \u001b[0;34m=\u001b[0m \u001b[0mcache\u001b[0m\u001b[0;34m.\u001b[0m\u001b[0mget\u001b[0m\u001b[0;34m(\u001b[0m\u001b[0mitem\u001b[0m\u001b[0;34m)\u001b[0m\u001b[0;34m\u001b[0m\u001b[0m\n\u001b[1;32m   1344\u001b[0m         \u001b[0;32mif\u001b[0m \u001b[0mres\u001b[0m \u001b[0;32mis\u001b[0m \u001b[0mNone\u001b[0m\u001b[0;34m:\u001b[0m\u001b[0;34m\u001b[0m\u001b[0m\n\u001b[0;32m-> 1345\u001b[0;31m             \u001b[0mvalues\u001b[0m \u001b[0;34m=\u001b[0m \u001b[0mself\u001b[0m\u001b[0;34m.\u001b[0m\u001b[0m_data\u001b[0m\u001b[0;34m.\u001b[0m\u001b[0mget\u001b[0m\u001b[0;34m(\u001b[0m\u001b[0mitem\u001b[0m\u001b[0;34m)\u001b[0m\u001b[0;34m\u001b[0m\u001b[0m\n\u001b[0m\u001b[1;32m   1346\u001b[0m             \u001b[0mres\u001b[0m \u001b[0;34m=\u001b[0m \u001b[0mself\u001b[0m\u001b[0;34m.\u001b[0m\u001b[0m_box_item_values\u001b[0m\u001b[0;34m(\u001b[0m\u001b[0mitem\u001b[0m\u001b[0;34m,\u001b[0m \u001b[0mvalues\u001b[0m\u001b[0;34m)\u001b[0m\u001b[0;34m\u001b[0m\u001b[0m\n\u001b[1;32m   1347\u001b[0m             \u001b[0mcache\u001b[0m\u001b[0;34m[\u001b[0m\u001b[0mitem\u001b[0m\u001b[0;34m]\u001b[0m \u001b[0;34m=\u001b[0m \u001b[0mres\u001b[0m\u001b[0;34m\u001b[0m\u001b[0m\n",
      "\u001b[0;32m/Users/Paul/anaconda/lib/python2.7/site-packages/pandas/core/internals.pyc\u001b[0m in \u001b[0;36mget\u001b[0;34m(self, item, fastpath)\u001b[0m\n\u001b[1;32m   3223\u001b[0m \u001b[0;34m\u001b[0m\u001b[0m\n\u001b[1;32m   3224\u001b[0m             \u001b[0;32mif\u001b[0m \u001b[0;32mnot\u001b[0m \u001b[0misnull\u001b[0m\u001b[0;34m(\u001b[0m\u001b[0mitem\u001b[0m\u001b[0;34m)\u001b[0m\u001b[0;34m:\u001b[0m\u001b[0;34m\u001b[0m\u001b[0m\n\u001b[0;32m-> 3225\u001b[0;31m                 \u001b[0mloc\u001b[0m \u001b[0;34m=\u001b[0m \u001b[0mself\u001b[0m\u001b[0;34m.\u001b[0m\u001b[0mitems\u001b[0m\u001b[0;34m.\u001b[0m\u001b[0mget_loc\u001b[0m\u001b[0;34m(\u001b[0m\u001b[0mitem\u001b[0m\u001b[0;34m)\u001b[0m\u001b[0;34m\u001b[0m\u001b[0m\n\u001b[0m\u001b[1;32m   3226\u001b[0m             \u001b[0;32melse\u001b[0m\u001b[0;34m:\u001b[0m\u001b[0;34m\u001b[0m\u001b[0m\n\u001b[1;32m   3227\u001b[0m                 \u001b[0mindexer\u001b[0m \u001b[0;34m=\u001b[0m \u001b[0mnp\u001b[0m\u001b[0;34m.\u001b[0m\u001b[0marange\u001b[0m\u001b[0;34m(\u001b[0m\u001b[0mlen\u001b[0m\u001b[0;34m(\u001b[0m\u001b[0mself\u001b[0m\u001b[0;34m.\u001b[0m\u001b[0mitems\u001b[0m\u001b[0;34m)\u001b[0m\u001b[0;34m)\u001b[0m\u001b[0;34m[\u001b[0m\u001b[0misnull\u001b[0m\u001b[0;34m(\u001b[0m\u001b[0mself\u001b[0m\u001b[0;34m.\u001b[0m\u001b[0mitems\u001b[0m\u001b[0;34m)\u001b[0m\u001b[0;34m]\u001b[0m\u001b[0;34m\u001b[0m\u001b[0m\n",
      "\u001b[0;32m/Users/Paul/anaconda/lib/python2.7/site-packages/pandas/indexes/base.pyc\u001b[0m in \u001b[0;36mget_loc\u001b[0;34m(self, key, method, tolerance)\u001b[0m\n\u001b[1;32m   1876\u001b[0m                 \u001b[0;32mreturn\u001b[0m \u001b[0mself\u001b[0m\u001b[0;34m.\u001b[0m\u001b[0m_engine\u001b[0m\u001b[0;34m.\u001b[0m\u001b[0mget_loc\u001b[0m\u001b[0;34m(\u001b[0m\u001b[0mkey\u001b[0m\u001b[0;34m)\u001b[0m\u001b[0;34m\u001b[0m\u001b[0m\n\u001b[1;32m   1877\u001b[0m             \u001b[0;32mexcept\u001b[0m \u001b[0mKeyError\u001b[0m\u001b[0;34m:\u001b[0m\u001b[0;34m\u001b[0m\u001b[0m\n\u001b[0;32m-> 1878\u001b[0;31m                 \u001b[0;32mreturn\u001b[0m \u001b[0mself\u001b[0m\u001b[0;34m.\u001b[0m\u001b[0m_engine\u001b[0m\u001b[0;34m.\u001b[0m\u001b[0mget_loc\u001b[0m\u001b[0;34m(\u001b[0m\u001b[0mself\u001b[0m\u001b[0;34m.\u001b[0m\u001b[0m_maybe_cast_indexer\u001b[0m\u001b[0;34m(\u001b[0m\u001b[0mkey\u001b[0m\u001b[0;34m)\u001b[0m\u001b[0;34m)\u001b[0m\u001b[0;34m\u001b[0m\u001b[0m\n\u001b[0m\u001b[1;32m   1879\u001b[0m \u001b[0;34m\u001b[0m\u001b[0m\n\u001b[1;32m   1880\u001b[0m         \u001b[0mindexer\u001b[0m \u001b[0;34m=\u001b[0m \u001b[0mself\u001b[0m\u001b[0;34m.\u001b[0m\u001b[0mget_indexer\u001b[0m\u001b[0;34m(\u001b[0m\u001b[0;34m[\u001b[0m\u001b[0mkey\u001b[0m\u001b[0;34m]\u001b[0m\u001b[0;34m,\u001b[0m \u001b[0mmethod\u001b[0m\u001b[0;34m=\u001b[0m\u001b[0mmethod\u001b[0m\u001b[0;34m,\u001b[0m \u001b[0mtolerance\u001b[0m\u001b[0;34m=\u001b[0m\u001b[0mtolerance\u001b[0m\u001b[0;34m)\u001b[0m\u001b[0;34m\u001b[0m\u001b[0m\n",
      "\u001b[0;32mpandas/index.pyx\u001b[0m in \u001b[0;36mpandas.index.IndexEngine.get_loc (pandas/index.c:4027)\u001b[0;34m()\u001b[0m\n",
      "\u001b[0;32mpandas/index.pyx\u001b[0m in \u001b[0;36mpandas.index.IndexEngine.get_loc (pandas/index.c:3891)\u001b[0;34m()\u001b[0m\n",
      "\u001b[0;32mpandas/hashtable.pyx\u001b[0m in \u001b[0;36mpandas.hashtable.PyObjectHashTable.get_item (pandas/hashtable.c:12408)\u001b[0;34m()\u001b[0m\n",
      "\u001b[0;32mpandas/hashtable.pyx\u001b[0m in \u001b[0;36mpandas.hashtable.PyObjectHashTable.get_item (pandas/hashtable.c:12359)\u001b[0;34m()\u001b[0m\n",
      "\u001b[0;31mKeyError\u001b[0m: 'cities'"
     ]
    }
   ],
   "source": [
    "# This could be labled better but notice we can also plot negative values\n",
    "df.groupby(\"cities\").plot(kind=\"barh\")"
   ]
  },
  {
   "cell_type": "code",
   "execution_count": null,
   "metadata": {
    "collapsed": false,
    "slideshow": {
     "slide_type": "slide"
    }
   },
   "outputs": [],
   "source": [
    "# Here's a plot I made with mysterious code!"
   ]
  },
  {
   "cell_type": "markdown",
   "metadata": {
    "slideshow": {
     "slide_type": "slide"
    }
   },
   "source": [
    "## Group Exercise\n",
    "\n",
    "We are going to investigate the nuances of UFO sightings around the US.  By now you should be able to perform groupby operations in multiple dimensions and investigate the relationships between subsets of datasets with basic aggregation.\n",
    "\n",
    "_Protip, to turn off slide type headers from every dataframe, go to \"View\" and select \"None\" from \"Cell Toolbar\"_"
   ]
  },
  {
   "cell_type": "code",
   "execution_count": 3,
   "metadata": {
    "collapsed": true
   },
   "outputs": [],
   "source": [
    "import pandas as pd, numpy as np, seaborn as sns\n",
    "\n",
    "%matplotlib inline"
   ]
  },
  {
   "cell_type": "code",
   "execution_count": 4,
   "metadata": {
    "collapsed": false
   },
   "outputs": [],
   "source": [
    "# Load the UFO dataset!\n",
    "# Did you know you can load csv over HTTP?  It's not ideal, but it can be done!\n",
    "ufo = pd.read_csv('https://raw.githubusercontent.com/sinanuozdemir/SF_DAT_17/master/data/ufo.csv')\n",
    "\n"
   ]
  },
  {
   "cell_type": "code",
   "execution_count": 5,
   "metadata": {
    "collapsed": false
   },
   "outputs": [],
   "source": [
    "import csv\n",
    "\n",
    "ufo.to_csv('UFOdata.csv')"
   ]
  },
  {
   "cell_type": "markdown",
   "metadata": {},
   "source": [
    "### 1. How many non-null values exist per each variable?\n",
    "\n",
    "The first thing that is important to know is how complete our dataset is and how uniform are the values."
   ]
  },
  {
   "cell_type": "code",
   "execution_count": 33,
   "metadata": {
    "collapsed": false
   },
   "outputs": [],
   "source": [
    "# Solution here"
   ]
  },
  {
   "cell_type": "code",
   "execution_count": 34,
   "metadata": {
    "collapsed": false
   },
   "outputs": [],
   "source": [
    "#import pandas as pd\n",
    "\n",
    "#pd.DataFrame.count.nnull(ufo)\n",
    "\n",
    "#pd.DataFrame.count(ufo.isnull())"
   ]
  },
  {
   "cell_type": "code",
   "execution_count": 35,
   "metadata": {
    "collapsed": false
   },
   "outputs": [
    {
     "data": {
      "text/plain": [
       "City               80496\n",
       "Colors Reported    17034\n",
       "Shape Reported     72141\n",
       "State              80543\n",
       "Time               80543\n",
       "dtype: int64"
      ]
     },
     "execution_count": 35,
     "metadata": {},
     "output_type": "execute_result"
    }
   ],
   "source": [
    "\n",
    "ufo.count()"
   ]
  },
  {
   "cell_type": "code",
   "execution_count": 36,
   "metadata": {
    "collapsed": false
   },
   "outputs": [
    {
     "data": {
      "text/html": [
       "<div>\n",
       "<table border=\"1\" class=\"dataframe\">\n",
       "  <thead>\n",
       "    <tr style=\"text-align: right;\">\n",
       "      <th></th>\n",
       "      <th>Shape Reported</th>\n",
       "    </tr>\n",
       "    <tr>\n",
       "      <th>State</th>\n",
       "      <th></th>\n",
       "    </tr>\n",
       "  </thead>\n",
       "  <tbody>\n",
       "    <tr>\n",
       "      <th>AK</th>\n",
       "      <td>364</td>\n",
       "    </tr>\n",
       "    <tr>\n",
       "      <th>AL</th>\n",
       "      <td>733</td>\n",
       "    </tr>\n",
       "    <tr>\n",
       "      <th>AR</th>\n",
       "      <td>664</td>\n",
       "    </tr>\n",
       "    <tr>\n",
       "      <th>AZ</th>\n",
       "      <td>2720</td>\n",
       "    </tr>\n",
       "    <tr>\n",
       "      <th>CA</th>\n",
       "      <td>9699</td>\n",
       "    </tr>\n",
       "  </tbody>\n",
       "</table>\n",
       "</div>"
      ],
      "text/plain": [
       "       Shape Reported\n",
       "State                \n",
       "AK                364\n",
       "AL                733\n",
       "AR                664\n",
       "AZ               2720\n",
       "CA               9699"
      ]
     },
     "execution_count": 36,
     "metadata": {},
     "output_type": "execute_result"
    }
   ],
   "source": [
    "groups = ufo.groupby(['State'])[['Shape Reported']].count()\n",
    "groups.head()"
   ]
  },
  {
   "cell_type": "code",
   "execution_count": 37,
   "metadata": {
    "collapsed": false
   },
   "outputs": [
    {
     "data": {
      "text/plain": [
       "<matplotlib.axes._subplots.AxesSubplot at 0x11e5b41d0>"
      ]
     },
     "execution_count": 37,
     "metadata": {},
     "output_type": "execute_result"
    },
    {
     "data": {
      "image/png": "iVBORw0KGgoAAAANSUhEUgAAAYEAAAFtCAYAAADh39bdAAAABHNCSVQICAgIfAhkiAAAAAlwSFlz\nAAALEgAACxIB0t1+/AAAIABJREFUeJzsnXvcZlP1wL8v45oZoUFUbrFIcilyvxS5VfpVJFQqiigq\nRaKLkkoUKpdQolSUbnJNcktSfom0RkSpX8gMZnKdmff3xzrPzHnPs/c+z9nvmfd9n3nW9/Px8c45\nZ+29z95rr7X22uecZ2h4eBjHcRxnMFlkvBvgOI7jjB/uBBzHcQYYdwKO4zgDjDsBx3GcAcadgOM4\nzgDjTsBxHGeAmdTLRSLySuDzqrqDiKwFfAuYC9yhqocU1xwIvAd4FjheVS8VkSWBC4AVgceBd6jq\nIyKyOfCV4tqrVPW4lu/LcRzH6YHalYCIfAT4BrBEcehk4GhV3Q5YRET2EJGVgPcDWwC7ACeIyGLA\nwcDtqrotcD5wbFHG6cDeqroN8EoR2bDNm3Icx3F6o5d00F+B/yn9++Wqen3x92XATsBmwA2qOltV\nHwfuBjYEtgYuL137ahGZDCyuqvcVx68AdhzVXTiO4zhZ1DoBVb0EmF06NFT6eyYwBZgMPFY6PgtY\ntnJ8ZunY45Uylm3acMdxHGf05GwMzy39PRl4FDPqUyrHZxTHJ1eunRm49tGMdjiO4zijpKeN4Qp/\nEJFtVfU6YFfgGuB3wPEisjiwFLAucAdwE7AbcGvx/+tVdaaIPC0iawD3ATsDn6qrdPbsOcOTJi2a\n0VzHcZyBZih1MscJHAF8o9j4vQu4WFWHReRU4IaiwqNV9RkROR04T0SuB54G9inKOAj4LrYSuVJV\nf1dX6YwZT4z499Spk3n44Zld1zU9PpFlxrv+sZIZ7/rHSma86x+UNufIjHf9C7LNU6dODl7ToScn\noKr3A1sWf98NbB+45hzgnMqxJ4G9Atfegj1J5DiO44wj/rKY4zjOAONOwHEcZ4DJ2RNY6JkzZw73\n3XcvM2Ysw/Tps1h99TVZdFHflHYcZ+HDnUCA++67l8NO/ClLL7siTzz2EKd85PWstdba490sx3Gc\n1nEnEGHpZVdkmeVWHe9mOI7jLFB8T8BxHGeAcSfgOI4zwLgTcBzHGWDcCTiO4www7gQcx3EGGHcC\njuM4A4w7AcdxnAHGnYDjOM4A407AcRxngHEn4DiOM8C4E3Acxxlg3Ak4juMMMO4EHMdxBhh3Ao7j\nOAOMOwHHcZwBxp2A4zjOAONOwHEcZ4BxJ+A4jjPAuBNwHMcZYNwJOI7jDDDuBBzHcQYYdwKO4zgD\njDsBx3GcAcadgOM4zgDjTsBxHGeAcSfgOI4zwLgTcBzHGWDcCTiO4www7gQcx3EGGHcCjuM4A4w7\nAcdxnAHGnYDjOM4AMylHSEQmAecBqwOzgQOBOcC3gLnAHap6SHHtgcB7gGeB41X1UhFZErgAWBF4\nHHiHqj4yqjtxHMdxGpO7EtgNWFRVtwI+A3wOOBk4WlW3AxYRkT1EZCXg/cAWwC7ACSKyGHAwcLuq\nbgucDxw7yvtwHMdxMsh1AtOASSIyBCyLRfmbqOr1xfnLgJ2AzYAbVHW2qj4O3A1sCGwNXF66dsfM\ndjiO4zijICsdBMwC1gD+AqwAvA7YpnR+JjAFmAw8VpFbtnK8c63jOI4zxgwNDw83FhKRk4CnVPXj\nIrIqcC2wrKquWJx/PRbdXwnsWtof+BHwWeBo4POqequITMFWCy9L1Tl79pzhSZMWbdzWHKZNm8Z7\nP381yyy3KrNm/JMzj9qRddZZZ0zqdhzHaZmh1MnclcB0LAUE8GhRzm0isp2q/hrYFbgG+B1wvIgs\nDiwFrAvcAdyE7SvcWvz/emqYMeOJEf+eOnUyDz88s+u6psdD56ZPnzXyZqfP6pJto56xLGsiy4x3\n/WMlM971D0qbc2TGu/4F2eapUycHr+mQ6wS+ApwrItcBiwFHAb8Hzi42fu8CLlbVYRE5FbgB80ZH\nq+ozInI6cJ6IXA88DeyT2Q7HcRxnFGQ5AVX9L/CWwKntA9eeA5xTOfYksFdO3Y7jOE57+MtijuM4\nA4w7AcdxnAHGnYDjOM4A407AcRxngHEn4DiOM8C4E3Acxxlg3Ak4juMMMO4EHMdxBhh3Ao7jOAOM\nOwHHcZwBxp2A4zjOAONOwHEcZ4BxJ+A4jjPAuBNwHMcZYNwJOI7jDDDuBBzHcQYYdwKO4zgDjDsB\nx3GcAcadgOM4zgDjTsBxHGeAcSfgOI4zwLgTcBzHGWDcCTiO4www7gQcx3EGGHcCjuM4A4w7Acdx\nnAHGnYDjOM4A407AcRxngHEn4DiOM8C4E3Acxxlg3Ak4juMMMO4EHMdxBhh3Ao7jOAOMOwHHcZwB\nxp2A4zjOAONOwHEcZ4CZlCsoIkcBrwcWA74OXAd8C5gL3KGqhxTXHQi8B3gWOF5VLxWRJYELgBWB\nx4F3qOojo7gPx3EcJ4OslYCIbAdsoapbAtsDLwJOBo5W1e2ARURkDxFZCXg/sAWwC3CCiCwGHAzc\nrqrbAucDx476ThzHcZzG5KaDdgbuEJEfAz8Ffg5soqrXF+cvA3YCNgNuUNXZqvo4cDewIbA1cHnp\n2h0z2+E4juOMgtx00POw6P+1wJqYIyg7lJnAFGAy8Fjp+Cxg2crxzrWO4zjOGJPrBB4B7lLV2cA0\nEXkKeEHp/GTgUSzfP6VyfEZxfHLlWsdxHGeMGRoeHm4sJCK7Ax9Q1Z1FZBXg18CfgZNV9dcicjpw\nDbZZfCWwKbAU8BtgI+BQYBlVPU5E9ga26Wwkx5g9e87wpEmLNm5rDtOmTeO9n7+aZZZblVkz/smZ\nR+3IOuusMyZ1O47jtMxQ6mTWSqB4wmcbEbmlqOBg4D7g7GLj9y7gYlUdFpFTgRuK645W1WcKJ3Ge\niFwPPA3sU1fnjBlPjPj31KmTefjhmV3XNT0eOjd9+qwR56dPn9Ul20Y9Y1nWRJYZ7/rHSma86x+U\nNufIjHf9C7LNU6dODl7TIfsRUVU9KnB4+8B15wDnVI49CeyVW7fjOI7TDv6ymOM4zgDjTsBxHGeA\ncSfgOI4zwLgTcBzHGWDcCTiO4www7gQcx3EGGHcCjuM4A4w7AcdxnAHGnYDjOM4A407AcRxngHEn\n4DiOM8C4E3Acxxlg3Ak4juMMMO4EHMdxBhh3Ao7jOAOMOwHHcZwBxp2A4zjOAONOwHEcZ4BxJ+A4\njjPAuBNwHMcZYNwJOI7jDDDuBBzHcQYYdwKO4zgDjDsBx3GcAcadgOM4zgDjTsBxHGeAcSfgOI4z\nwLgTcBzHGWDcCTiO4www7gQcx3EGGHcCjuM4A4w7AcdxnAHGnYDjOM4AM2m8G+B0M2fOHO67715m\nzFiG6dNnsfrqa7LooouOd7Mcx1kIcScwAbnvvns57MSfsvSyK/LEYw9xykdez1prrT3ezXIcZyHE\nncAEZellV2SZ5VYd72Y4jrOQ43sCjuM4A8yoVgIisiJwK7AjMAf4FjAXuENVDymuORB4D/AscLyq\nXioiSwIXACsCjwPvUNVHRtMWx3EcpznZKwERmQScATxRHDoZOFpVtwMWEZE9RGQl4P3AFsAuwAki\nshhwMHC7qm4LnA8cO4p7cBzHcTIZTTroS8DpwL+AIWATVb2+OHcZsBOwGXCDqs5W1ceBu4ENga2B\ny0vX7jiKdjiO4ziZZDkBEdkfeEhVr8IcQLWsmcAUYDLwWOn4LGDZyvHOtY7jOAPFnDlzuOeeu7nn\nnruZNm0ac+bMGfM25O4JvBOYKyI7YZH9t4GppfOTgUexfP+UyvEZxfHJlWsdx3EGionwOPjQ8PDw\nqAoQkWuAg4ATgZNU9ToROR24BrgOuBLYFFgK+A2wEXAosIyqHiciewPbdDaSY8yePWd40qSxeWFq\n2rRpvPfzV7PMcqsya8Y/OfOoHVlnnXXGpO6JUL/jOGPDGM31odTJNt8TOAL4RrHxexdwsaoOi8ip\nwA1FQ45W1WcKJ3GeiFwPPA3sU1f4jBlPjPj31KmTefjhmV3XNT0eOjd9+qwR56dPn9Ul20Y9E7X+\nsZYZ7/rHSma86x+UNufIjFf9YzHXp06dHLymw6idgKq+qvTP7QPnzwHOqRx7EthrtHU7juM4o8Nf\nFnMcxxlg/LMRjuM4FTofcQSYMWMZpkxZcaH9iKM7AcdxnAoT4amdscKdgOM4ToBB+Yij7wk4juMM\nMO4EHMdxBhh3Ao7jOAOMOwHHcZwBxp2A4zjOAONOwHEcZ4DxR0Qdx+mZ6ktU06fPYvXV11xoX6Qa\nBNwJOI7TM+WXqICF/kWqQcCdgOM4jRiUl6gGBd8TcBzHGWDcCTiO4www7gQcx3EGGHcCjuM4A4w7\nAcdxnAHGnYDjOM4A407AcRxngHEn4DiOM8C4E3Acxxlg3Ak4juMMMO4EHMdxBpiB/XZQ9WuIU6as\n6F9CdBxn4BhYJ1D+GqJ/CbF3Os7TPyPsLEg8SBs7BtYJgH8NMQd3ns5Y4Ho2dgy0E3DycOfpjAWu\nZ2ODOwHHcVrBU4X9iTsBx3FawVM4/Yk7AcdxWsNTOP2HvyfgOI4zwLgTcBzHGWDcCTiO4www7gQc\nx3EGGHcCjuM4A4w7AcdxnAEm6xFREZkEnAusDiwOHA/8GfgWMBe4Q1UPKa49EHgP8CxwvKpeKiJL\nAhcAKwKPA+9Q1UdGdSeO4zhOY3JXAvsB/1HVbYFdgK8CJwNHq+p2wCIisoeIrAS8H9iiuO4EEVkM\nOBi4vZA/Hzh2lPfhOI2ZM2cO99xzN/fcczfTpk1jzpw5490kxxlzcl8W+wFwUfH3osBsYBNVvb44\ndhnwGmxVcIOqzgYeF5G7gQ2BrYEvlK51J+CMOf6Gq+NkOgFVfQJARCZjzuDjwJdKl8wEpgCTgcdK\nx2cBy1aOd651nDHH33B1Bp3sz0aIyAuBHwFfVdXvicgXS6cnA49i+f4pleMziuOTK9cmWW65pZk0\naeTHqKZOnRy8tpfjM2YsM+Lc8ssvM+986txo6m+jbWNR/3i0bUG2OXZ8tPeS07bycUtH3VO05f9Y\na621gh9cG4++iR2v9hnM77c2dWO8x2as6h+PuV4ld2N4JeAK4BBV/VVx+DYR2VZVrwN2Ba4Bfgcc\nLyKLA0sB6wJ3ADcBuwG3Fv+/nhpmzHhixL+nTp3Mww/P7Lqu1+PTp88acX769FnzzqfO5dbfVtvG\nov6xbtuCbvOCuJectlWP33PP3bXpqPHqm9jxap91jj388MxWdWO8x2as6h+LuV7nDHJXAh8Dngsc\nKyKfAIaBw4DTio3fu4CLVXVYRE4FbgCGsI3jZ0TkdOA8EbkeeBrYJ7MdjtPXeDrKGW9y9wQOBw4P\nnNo+cO05wDmVY08Ce+XU7TjOwoP/BsH445+Sdhxn3PAntMYfdwKO44wrnhIbX/yzEY7jOAOMOwHH\ncZwBxtNBjtOAzkYm2DPeU6as6BuZTl/jTqABbgCcftzIdL11UrgTaEA/GgCnffptI9P11knhTqAh\n/WYAHAdcb5047gQWEsb7pZuxSjmM9306Tox+Tbu5E1hIGO8l/1jVP9736Tgx+lU33QksRIz3kn+s\n6h/v+3ScGG3pZnVVsSBXve4EHMdxJhjlVQWwQFcW7gQcx3EmIGO14nUn4DjOQkHOxqw/aOBOwHGc\nhYScjdl+3cxtE3cCjlNhLDflnHbJSaEM+oMG7gQcp8JYbso5znjjTsBxAgx6dOgMDu4EWsI3mBzH\n6UfcCbSEbzA1p03H2a+v7DvOeONOoEU8hdCMNh2nO+F28ZXt4OBOwBlX2nSc7oTbw53q4OBOwHEG\nlLpHYd2pDgYLhRPw57odpzlj9SjswrZfs7ClyhYKJ+DPdeexsCmz05yxiPYXttTSwnY/C4UTgLgy\nu6GLMxbKPBFWaa4D48/CllpamO5noXECMRY2r902C1qZc1ZpbacPXAccJ85C7wRg4fLaY0HbRrhp\n/y8Ioz0IOuArHieHgXACTjMmQuS8MBntsTLOE2HcnP7DnYATZGEywuPNWBpnH7eFn7aDCncCjtMC\n/sy9M1a0HVS4E1jIWdie0Z6o+DP3zljSZlDRV07AJ0BzPE88dvgz904/0ldOwCdAHp6KWLgY5PGc\nCO+d5DCRn9zqKycAgz0BHGfQ6devA0zkALbvnMDCQr9GNI4z3jQNBCfKXFvQAWzsPusYNycgIkPA\n14ENgaeAA1T13vFqz1jTrxGN4/QbgzLXYve58sqbJOXGcyXwBmAJVd1SRF4JnFwcGxg8teXEmMg5\n5H5kUOZazn2OpxPYGrgcQFV/KyKvGMe2OM6EYiLnkJ2Fi0XGse4pwGOlf88WkfFsj+NMKDpRXWd5\n7zgLgvFcCTwOTC79exFVnVsn9MRjD434f/V46lyvx9uWueeeuwHbrFluueePqs3lsqZPnzUiOhzv\n++zHsVkQbc6R8ftcuNucI9P2fcYYGh4e7unCthGRNwKvVdV3icjmwLGquvu4NMZxHGdAGc+VwCXA\nTiJyY/Hvd45jWxzHcQaScVsJOI7jOOOPb8Q6juMMMO4EHMdxBhh3Ao7jOAOMOwHHcZwBxj8gNwER\nkcnA8sDDqvrEeLdnEBmUMRiU+3Ti9MXTQSKyDPYI6XbACsBDwC+B7wLbF/+Vj1+lqsOF7Es751T1\nrlKZweOxcyKyHLBVqZ7rVXVWqm3F+Z7rEZG3A+8rlfNcYAZwEfCi4j6XL9VxJraaOzR0TlXvj9xL\n4zYXH/zbPdTXRTtH9E1xi7ExS52LjmfRruq5lYDDsc+QPAPMBn4DfFVVbwrJqOq0xPHYGHwde8Ex\ndP/rR8raJtK2HwJbNh3Pov6QDq6RkNkg0ua3Je7zskg9wTkA4fkBTI21q9DNkAwkdLOoq9Gcjuhz\ntM8y5s1PgL2atLlmPpE41+h4xw6mmPBOQETeBbwZ+AVwO/B/wHLAfsA+wK2Y8egcfyWwMfB34BXA\ng8C/i3OrYh20SnGsc3wVbGIuBryxIvNC4GngWeCuUj0bYxP7WeDHlbZtBRwMPAf4S4/1bA5cC7xP\nVf9duv/jgVcBTwL7V+7zs8AwcEyg/k8Bzwf+VKn/nqJdP2/Q5luBtYr//6kksz320b/pwC2l468B\nFgdOB26stPnA4tbOajCeWwJDwD8q9b8HmAt8BPhZ541zEdkAOAzYEfhdRWZH4GXAHwNt2xQ4BzhF\nVR8tjcHrgBOBOcAXSjK7Aq8D7sQmXVUHrwJOA/5cattXMWPx96K/exnPnYBPF316NSN1cLFiTM+v\nyByIGbl7MWdQruetwPeA4yr3uWZRztqYfnRkNsXe7n8cuKNS/93AosDqgJbOvQ7T2eOA6yr1vx3T\npycrMim92R372vCL6W1Op+b6w0UZ32P08+awYnyuCvRzrM3rFF3+M+C2iswOxblfMlJv34zp7tWV\nsYkdfyWwEXCCql5Ngn5IB/1LVXerHhSRjbEocGdV/UXp1A9E5Dzsu0QvK3+KQkS+BUwD1lXVt5eO\nDwFXFv+synwV+F9gW1V9V6UNBwIbqepXK8ffBxwCLK6ql/ZYz5KYAnwRmyQdLlTVj4vIkqr6VHHs\nIeBnIvI3YEhV/1S6/iER2QM4AnhQVW+v1P9xYJ2GbT4FeEBVP1KR2RZzUDuo6uml47sA9wOHqup1\nJZFbRORu7BMhv6iUlRrPTwOPquqXKzLfwpzwB1X1J53jqvonEXkA2FFV/1qRWRozkO9W1eMq51bG\nnPCjjGQVLNpfrDQGiMhLMIO5d/n+i3NrA29T1TsqZZ2hqoeKyEqq+mBxrG48twB2w766Wz7XcVC7\nqOrPKzL/AV4AvKQi8wMRORZ4R+A+P4RFun+v3OdXMQPzOlU9pFL/d4BhVd2qcvzrmNM8VFUvqNzn\nzsB5lTbX6c3LMYfzxh7ndOz4EPBeYMtAn+XMm/NVdV8R2a1Bm98LPAC8RVW/XZL5gYgchM2Pr1fq\neS6wL/bJ/W+Xji8XOl6UtSgWKCWdQD+sBDaoKn5xfL+ScpWPb6Oq11eP19SxdCwfKiKrquo/I+fe\nqarfbFJXU0Tkx8BHQ+dUdVrg+tcBh6jqLg3qeCk28Q5q2Lae+lpE1geeUdW7RWRnVb2ix/JXAA5U\n1c8Hzk3CoqBrgNcCz8Mm1i8Cxq0nCqcWRFWvE5ElMEf1UNlIRso6RVUPi5xbV1X/Uvy9JrB0x1mI\nyOJY+qhzPzenvqklIi9KtPnvEZm3h44DK6rqlwLXR+dHol07qOqvAsePVdXPRGSWUtUnK8eydLNN\ninHfp9e53mkzFlDUfg+tkInqenH+XVh66anK8aB9bEI/OAEFdlPVe4p/LwF8DdhUVTcMXH8Ltjx7\nN5bjPE9V5xYpgt9jUduPKjLXqOqrKsd2wAZyKyxCfj+Wl/878DVVvSgkVynjxcCe2JJ9CIsob+4o\nk4isr6p3Fn9/UlU/HSjj8aLdVYY7dYvI8sABmNe/B7gvIoOqnlXILIqlpA7FDNvZWLprbyyv+ADw\nPVW9JnF/D2BpnSprYauatbBx+Ai2BD+7+PctwEdU9ZlIuZsW7doZuFhVDy2dez5wUFHOP7Cl78VY\nlLka8HosbbZXxwiLyL6q+p3i738wP/dcZajy72FspbME8B0sGv83li74BfAVbOW2J5ay+gEwC8u3\nHx/SDRF5E/A5YDNVfUxEtgS+CRyJjduF2Nh17mc94ApV/WAh/2pV/WXx9+nYkn+4aPt6wJ+Lv18O\n/KdS/YPAJ7CU5P1YOuKp0n2/E0v3nAX8SFVnF/Xcia0cbg3czzeL+qu8CdhJVW8prnte0YfDWCT+\nYWx+fkFVnxCR3YBTVfXFEd18PFAH2B7Ki7DU1lMi8lrMiR6D6U+XPovI/5XaPFT8PRlL9ywdWO1d\nCDxSM9dDbd4tJVPIjdB1bNyq/TmE6cKTwBXYvsUfC/m/YKvLr6TqSdEP6aB3Az8plpDPwSbadcBm\nkeuHsI3UW7Gc5QtF5EHgk9gEPlpENlHVYyoyiMhzMANyMLAyZvh/jk2Og7D86jrAF4trly6W/VXj\n0YnSv4t9I2lr4F/AMpiB6EQUp2FGBixPHOJeVd0hdKJYbh7KfAP0gKruLCKfxAxVSGZlbBK+Dduk\nXEJV1xWRQ4r7PgUzFqsVffXijuMIMLu4tsNzMGO2FLZ0flZEjsSc8j+wPY+tsJXNjcVKqhwBvxVz\nuE9jnxpfoxMZish2xb1ujO0DbAF8G0vTzftcooh8Cctrl3+B5d2YAQJzRmeGbkZVf10qZ3lsk/QO\nLOf/H1Vdszi3KGZMLwM+pKqzReSkok//XNT1fBF5T6CaI7EA5rGizpvENpB/CjwKvEFVtdSO9YFf\nAx8sDn0cyxcDiKpuUbr2VzFdKc6vghn+VTHj+FosqPmOql4LfExENgHeBXxaRH6KOYS3AWeJyCXA\n53TkZuP3Sn9/kfmr1huB80RkT8xRn4dt1p8sIjcB38J07DgReQYzoB8qdHeEbhZt/2TktnYrru1E\n3DdhewtXAf8lrM8j5kaRgjkCG88biqBBxdK9R2N6d2xkrj8P0+9Qm4MfxEzpuoisFrlPMBuyB/C5\nIj10LrAN1oeXA/traT+xVya8E1DVG0TkUCyXvgRwmJZy1gGGgcmqenSRy1MswtoIU9jdgW+KyM+A\nt6rt3g+LSMcgXwL8DxaVXCgi12ERzdNF+XeIyF6YRxbMoMQiyFmqeoKIrK32tdTrMcPZoSy3vIi8\nplLOEJZzBkBEPqaqJ5TO3wR8CdhAVZ8RkV8Ufda1oiiVMQubGJuo6uMicllxal9gG1WdU/z7dhG5\nEuv3mBN4SFXPLMrdCot+vortEfy7SHU8q0VeXkTmFMvjz4vIpcA1IvJX5keupwH7Fmmjy0oO4PfY\nKuVMLP1zqar+Q0QWKTuA4t7/T0Sq7Sz385PA32L9U9S3Gxbln6KqXxORG1R161Idc4BPisgHVfWn\nxVL+hap6VSG/CLbBuTLdujGkqtMrbX5IRJ7ColCtnLtTRv7ORlfAUaJuWf8IMFdVH8b6+jQRWQvY\nV0SOBn6vqh8D/lAYqv8BTgKWxJzukcAVInJxqX3zdENEjiqn+kTkZuBH2L7Nm1T1tuLU3NKK9G9Y\nULcRtnIJ6WZUp0Xkjap6eOm66SJyGLZyeG5KnwuneA4wE9hcVf9TBFbfEdtTGQa2KHT5AsJzfRvs\nYYGuNgMvEZHv0s0bsM3vLl3H9O4y4PJIOu9i4OKi7R8A7lLV5xVB0o0i8ttSX+wT6rMqE94JAKjq\ntSLyAezpiRsAROQ3hJdN61KkQtQeK3wSeH2xVKTo7L1F5KPAzcXyHCxa/z3wWyyl0il7dskBdNoz\nS0TmAP9bs9wbLiLvycXKYRlsCTzvfOnvFbHooEp5GbwTUHYC22BpoDtF5EdF+Z2JFeqbYSzKOwD4\npYicixkrsJz9nLKAqj4tIrNTfS0ii2HpjR2xvOltIrK9WM5+d8xZdh6vW7r4+1VYSu80LJoHW53s\nDqwuImczcrL9FltB7Ar8s9SWEe0tsUilveW/t8RWJJ2IqVPPsIjshE3C9YBdOylI7CmwEJ36X405\np84m4rLAfVrZeC7ObyeV3LfYZvViWFRYR1b+VmwD8U9ANR8/BzPSU7CnWDpMBdbAVpR/wfr0OcXx\nTiRdbcuIfxcObE9s5ftw6dSzpb+nYxHssFjeO6SbFJmALxXXvxNbwXwOC8RGUJQ1O6bPRXn7YU8C\nHauqF5YuWwzT06WxlX9n/gXnehEQBtuMRe6hVedj2HwJ6fpXsFTqeSKyLKarlwO/Ltq/JOac346l\nsD4qIusWfXEt8+dTz/TDnkDHAA1hOeYnsMegFseWkFWWAr6u8/Pl15T+HrFcFpEdsUFaXFVfKJaf\nPRBzCEPYcvlMYPdixdCRm4wNzDM1y+9tgZdgyvANLE2xE7b0XARbPn+kqOtkVV0/UMY1oXupXPMc\nbHl/QFHuhVikMYQZ4XkrjI5DE5HVsTTJfliOfl0N77FcQ/wz3+tjync5NpmeLWTegeVkF8NWREsD\nF2BGf1PMEL+jFBmW69uuuI/dsJXF+ap6h4gshT2LfQDwUmyZfjTWp2WGMGc6hKVlhrBHTzt/vxv4\nFRbdXoQ7+uF6AAAgAElEQVTlvp8o6v4bpj/fZuSKbS/sqaWOU6CIoH+JpQBejunNNOyRyFnAVFXd\nL3B/b8AeK/wKZmReiOnAWZhROilwP6diqckh7Amek4q/P4j9NneHD5flY2m8IjDZq/jvv5i+/Ki4\n5zcD78BSOOcU/bZe8felwDHVoKhUbllXO3n3IcxYDRf9Mgz8JaXTAd08Hzge23vpnFsRSzEug6Wo\nbi3JvwKLpJ8XaiMWiG0FfAwLKjrsg6WZ36aqvy8CzwOxVM+Xa+Z6qM0frpEJ6nrp/BLALpi9eAWW\nydgBeyT97GJeHIUFUO/XytNWvdIPTiCWI1tKiycsiuvWxHJs+2ET/E5MAV9S+nsJVd0kUP7Rqvre\n0rHJRTnvxibDvdhS+B5MCU/EopurgBmdiKOIdp8qcsSLVo4/rZYjjz1hsLOqrlJcPy/tIyJ/ZL7T\n+AKlJ4VU9cpqIWJPJhyo8zdF6zavF8GU8BLsmfoync3GvSLil2JRzd10b7TtUtzz02KbuSsXq4QT\nSRiSUruei02+d6nqxpVz62KT513Mz5X3jKp2oqw3YznWGdj+zcoRkRdijuUcTAfWYL5xWAl72/ZW\nsYcPdsSMdurXvl9QtH8VbIP2m6p6s8Tz3tth+wJNOJz5q87OmHR4EZYm/T6WL++cO7E4drYWG7oA\nRcruXTryEcjOubKxXx5LOQ1hDy6sEmqY2B7Af+pkCt3cnWIequp2xfF/YBvB3xCRF2Ava/0dm6cv\nwuaoYPs5ZTr6fEmoXdjKeqNKwLcZFhRspaqPROTK91Zu842qemIPMvN0HQsotsIC0B2x+XUlFvB+\nBfhhee6IyA+Ag6opxiZMeCdQpWzsVXWlIn/beYrn89iG0+IR8ajjKMrqMtxY1LliUcea2FMGp6nq\nzwuD+2Nso29GEeWdxPwIrXr8dar656L8xbGc5UPFv+etUioRVcxpDKvtM+yoqleLyBexTaph4GOl\nckc4Aened+iwIvGnZj4VOb404cdX36uqR5cPiD0d8l3galX9Yuicqna1rXAap0XqXx3b72lEOdcq\n9gz+h7DV3ysTYk9hE3VNLHo8j5Gbz1XuK/7rSjup6pZN29yUIoossyvw5eK/5QmnlRZX1Y8Hylqm\nbBgbtGEz7GGD1TAjfbqq/jZx/crYqmgmcKKq/rd0rjwnbtTSewmF4d0ac6r3YenD6KOz2LsTl1UP\nisiukePLAX9gfp8NY3tLv8Mc9LnAOar6fxW5uzE9GXFObIM9mPcXkUewFeb3sLnyeEomVVav9I0T\nCBj7JbDH0P6IReUf0ciz8T06jhUIG/TXAVpyDpOBJ4to/5fAkZWl6JbYE0WvCRw/DlvSfgPYBIvU\nVsYGfbVSpJOM3ktlHgO8VFX3FtuE+yQWzazG/NzvtzHj1TFCH4sU93xGphbmEVpxFPXHHMqJWEqu\ns2m8DZYOOhNLTV0YOqeqnwvUcQu2FL6PboO6ObbJ22Voi3MhmWHsSa99MMN4G5YOuRrLVYdkOm94\nV7kvUceXgLdQSTtJeL+Gknzo3Aux1EcTGVR1zWK/4cvY5yP218C7JR0qbSuXW65/RH1FHV3GHltB\nf6r4r/NU3SewCP7nEZnjsCh9eWBVLb2YJrbhuR+2Ij6PkTq9nqr+pFjdHYMFbydgLwv+RESmAMeW\njv8sklaNzruAU10GW0Hvg2UE3o7p4lkdRyIiU4t2jjhXpIF2wBzIiLw/FpC8pri3q7D3Xm5LyMzF\nHGBXWXWr7Q4T3gmIyIexxzZHGPtiGXohtpT+k4j8QitvFjdxHAmDfhK2GRZyDl8L5fxE5FFVfW7g\n+HWY0bhcVb9bOn4Atj/wFnpM+xRy1wKvVtU5nZWE2OOLM6h5tyBQVnLF0VBmUSxlchaWFnkn8HZV\n/W2xwrosdC5Sxy3Y2IUM6htDxwu54DmxZ97BdOdnWETX4aURmbmEjf1ymC511V9qfzXtdBHzvw8D\nIyP06iZi59yp2OOqTWS+jL3pfhZmNL+g8z9dkXJE6zWsfxphY78E9pTYvDSFiKxY3P8JMRkt9qVE\n5GpV3bEk2/XiWcGa2OPge2Fz+r9Fm95V/L96fGNslbAT3U/6XIWlYEKPfMfeableVbcp/t60qPeV\nmC58tnRd8Fwl77+xqnYe7lgWcwa7YHp5Z2ceJmSCx+voBycQNPbFDb8Jy60ujT25sLXaCziNHYdE\nnrEWkRnYI6KhqH5xVe16y1REHlfVKYHjvwHmaOlxw9K5f1E8SVMhZYSvVdXti7/foKo/Lv7+paq+\nOiQzVhQrpquwJ2t2V9WZqXMisk6gmCHgIlV9WSHXlcdX1StixyMyG2FPmEAl6i2lG6oy92M55qCx\nT9VfumZe2klVn5+K0GPnmshgq529sU3oP1b69f7Kv+cZdVU9tUn9Yhutbw4Ye1XV5Sr1dAKh2XUy\nDVbDN6nqlmJPoz0EvKBw3I+r6pTi+IPYI7xPiMgNWN79/xi5qum8kHVf4PiwFu+IBOq/VVVfUfr3\n5ljkv6OqrlO5dt45bM+gmve/TOe/BPYyYFtsZb8KtodzXkDmcmzjPVpWHf3gBKLGvnTNi4vze2NR\nwVY0dxzXRQz6Y6q6bOD4dVhEuwLwmaKMZbDo5uVYJF49/jT23HFoKdrYcIu9dLN9OUoR22u4qpNa\nGg9KBn05LNXzUWxzvkz13LcZGZXPo+qcqwa17njducR9VA130tgHrn8Z4bTTVgQi9KKMbUPnYsdj\n5xKRc9nZhYx6o/pjxlpEHsOekKrq5nXAExGZx7G505XyiaWxROTyIsDbEvtYWiel+qiqPjdw/Bbg\nv5GAL/qyXSBIWQLThbWxFOvbsVXkXVi6t/Pl29UC5y4kkPcv6rkUG4/bsEDpalX9i8T3CoLHmzDh\nnUCZqrFX1TdXzk/C0jS/oLnj+D1hg76XqnZtMhVR/ZaYEXsP9mjhDEx5v4RtcIWO38TIfGaHb6vq\n5g364kJsI/hR4D1Fquq52BMEv9Ei574gKdrwALaJV35rN2qAiL/sFE1VFWXGDOr6oeNFiiwoo5Xn\nx3uppywjIzeTd460q/MBsmra6ShsyR6K0GPRe45M1HAW9xByHCdn1H8OlpKsGvu/YG8Nf6Ckm6di\n8+zNEZmHsQ3YKqk05s+LcvfHPslyanFvP8RegKwePwb7EGBTJ1DV6SeLe9kBm4fnYJ+oKc+DX2NP\nj404JyIfI5D3L85tXbS3/IhyVCZVVq/0lRPo0DH2qhp71Kt8ba+Oo/OhtqrhnoRtVHVF9Rp4kqKH\n9sQMZFfEW1POSthjdgcV/y2HPVXxNa186bDH8oIGvcc2DFWVtk0knse/FEsphfL7l0RkUlFlar9g\nSbqN/cmJ689i5NMkYBN1IyxXXyXlIHNkUoYzZuxjq7FU/RdhwVDI2D+F7cmtgL10dZraG9gHx2RU\n9ZTI/QQRe1/jc9h+zRHYeylfxN6ZODBwfC/MCVQfH0VEXho6XlP/9mqf3Gh0rjgfzfs3lckpq0Nf\nOoEcmjiOitwQkWhfe/xC4GiQmi9bNiwrauhjBr2QATN0XV/nDLUhx6HUtPta6g1q9amWRSIyKeMY\nq2dTLI9eNfbnYy8v9lzHRKCXVFHD8t5LwNi3LRMpp1VdG0tCeX9VPSBHJqesDgPjBPoVEbkfMzRP\nYobtd9gTDrO02BRuUNZK2NMfQwQ+uRAx6Cth33MBexJj8bo2jNUKoU1qHOS1NHQoztjQp7oWzPvn\nyOSUVaUvvh3UhH6ODCJshin5z7BvIM0Weww0+hG91OoBe8Uc7BMcZYO+qNiHt7pQ1b2Lci8F9ii1\n4aZYXTr/B1NGxRiO5+HMf4t1BE2d7USmX+dHzYq4FV0bQ04gkPevYXHsS8FfrIxbTlkj6FsnkFDm\n6GTOKKvVttVEm0klF3ubssMk7A3fGAcX/68a+nmRe8Cg/6OQ65LBfkYSRn6eehL2ZESdTPkeU/ff\n2nimWMiMSQ6t9udYUOjGRtjTNS+gB10bRT1N521jGezF1T1EpIm92Y/AuKnqDT3KR+lbJ4A9EvUY\nsL7Yt2TmEZvMOYYm00HEyktNwE5+uSvtgyn5OdjXQu/Anoj5Qk0bHsCeWtg1snqoGvR/q+pbA86h\nLFNtw4dV9Zs1Mr3ef+PxzCTqIGnJmKQYK0MjIldjT9t07eU07c9MQ9eorBrKevMTetC1zDbnzNs2\nZcYlSJnwTiDRKe/HlLzJZM4xNMEBq9kwfRnFI4JS+bZ9op5k2qd4quIi7H7vVtXqr0aF2lz+IFx1\n9RBzKlXnME8m0YaqzJqJcRPo7hcyxnMUxqnOQfZUT+b1Y2VoHi+OH8Mo+zOn/syAq9ZxiX2MsENq\nRZxq83oEbACJeUtcb3NkUnZgzIOUCe8ESKc2gpFrjuMQkU/EGhAZsMOxDdN96N4wfSH2ffnG9cTS\nPmK/MHUGxUtWhfGOvhhSlBVdPSQMelQm1Aa1z9dWZaYTTxN1PqTV83jG7pHRGdSUg+ypnhpDN96G\n5itqv4vcpD9jQVJOUJMTcPXiuKq6dklkvqf6LLYvFp23xPU2R6Y2XYp96WBBrXhGMOGdgKq+FYI5\n7E6nhCKDxo4jIZOzYXppRj11aZ9Tse/sfKO45jLsE87RslKrh5hBr1lxhNoQlYn1S+xcUUfXeCac\nenYUFnKQGUvxqKFj4hiaJv0ZC5JygpqcgKvWcVV1DfvCbCjgiLY5sS8Wnbcpvc2Ridx/OdhoY8XT\n097PhHcCJWKd0jWZdf4PufdsaHT+h+Ta2DBdMXY8UU9t2kdV/yoiw6r6sIjMrFOyROQOEYNeI9PV\nhpp6Uorc83gSd5zZxjHUz6UUX6+BQNTQTSBD06Q/o0FSTlAzikAoqjdVXcN+H/nnDdvcoed527JM\nNF1aSnuNesXT6x5CPzmBYIRcE7k2MTQxmZwN0y/UHI+2LWFQp4u9YPMcEdmbkTnT2H0GDX3nwpBB\nr5GJtSEmk7r/JuMZdeq5xjHSzzGZaCAwgQ3Nijn92bT+uqAmUyalNzFdy+mznHnbhkwqXbo9tLPi\nocc9hEXqL5kYqL1NuA32/Z2tS9H++th3Qr4BHCAiry2JdTr/h9jr8aelykrJULNhGiovs56Okj9c\nXPOp4vi7sc8z/wf7vv67eigLtR95H1b7cfGZJZmoU0nIRNsQkkndf+Z4tmlQY/0ckvl34SAeBl6h\nqgdinwR+qof6Y2MTHbM2ZTL7M6f+pmVFZWrmTUw/G7c5Z962JLN5jT51jRu24gnJ3FZXVh194wQS\nyhydzDmGJjGYUWWKlZdZT0zJP6CqR6nq7qp6BCN/byBWVmr1EDPoKZlYG4IyqfvPGc/EGOQY1JSz\naxoITERD0znXuD/bDGpyZGocV1DXctqcM2/blCEdPMTGLScQStI3ToC0sQ9O5hxDE5OpUeZYeY3r\noVvJlxX7YukRInJT8d/N2Ncr68pKrR5iBr1LRkTeXdOGWD0pA9R4PFs2jqmVUKNAYIIbmsb92WZQ\nkxkIpfQmqGs5bU7Uk6O3OTKp4KW1FU8d/eQEYp2SilwbG5qYTI0ypSZao3roVvJdsR85/0Hx/7di\nP1G5RQ9ldRn6Hgx6yDlcUNOG1Coldv+Nx7Nl4xh1kE0DgQluaBr3Z079bQZckNSbmK7l9FnOvG1N\npiawbG3FU0c/OYGYMqei3RzHEZNJKVOsvJx6qkp+uKreB6yuqvcX//1DK78fWilrmYShjxn0M2My\nqvp0qA3AfjUOJXX/OePZpnGMOq6YTGYKa1wNDXn92WZQkyPTpRs9BC85bc6Zt63J1AQPba54kvST\nE4gpc2oy5xiaNjdMm9RTl/aZISJ7iMi6IrKOjPylo2pZSiRyTxj0b8VkSvWMaANwc41M6v5zxrMN\n45hykHX15Bi6cTU0mf3ZZlCTIxPSjbrVaE6bc+ZtmzKp4KHVFU+KfnpE9AOqelTnHyJyqYgsD6wn\n9oPyYE5tcezn3sA6/2gihqZU1gk9yNRumAbKa1LPrtjvFRwNHF9cMxf73VSwjZ7DS3UOYz+UESpr\nf7Uf61hdVe8nzAwR2QNzGHMB1H5eMCXT1QZVfVVCJnX/OePZhnFU7MdUYv2cLE/Dj9XWGZqQPsWO\ntyVzTeHscvozp/6mZaVkuvRGVT8G3JfQtZw258zbNmW69ElE3o09DRQdt4gORo/XMeGdQKJTlgD+\nh/RkzjE0sQHrUqZE254vIts3rUdVPxZTclXdQURWwJ4HvldHvg8Ra3PQ0BeXxZxKVCbRhqrMm7Ff\na+u6fxH5a6TPehnPNoxjLw6yaSAwEQ3NF7FoOac/2whqcgKuXhxXTD97bnNCB6PztmWZzv2E9OkC\n7DeDY+OWtUpLMeF/VEbsx+GfT6BTVPVpEblSVV9TkZlnnIE/F4frDM1+EZnFVXUTETlGVT9bquME\nbMkVatuj2C8m5dTzfeC7dEfoewKfxT6n+9Ki7iVqyqr+gtSIH0EJGfSUTKgNqnpBQAZsaRpT5Ebj\nWWpv1xgUjjN4vEYm2M81MlOKdm9Q9MHxhUMJ6cY8A8DIsXk+8K/A8cWBr7Uo09GBJv15KfZTqj3X\nr6qbNCwrJfNF4OtEdKO4pqprK2PzrUmfbUHzeUuLMh1dD+pTcZ/BcUvoYLSsOia8E+iQ6JSuyYz9\nFGBTxxFzNrthP1adUuZY25rU02lb0AgXEdJOqjpLRCZjbwlunSqrqC+4eogZ9BqZrjao6qYxmRoD\n1GQ8t6F949jVz8B3amR6NnRMHEPTpD9jQVJOUDOagCuqNzBS17B9hEZ9VpobPc/bunOZMqngJRYM\nNg6E6pjw6aASsWVgME9NOn8YK6tLRkS+BVxBelkdK6/nejokUi5zVXVWcc1MEXmqUOZoWVVDLyLz\nDD3wIeDlFadyQY1MVxtq6kmlo3oeT2y/JLRErjOO0WV1qJ8LBx2S2S2SpogaupqxmZnQzTZloFl/\ndhxHz/WLSDR9ESsrJVP8HdWbxGq0aZ+l6snR2yYy0XQp89Ne1XFbWUQeDcj0knpO0k9OIJjDThhN\naGZoXpWSqVGmWHk59cQM6r0ichJwHfaD0vf0cJ9BQ1/IBA16jUysDTGZ1P03Hc9WjWOinxsFAgmj\n2WG8DA2qOi2jP3PqbyXgKpHSm5iu5fRZzrxtQwZq9muq40bGioce6RsnEFPmmsg1x3G0tmGaWU9M\nyd+JfZ54x+Jej+qhrJihh7hBT8nE2hCUSd1/5ni2aVBTzq5pIDARDc0w8KrM/mwtqMmRqZk3Mf1s\n3OacedumTCp4aHnFk6RvnEBCmaOTOcfQJAYzqkyx8jLriSn5YtgSbzEq73ckykqtHmIGPSUTa0NQ\nJnX/OeOZGIMcg5pydk0DgQlraHL6s82gJkemxnEFdS2nzTnztk0Z0sFDmyueJP30slinU96AfSq1\n8333EZOZkV/i2xO4CVsq3Swi+9WUFZVR1R2wXN6RwJ5aesomUV7jeiiUXOylrJOYb4QvBFbCPp37\nIorPAdeU9U5sKbljUc6BpTbHDHpKJtaGmEz0/hPnouMZG4PU2CTOxfo5JdMxWqcDZ2Kfok7WHxub\nxJi1KpPTnzn1Ny2rpt9SehPUtZw2J+rJ0dscmaA+FcTGLSaTKitJPzmBWKdEJzMZhiYmU6NMsfIa\n10PcoK6g9gbhT1T1o8BqPZQVXT0QN+gpmVgbYjKp+288ni0bx6izaxoITHBD07g/c+pvM+AirTcx\nXcvps5x525pMTWAZHLecQKiOfnICMWVORa45jiMmk1KmWHk59cSU/E4R2QpARDYA7heRxURk8URZ\n0dUDcYOekgm2AfuZxZBM6v5zxrNN45hydk0DgQlraMjrzzaDmhyZlN7E9DOnzTnztjWZmuChzRVP\nkr7ZEyCew05N5lh+O7XJ2uaGaU49FwJ/wZR8K0zJ98Oe7d5ZRJ4t7hVgGpZHvTFS1go6/23Jn4jI\n9aX67xSRrVT1xopBf15CJtaGlVV1j4BM6v5zxjM2BqmxiZ2L9XNKJpanzdmAT+29tCmT05859Tct\nKyWT0puYTue0OWfetimT2q+pW/FUZVJlJeknJxDrlNRkzjE0bW6Y5tQTVHJVXR/mvSgzXVXnveUn\nIpMiZcUM/RBxg75CTCbWBhE5IyKzVOL+c8azTeOYcpBNA4GJbGhy+rPNoCZHJjVvYjr9HuxTFU3a\nnDNv25RJBQ+xccsJhJL0kxOIdUpqMucYmtSGaUyZYuXl1BNT8m2wLwUuClwkIver6jk1ZUVXD6q6\nJgQN+p3YS2NdMiKyP/Zaf7UNsXpWxH7cInT/OePZpnFMOcimgcBENjQ5/dlmUJMjk5o3MV0Dmx9N\n2pwzb9uUSQUPba54kvSTE4h1Smoy5xiamEzthmmgvJx6oikXYFXsm+GfA27EPhkbLatm9bAtAYNe\nI9NRsBFtSKwQrk/cf854LhoZgxzjmEqvrR+RyTF0421ocvqzzaAmRyY6bxK69mPm7xX02uacedum\nTCp4aHPFk6SfnECsU7YlPpn/mWFoYgOWUqZYeXc1rSeh5Neq6nSxT8U+JSM/FRssK2boi+s+S8Cg\n18jMDbUhIZPq55zxvD0yBo2NY42z+3GkvBxDN96GJuXsYv3ZZlCTI5PSm80J61pOm3PmbZsyqXRp\nmyueJP3kBFKpjTUikzmWq04ZmisjMjkbpqsCOzWsJ5b2+avY1ylXEJGjsI/kdYgp2fEEDH0hEzTo\nRJxDcS7WhphMygA9mTGesZVFY+NY4+yaBgIT2dBsrKrPNOzP1oKaRFkpmZTePEBY13LanDNvY3qb\nIxNNl7a84knSN18R7RDolBGTGZg3mcXy20sD5c6HIicemRgxmRWAXUvKdCS2BBtS1WdCbYu1uaae\nctpnV+BGVX252ObvAdinYv8CnKGqz9aVpapLicg1al8ivVZVty9kzsZ+hWg3TIHWU9V3dK6JyATb\nkJJJ9UvoXM14ngGcHxiDrwHnhcYGc6ghmWuAPar9XFPPr1R161Lbr1fVbRLXDwG3RcZmVeCfgeMd\no9GWzBLA9Ib9+UcsSm1S/5UNy0rJDCUcV1DXEnMg2maN7IuV6upZb3NkOvpTOj/v37F5EJNJlVVH\n3ziBRKdcB7yBwGQuyfZsaBIyUYeCfWo61LacerqUHHv86zFV7TxfvBT2LZEja8oKGvriXMygx5zD\nJrE2JGRSBr3xeOZMdOLGMeUgmwYCUUM3AQxNTn9Gg6RY/S0HXCnHFdXppn2W0MEcvc2RSQUPVxMY\nt5xAqBOkxuindFAs5RBLa6SW/NGUR0wmtjwrjgU3THPqoTvlshIWzS4rIp8F7gYuBq7q4T4Pwgz9\nDcB/i78pGfQzin8vVbT1yJCMiJyGvcwTa0OwntT954xnagxSx0PnRORsiaTXEkvx6JNTGk9hBccm\nMWatyuT0p4hsKyJ3NKm/aVk1MmXHVdWbmE437jPiOpijtzkyqbTX3yPjlpPCWpME/fTG8FxVnY5N\nuKeY/6PUqVx5p/P/jXX++2rKisqUlPkG4NNiv15W17bG9WBKfj/zlfzJIgWxNXAE9sMnB6rqe1Nl\nFYZ+NVU9Q1UPAc4GPlsY9FOBH4vIW4rr7gSeG5MBtoq1ISFTd/+NxzM2BqmxSZyr9vMBdTKqur6q\nroH9YMyaqrpG8e/9E7oRG+fY8bZlGvdnTv0ZZaVkgrpRo2s5fZYzb1uTielTsXoMjltCZvFEWUn6\nyQnElDk6mclzHDGZlDLFymtUT0TJVwBQ1ceAKVg64peVvqmW1Vk9dBl6IgYdeCYh81ioDSmH0sP9\n54xnK8axxphEy8sxdIGxGVNDk9mfbQY1OTJdutGDruW0OWfetiZTE1gGxy0nEKqjn5xAV6f0MJlz\nDE1MJqVMsfKa1BMz3OWU3b9U9b5A31TLWiqxeggadBLRPrakDLUhJVN3/znj2YZxTDnIunpyDN24\nGZpR9GcrQc0oZEJ6U6drOW3OmbdtysSCjbZXPEn6Yk9Awjnsm7FNv2iunHB+O5UPD8oUx2PePFie\n2G+ENqnnSVXdWkSWxTaFlsEi9HNF5HPYZtGaxd8AqOrRkbL+VJx/TOwHqHcuGe6YQX8sIbNWpA0r\nxGRS/TyK8WzDOC4V6ufK6ioZCEh3nrbO0IT0KXa8LZlZ1OwlJdqdU3/TsoIyCb1J6WfjNufM2zZl\nMDvQpU9Sv/8W08Ho3k8dE/7poHKnYJ3X6ZTJqjq1MpkP7UxmCT/NcgOFoamUdZXOz2/HnoCZROVp\nGuDkSNuewH72rUk9f1HV1Yp/K4WSi8i8Jx+qqOp5PZT1K7XPzHb6834sihoC9in+BthHVVePyMTa\ncKSqvqQqkxizq7C0U+PxLMrtGgO1J5qCxyMyb9L5TwHN6+fyTSXqiT0FFbs+qE/A90PHCz1rS+Zv\nqrpy0/4s/m5Uf9OyEjLrAhtG9GZtnf/p7qp+Nuoz7ImkRvOWuN7myHTsQJc+ARuo6iYJuxbTweRT\nUyn6wQn8IdQpwDElozNiMuc4jhrDdSZhZdop0rYTYwOZqGcJVV21KH+Ekif6JlbWVOwllKqhB/vl\noRAnAWeFZEorjmr9MYfyrpgByhnP4lhbxjHqIFP1JAKBmNEcb0NT1qde+zMWJOUENTkBV9RxJXTt\nNdjnoZv02aYZ8zamt41lSgY9pE9X1syDxoFQHf2QDgouA0Xk46VrqrnyrQKdfyBwTKisGpk3EF9W\nx9qWWrrG6ukl7VMlVtYLStd8oiygqueFChKR8j8/EbomwCcif88o6grdf+PxTCyRn8Dejuwam4TM\n8rF+BiZHZK6S5imskKE5EDMawXRUxGjkyuT0ZyhIqqu/UVk1MnMSehPTtX1UdfWGbf5VqJ6aeZsz\n16PnIvr0WeLp2tGknpP0gxOIdUosTw15jiMmE/L0HWW6JlJedCAT9cSUPEVdnrRnYs4hR0ZGpo+q\n958znjFnl2Mcow4SOKxhIJAydONqaEQkGlQk+jMYJGUGNTkBV3R+JnRt/4w2x3QwNW9bk0k4wauI\nzwQk+y0AABaOSURBVIN5K55eAyF6pB+cQKxTbmd+aqM6mTcv/d2roWlzw/TlTeupM8JiPxRxJLAK\n8HPs/lMK2DqhNqjqXwOXpvo5Zzy3gPaisMT97R+pJxgIkDZ042poiEfOEO/PmBHOCWpyAq6c1XBO\nn+XM2zZl9tTutFcneCgHUKNa8UT6q4t+cAIxZdZEdHBchqHZNyKzRumaqjLF2vb9jHpSig5wLvZx\nqO2wx8DOAVbPLKuJQa9rw3aB61IGKGc8YyuLHOOYolEgUGPoxtvQpPZyYv3ZWlCTaldCJmc1nNPm\nnHnbpkw0XdryiqcnJvzGcA5S80RNQ5nGG6Ztt62Q63zjpvP/67Hnh6NlpQy9iFyEGfR3FtecoKrb\n1ch0tUHt41U5DqVnJL4peAj2zZTQBvi+EZmcje7gk1OJ6yG+Ab8V9tmAJuTIpHQ91u4NsFRCk/qP\na1hWSiYneFkLeKhJm3NSn23SmT/F370+BBKUySmrSj+sBBqTM8iJCVP+Z6/RSeN6SvWljPC6xf9f\nAMzu4T5TkfsKqnquiOynqjeJyCI9yHS1oReZFmgzCgOi6bWYzDJNV5aJsckxQG0braarsVRwEis3\ntbKLyfRCVdcOU9WQro2roa+h8eotIRNd8fQapPa9E1jQUeg4RA0xg/oB7Bvh62ERVi9vBMYMPRA1\n6CmZWBuS9TQhMp5tGtQOXf0cMSZZhm6i0LA/G9NmwNUjrenaOFKb9gqM21eZv+LpNRDqib5xAglj\n3zgKbdtxxMrLrCeo5Kp6h4i8Hlv+TlN73b6XtoUMPSScSkwm1YaQTM2qprXxzKRnYzLRDX0NY9Wf\nrVE3bxI63Uo9OXrbUObGjP23Bbbi6RsnQFyZo5M5x9C0vGGaVU/EoL4POBz7zs1LROQzqnpBTVlR\nQ58w6CnnEGtDTCZlgBqPZ9u0ZUxq6hgvQ9M517g/2wxqWp5PENG1zDY3nrcty6QYs3nQT0upFVT1\nXOBZVb2JUtsTk/lc4F5gbeZ3frKsmIyITBaRz4o9xvZGEXlxD21rXA/zlXwTTMk/XBw/EHiZqv4P\n9ozxYXVlqeodwOuBXYDdVPUPpT57H7ZxdiTwGxHZr04m1oaETOr+G49nbAxSY5M4F+vnurHuoub6\n2DjHjrct07g/c+rPKCslE9WNhK7l9FnOvG1TJslYBCn02piJQqRTopOZPMcRk0kpU2qiNaonoeQP\nluSfBB6pKytm6AuCBr1GJtiGlExKkTPGszXjWOPsmgYCE9nQ5PRnm0FNjkxqPsV0LafNOfO2NZma\n4CE4bjmBUB395ASCnVIzmXMMTXLDlLAyxcprXE9CyRcB/ldEzgJuAVYWke+KyHcTbU6tHmJOJSUT\nbAP2inpIJnX/OePZmnGscXZNA4EJa2gy+7O1oCZTJqU3Uf3MaHPOvG1TJuoEW17xJOkbJxDrlJrJ\nnGNoUmmC6IZpqLzMemJKfjz2XPx3sO+pH4Z92O7MRFmp1UPMoK+UkIm14e6QTOr+M8ezTYOacnaN\nA4GJamgy+7O1oCZHpmbexHS6cZtz5m2bMqT1qdUVT4q+cQKJTolO5hxDkxiwlHMIlpdZT0zJ/4Rt\nbq0GrA5sqaq/Lv6LlZVaPcQM+j8TMsE2YG/UhmR+F7v/nPFMjEGOQU05yKaBwEQ2NI37s82gJkem\nxnHFgpejm7Y5Z962KVOciwUPba54kvSNEyDeKdHJnGNoYjI1yhwrr3E9xJX8LuyJgvcCbwe27KGs\n1OohZtCPSMhcEmlDrJ7nxu4/0TfR8WzZOEYdZNNAYIIbmsb92WZQkxkIpRxXTNf+3bTNiXpS9bcp\nkwpeWlvx1NFPTiDWKalot7GhicnUKFOsvMb1kFByVT0IezFkJ2D5HsqKrh6IG/SUzFCkDTGHck/i\n/huPZ8vGMeogmwYCE9zQNO7PnPrbDLhIz5uYru2Q0Wc587Y1mZrAsrUVTx399J5Ap1NuwgZzsaJT\nFsEmM4z8dgvAx0gbmmpZUL9h+pSILA38GrigprwNM+r5E7AzsBj2KvgqqnqCiDwiIksCz8E+wFUe\nu1hZl2AriA2wz9A+UZIZUtWDRORc7Mcoru9BZnakDTGZVD/njOdXCI9Bamxi54L9DCAiwXok/p5E\nqv5xNTSYs+vQa3+OJqjptayUTEpvViWsazltzpm3bcqsjf3oTde7P8THbQ/McY6QSehmLf3kBGKd\nMhmLDEKT+eM0NzQxmboN01Dbbgb+2LCeV2NGtarkXwM+CFwJ/AP75aYOMSVbT+2jcFVDD3GDHnMO\nqTbEZFIGiMi51Hi2aRxTzq5pIDCRDc3iwA8b9mebQU1OwJXSm89EdC2nzTnztsxoZc7Gfk4yFDzE\ngsGcQChJPzmBWKf8mvhkznEcRGTWJq5Mh0baloo2Y/WsH1JyVf1h5wIRuUhVH+/hPtdNrB5iBj3m\nHFJtiMmk7n/5SJ+lxrNN45hykDGZWCCQMnTjbWhOwdJ+TfozFiTlBDU5AVfKccV0LaefYzYlR29z\nZFLp0liQkhMIJeknJxDrlFTkmuM4YjJHlK6pKlOsbalos1HaR0QOwIz2UsW/UdU1a8o6nsjqIWHQ\noyuORBtiMqn7zxnPNg1qykHG6okFAilDN96G5vGM/gwGSZlBTU7AlXJcMV3L6eeYHcjR2xyZVPAQ\nmweNAyFV3YcE/eQEYp0SjVzJMzQxmZQyxcrLqSem5AcDu2FPQVQJlpVaPcQMes2KI9iGhEzq/nPG\ns02DGnWQiXpigUDK0I23ocnpz5w2txlwRR1XQtdy+ixn3rYpk0p7fbLFFU+SfnICMWVO5cpzDE2b\nG6aN60ko+X9U9f5I3wTLqlk9BA16jUywDQmZ1P3njGdrxrHG2TUKBGoM3Xgbmpz+bDOoyZGJ6k1C\n13LanDNv25RJBS+trXjq6CcnEOyUmsmcY2ja3DBtXE9AyZcDTgcWF5ErgD8U15d/NCLW5tTqIeZU\numRk/g9VxNoQqyd1/znj2ZpxrHF2TQOBCWtoMvuztaAmUyalNzFdy2lzzrxtUyYavLS84knSN04g\n1ik1kznH0LS2YZpZT1XJ98M2fGI/V5gqq8vQ92DQQzKdumNtCDqU1P1njmebBjXlIJsGAhPW0GT2\nZ2tBTY5MzbyJBS+N25wzb9uUIRE8tLziSdI3vzFc7RQAVV1TRH4PvJHSZFbVpwPyU2KGplNWjcyb\ngHWwX/f5NHCDqu5d07aceq5Q1Z0r5zdU1T+KyOLYo2BPA+eq6txQWcBRxT+3AJ6hZOiJG/I3Y0vN\nLhlVPTrShs69xGSi958znrExqBmbmExXP5f6MCZzDeY4zgP2Bm5W1Vem6q+UO0VHGrTk8TZkcvoz\np/6cshL93KUbwPeK/wd1LbPNjedtyzJBfSpkguOW0MFoWXX0kxOIdUpqMucYmlrDHVCmWNua1NNJ\n+1SVfDNs43Er7EfvVwPuL8o6LFLWMsBHQn2i9gP0IYM+m/mOosoKwFsCbViPyCZUUU/q/huPZ5lc\n40jCQVaNSbW8TEM33oamcX+2HNTkyHTpBmbYghS6ltNnOfO2TZlU8BIct5xAqI6+SQdRWQaKyOfE\nHjFL5cpjS/7UJmtrG6YN64mlffYCpLi3fYC1VfVRsUfBUm1eN7R6EJEPAW8Rka2AEyk5FWx10SWD\nvaG4ZaQN/xuRqbv/xuMZG4PU2CQcZDS9Fisvtqyv0Y2YDqbSUW3IHCeW+mvcnzn1Z5SVkgnpTSx4\n6ehaTp/lzNvWZEL6JDXp2pgOxo73woR3AolO2QD7UFIqV57jONrYMN0Oe2OvST3nRJT8XlWdIyKb\nFH8/Wlw/lLjPmKH/MrayCBn0vwGbR2RmRtqwCnBWQOa3InJV6P5L5IxnWwY16CDryssxdIyToRGR\nPxd/5vRnG0FNjkzUcQH/Ia7ThzVpc868LdGGTDBdWtimTxcywXHLCYTqmPBOgPmdUe0UJRKF5jiO\nOg9Msw3T5xXHmtSzGTA5oOQiIusA+wM/LcpYG9tUi5X19kI+FLnHDPrzgBfHZCJtWB77jeKqzN2x\n+y/R83iWrmnDOKYc5GEhmRI9G7qJYGiA7zfpz0SQ1DioyQm4ahzXQYSDlwdE5L8N+6zxvC3RhkyH\nLn0q0kRtr3iS9MWeQKRTlsVSJV25cmzAY8QMzdsi1+dsmJ6LfROkST3HMj/t8yDzlfx27DXwfwP7\nAi/HvgmyZ3F9iCNUdYPC0J+u8zebfgM8Drwf+9TFg6p6fGHQb1HV5SIyhwGnBdrwL7VNqZDMQaH7\nV9W5GeP53+L/1THoTPTQBjgRmbKDLPfzTcC1EZnOWI/I05YMfZMN+K2w9FoTcmR2xhx0k/7sBElN\n6u/oYK9lpWQg7rguV9XXBHTtr8BnmrRZ4/ti0Xmb0NssmeJcV96/E6QQ2QMMyRRyweO9MOGdQKJT\n9gJeQGAyq+qWTQ1N0cFtbZhuDCzRsJ69Ikr+G1XdotQfSwBzVfXZ4t+hsvYkbOjPxb4zHjLo/8QM\nZJeMqm5TGZMlgLnAzyP1XAE8HLr/4v+NxhP7xHOIHOOYcpBnRGRigUDU0E0AQ/NuYGua9SfEg6Sm\nQU2qrJhMynGtS1ynD23Y5sNpOG+J622OzJbAVYSd4A6Ex+0B4NsBmWggpIEHHUL0gxP4DeFOeVRV\nnxuZzBfR3NBcHJGB9IZpqG0zsR9UaVLPG7Bv9FeV/DpgR1W9M9A3X8Im1KqVslYC1iCwelDVmytl\ndAz6xoSdw55YGui0ahtEZDPst0wnAy8tyTwKbBS5/6Gm46mqW7RoHKMOUlW3yQgEYoZuvA3NG1R1\ntYb9GQuScoKanIAr5bgOJ6yfPwI2b9hnm0XqSc3bmN7myNyN/S53iH3bXPFE6hhBPziBKyOd8ig2\nmKHIYBLNHQcRmb9hj12FlGm9WNsy6omlfd6NOYhXYCmGBzGl2whzaBtiUXfXaqjUh/NWDyJyBgGD\nXly3EXCwqr63IrM8prShNtwCfFJVHy45lEtjqxpsT6LpeF5Ce8Yx6iCxCK1JIJBKYY23oZkBvLJh\nf8aCpJygJifgSjouSpR07bqMPpuVMW+jepshE02XApfR0opHA+8RheiHXxYblvCm5N+A8zEFOkVE\ntgOuwR7/m6mqczAjVd78JFLW7ITM8zDjMBfbkNpf7fn8TRNtix1P1fNfVX2lqu6hqrOwD0KtqapX\nqur7sN8Z+Dbwe+BCbBl4u6o+GChrTRFZv3PPqvq0Fukj4LvAD0TkFhE5X0S+JCJni8hD2C88HROQ\neRGwaKAN/wt8TVUfrsgMi8jrsRdXqvefM54dA10dg40TYxOTeVGkn29OyLweewpqEraZvBOWCjoi\nUX9snOdEjg+1LPNARn8ulVF/07JSMlNi80ZEzojo9MxiLC5q0OacedumzEqE9enL2N5gaNz+EJG5\nNlFWT/TD00GdTvk3cHTRKV2pDRHpTOZnRaTO0HSVBXw6Npgaf0Qz1rYPZ9Szuois34nQtfTWczlC\nL3dMzX0eIiKxyH177Psim2NO7iHgU9hP110q9tRTVeYYVZ2J5TI79d8GfDZQzwuBb2CKe0rl/udm\njGfsiaY5ibGJyawZ6+eCr2M5816enHpHov7xNjSPamkvp8f+jAVJqfqfbFhWSqbjuELzZhphXXsl\n5timUzwQ0kObc+ZtTG9zZB4l8t5N4QznvenbGTdsxROSKa94Yu8RJZnw6aAqpWXgacTTGvsCJ2NR\nXjQnLiNTHpvR0oZpKYJuUk8q7TMv5VIpN1bWnqp6s4hMZqShv1lV/0uCBSET65fyOdLjeRPw96Ls\nEU80EU95PEF4Wf1t4DbC/bwiNnn3rdaj4SenUims2Ab8J7HfdQ6lo+a2KPM74NiG/fkDbHOxSf2f\njvRzrKyUzIg5FdKbgK49i0XAPbdZI/tiqXkb6MNsGdLp0j8S3n+7Evgo5sBeoD2ko7SSQosx4Z2A\nRHLYYnnq07Hd9CtIGM0eDc2IaFtGt2F6BvbBqp0D0XuwHp3/tE9jI1wqO6qAY0lszIpzFwHDqrpX\n5XhqPO/D8vgPMHrjGHWQwPoRmVggEDV0E8DQTCa+jxPrz2iQFKu/LhBpKJNyXMHVcE6fJWxKat7G\n9DZH5grsw3bHA9+rBA97EB63PbGn8Z4A7uslEKoGqTH6wQnUbUp+EfvFp/JkPonmjmNJbLOm/JXD\njlzTDdOXY9/1fgb74efG9fTYNz1t8vZSVpvUjNkfsXTJSwPnguNZdYJtGtSa+6gNBBKGblwNTXFu\nI+AD2P5NbX8SCZJygppYWTUyKccVWw3n9PO2mB34L73P25je5shsiT1e/gfMuHfp04JY8cSY8E6g\nQ5MIOdNxLBGReT3wS+ADAQXcCHtT74hQ2yLRZqyeqKIn+qSnp3Z6KWtBkBqzhuPZmkEtzsX2WBo9\nOUXa0I23ockxnLEgqXFQM8qAq9ZxVeppGojdghnP6r5YdN7W6e1odH00AUqTQChG3ziBHFrKbyu2\nYdqqoR1N2mdBljURyZzoOcYxVk8wEOglJckEMTQ93mdyNZYZ1DQJuLLnVE6fjRc5K/jMQKinbMBC\n7QTaZCIq06CxoI1jop66QKA2hTURGe9AZFDnVM4KfjQrnjqH6k7AcXpkUI2Ws2Bo03GORjfdCTiO\n4www/fDGsOM4jrOAcCfgOI4zwLgTcBzHGWDcCTiO4www/fABOcfJQkRWwz6mt5Oq/rJ0/G/Adqr6\n9wVQ57LYJwFehn3U65/Y+wV/FZHVsQ/xHVBTxjWq+qq22+Y4IXwl4CzsPAt8Q0SeUzq2IB+JOwH4\nk6q+TFU3xD5Y973i3OrYFyHr2H7BNM1xuvGVgLOw8y/s89cnY99YAXuTGBE5GvveymzsrcuPYr+d\ncAlwB/bNoH9j32F5VER2Bo7D5s3fgANVdUalvpWBB0VkSFWHge9j37wHOAVYQ0ROw34p63Tso3Ur\nYS8AvQn4QtG2zi+A7YJ9dTNVp+Nk4ysBZ2FnGPus884i8urS8d2B12KGfmPsjd+DinMbAl9S1Q2A\nx4B9ReR5wOeB16jqy/n/9u4eNIooCsPw608hYiFBhBCwEj4sTRcEQSyCjVUKk04hFooWMb0IVopd\nMJBCUPAXS60iCG4hQhSiATmFqWNlYxEF0eLcMZMh4poNBHe+p1ru3NkzxTJn7p3lnEwaNzaId50s\nC74i6RFwDnhRjl0GFiLiEllE7FtEHCux9wKnIuvJUxLAAXJl8beYZpvmJGB9L7KD2CS5LbSvDJ8A\nHkbE98g2fHfIzmmQJXnfl89LwABZrvcQ8FLZTOci2RS9Gesdue0zRj7dTwGvJO1szOsAs5IukCuE\nw0B1bdV2VVcxzXrhJGCtEBHz5LbQrTLU/O3vYG17dLU2/rMc2wV0ImI4Io6y1sJyHUm3gd0R0YmI\nq+Sq4iC52qjPOw3cB76SCahT4tR1FdOsF04C1u/qN9ZpYBQYJPu2jkvao+zPeraMNc+pvAFGSsMO\nyAqhNzeYdwSYllR9xxB5M/9EvnuoEs1J4HFE3CNrvRwv8wB+lJVDtzHNNs1JwPrd738CRfZIniSr\nLj4DngMLwAfypetM85zauZ/J/f0nkhbJKo1XACRdk3S+TD1DNvpelrQEPADGI/vofgT2S7oLzAET\nkt4CT4HXZLcvyJ64i8CXP8U02youIGfWo1K3fSQiZrf7Wsz+lVcCZr0bJJ/4zf47XgmYmbWYVwJm\nZi3mJGBm1mJOAmZmLeYkYGbWYk4CZmYt9gtozsdfNtug4wAAAABJRU5ErkJggg==\n",
      "text/plain": [
       "<matplotlib.figure.Figure at 0x103e4f4d0>"
      ]
     },
     "metadata": {},
     "output_type": "display_data"
    }
   ],
   "source": [
    "groups.unstack().plot(kind=\"bar\")\n",
    "\n",
    "#plt.plot(groups)\n",
    "#plt.show()"
   ]
  },
  {
   "cell_type": "code",
   "execution_count": 38,
   "metadata": {
    "collapsed": false
   },
   "outputs": [
    {
     "data": {
      "text/plain": [
       "array([[<matplotlib.axes._subplots.AxesSubplot object at 0x11c7319d0>]], dtype=object)"
      ]
     },
     "execution_count": 38,
     "metadata": {},
     "output_type": "execute_result"
    },
    {
     "data": {
      "image/png": "iVBORw0KGgoAAAANSUhEUgAAAX0AAAEKCAYAAAD+XoUoAAAABHNCSVQICAgIfAhkiAAAAAlwSFlz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\nYII=\n",
      "text/plain": [
       "<matplotlib.figure.Figure at 0x11c73b690>"
      ]
     },
     "metadata": {},
     "output_type": "display_data"
    }
   ],
   "source": [
    "groups.hist()"
   ]
  },
  {
   "cell_type": "code",
   "execution_count": 39,
   "metadata": {
    "collapsed": false
   },
   "outputs": [],
   "source": [
    "#import numpy as np\n",
    "\n",
    "#ufo[ufo.notnull()]"
   ]
  },
  {
   "cell_type": "code",
   "execution_count": 40,
   "metadata": {
    "collapsed": false
   },
   "outputs": [],
   "source": [
    "#ufo.head()\n"
   ]
  },
  {
   "cell_type": "markdown",
   "metadata": {},
   "source": [
    "### 2. What is the breakdown of dtypes in our dataframe?"
   ]
  },
  {
   "cell_type": "code",
   "execution_count": 41,
   "metadata": {
    "collapsed": false
   },
   "outputs": [
    {
     "data": {
      "text/plain": [
       "City               object\n",
       "Colors Reported    object\n",
       "Shape Reported     object\n",
       "State              object\n",
       "Time               object\n",
       "dtype: object"
      ]
     },
     "execution_count": 41,
     "metadata": {},
     "output_type": "execute_result"
    }
   ],
   "source": [
    "ufo.dtypes"
   ]
  },
  {
   "cell_type": "code",
   "execution_count": 42,
   "metadata": {
    "collapsed": true
   },
   "outputs": [],
   "source": [
    "# Solution here"
   ]
  },
  {
   "cell_type": "markdown",
   "metadata": {},
   "source": [
    "### 3. Provide a \"Data Dictionary\" that describes these features:\n",
    "\n",
    " - Variable / feature name\n",
    " - Brief description of what variable appears to represent\n",
    " - Expected dtype(s)\n",
    " - Number of unique values observed if categorical and < 20 unqiue \n",
    "\n",
    "_Please use \"Markdown\" tables to provide this info.  It's a good idea to get familliar with using markdown format when communicating your results.  Here's a primer on [markdown tables](https://github.com/adam-p/markdown-here/wiki/Markdown-Cheatsheet#tables).  No groaning allowed!_"
   ]
  },
  {
   "cell_type": "code",
   "execution_count": 43,
   "metadata": {
    "collapsed": false
   },
   "outputs": [
    {
     "ename": "SyntaxError",
     "evalue": "invalid syntax (<ipython-input-43-ae663469cd53>, line 3)",
     "output_type": "error",
     "traceback": [
      "\u001b[0;36m  File \u001b[0;32m\"<ipython-input-43-ae663469cd53>\"\u001b[0;36m, line \u001b[0;32m3\u001b[0m\n\u001b[0;31m    | Variable | Description | Expected dtype(s) | Num of unique Values\u001b[0m\n\u001b[0m    ^\u001b[0m\n\u001b[0;31mSyntaxError\u001b[0m\u001b[0;31m:\u001b[0m invalid syntax\n"
     ]
    }
   ],
   "source": [
    "## Change this cell to a \"markdown\" type cell\n",
    "\n",
    "| Variable | Description | Expected dtype(s) | Num of unique Values\n",
    "| --- | --- | :---: | ---:\n",
    "| City | City of sighting | Str | 80496\n",
    "| Colors Reported | Reported color of sighting | Str | 17034\n",
    "| Shape Reported | Reported shape of sighting | Str | 72141\n",
    "| State | State of sighting | Str | 80543\n",
    "| Time | Time of sighting | Date/Time | 80543"
   ]
  },
  {
   "cell_type": "code",
   "execution_count": 44,
   "metadata": {
    "collapsed": false
   },
   "outputs": [
    {
     "data": {
      "text/plain": [
       "17034"
      ]
     },
     "execution_count": 44,
     "metadata": {},
     "output_type": "execute_result"
    }
   ],
   "source": [
    "#ufo.head()\n",
    "\n",
    "ufo['Colors Reported'].count()"
   ]
  },
  {
   "cell_type": "markdown",
   "metadata": {},
   "source": [
    "### 3. Which colors are most commonly reported?\n",
    "Provide a breakdown of colors by count."
   ]
  },
  {
   "cell_type": "code",
   "execution_count": 45,
   "metadata": {
    "collapsed": false
   },
   "outputs": [
    {
     "data": {
      "text/html": [
       "<div>\n",
       "<table border=\"1\" class=\"dataframe\">\n",
       "  <thead>\n",
       "    <tr style=\"text-align: right;\">\n",
       "      <th></th>\n",
       "      <th>Colors Reported</th>\n",
       "    </tr>\n",
       "    <tr>\n",
       "      <th>Colors Reported</th>\n",
       "      <th></th>\n",
       "    </tr>\n",
       "  </thead>\n",
       "  <tbody>\n",
       "    <tr>\n",
       "      <th>ORANGE</th>\n",
       "      <td>5216</td>\n",
       "    </tr>\n",
       "    <tr>\n",
       "      <th>RED</th>\n",
       "      <td>4809</td>\n",
       "    </tr>\n",
       "    <tr>\n",
       "      <th>GREEN</th>\n",
       "      <td>1897</td>\n",
       "    </tr>\n",
       "    <tr>\n",
       "      <th>BLUE</th>\n",
       "      <td>1855</td>\n",
       "    </tr>\n",
       "    <tr>\n",
       "      <th>YELLOW</th>\n",
       "      <td>842</td>\n",
       "    </tr>\n",
       "  </tbody>\n",
       "</table>\n",
       "</div>"
      ],
      "text/plain": [
       "                 Colors Reported\n",
       "Colors Reported                 \n",
       "ORANGE                      5216\n",
       "RED                         4809\n",
       "GREEN                       1897\n",
       "BLUE                        1855\n",
       "YELLOW                       842"
      ]
     },
     "execution_count": 45,
     "metadata": {},
     "output_type": "execute_result"
    }
   ],
   "source": [
    "#groups = ufo.groupby(['State'])[['Shape Reported']].count()\n",
    "\n",
    "#tmp = ufo.groupby(['Colors Reported']).count()\n",
    "#tmp.sort(('Colors Reported'))\n",
    "tmp = ufo.groupby(['Colors Reported'])\n",
    "\n",
    "groupColors = tmp[['Colors Reported']].count().sort_values(['Colors Reported'], ascending = False)\n",
    "\n",
    "groupColors.head()"
   ]
  },
  {
   "cell_type": "code",
   "execution_count": 46,
   "metadata": {
    "collapsed": false
   },
   "outputs": [
    {
     "data": {
      "text/plain": [
       "<matplotlib.axes._subplots.AxesSubplot at 0x11c73b9d0>"
      ]
     },
     "execution_count": 46,
     "metadata": {},
     "output_type": "execute_result"
    },
    {
     "data": {
      "image/png": "iVBORw0KGgoAAAANSUhEUgAAAXoAAAG5CAYAAACA3P+KAAAABHNCSVQICAgIfAhkiAAAAAlwSFlz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\nOBHogyAIZjgR6IMgCGY4/x/qsQa2e2jGMAAAAABJRU5ErkJggg==\n",
      "text/plain": [
       "<matplotlib.figure.Figure at 0x11c73b190>"
      ]
     },
     "metadata": {},
     "output_type": "display_data"
    }
   ],
   "source": [
    "groupColors.plot.bar()"
   ]
  },
  {
   "cell_type": "code",
   "execution_count": null,
   "metadata": {
    "collapsed": false
   },
   "outputs": [],
   "source": [
    "#newTmp.sort_values(ascending = False)"
   ]
  },
  {
   "cell_type": "code",
   "execution_count": null,
   "metadata": {
    "collapsed": false
   },
   "outputs": [],
   "source": [
    "#countColors = pd.DataFrame.sort_values(tmp['Colors Reported'], tmp[''] by axis = 1, ascending = True)\n",
    "\n",
    "#countColors"
   ]
  },
  {
   "cell_type": "markdown",
   "metadata": {},
   "source": [
    "### 4. Which shapes are most commonly reported?"
   ]
  },
  {
   "cell_type": "code",
   "execution_count": null,
   "metadata": {
    "collapsed": false
   },
   "outputs": [],
   "source": [
    "tmp2 = ufo.groupby(['Shape Reported'])\n",
    "\n",
    "\n",
    "shapes = tmp2[['Shape Reported']].count().sort_values(['Shape Reported'], ascending = False)\n",
    "\n",
    "shapes.head()\n"
   ]
  },
  {
   "cell_type": "markdown",
   "metadata": {},
   "source": [
    "### 5. Are there any shapes that take on some colors more than others?\n",
    "_* Warning: Use of broad langauge._"
   ]
  },
  {
   "cell_type": "code",
   "execution_count": null,
   "metadata": {
    "collapsed": false
   },
   "outputs": [],
   "source": [
    "tmp3 = ufo.groupby(['Shape Reported', 'Colors Reported'])\n",
    "\n",
    "combineSC = tmp3[['Shape Reported', 'Colors Reported']].count().sort_values(['Shape Reported', 'Colors Reported'], ascending = False)\n",
    "\n",
    "combineSC.head()\n"
   ]
  },
  {
   "cell_type": "code",
   "execution_count": null,
   "metadata": {
    "collapsed": false
   },
   "outputs": [],
   "source": [
    "shapes2 = ufo.groupby(['Colors Reported', 'Shape Reported'])\n",
    "\n",
    "shapes2[['Shape Reported']].count().head()"
   ]
  },
  {
   "cell_type": "code",
   "execution_count": null,
   "metadata": {
    "collapsed": false
   },
   "outputs": [],
   "source": [
    "shapes5 = ufo.groupby(['Shape Reported', 'Colors Reported'])\n",
    "\n",
    "newDF = shapes5[['Shape Reported']].count()\n",
    "\n",
    "#.sort_values(shapes5['Colors Reported'], ascending = False)"
   ]
  },
  {
   "cell_type": "code",
   "execution_count": null,
   "metadata": {
    "collapsed": false
   },
   "outputs": [],
   "source": [
    "newDF.groupby"
   ]
  },
  {
   "cell_type": "code",
   "execution_count": null,
   "metadata": {
    "collapsed": false
   },
   "outputs": [],
   "source": [
    "shapes3 = ufo.groupby(['Shape Reported', 'Colors Reported'])\n",
    "\n",
    "shapes3[['Shape Reported']].count().sort_values(['Shape Reported'], ascending = False)"
   ]
  },
  {
   "cell_type": "code",
   "execution_count": null,
   "metadata": {
    "collapsed": false
   },
   "outputs": [],
   "source": [
    "shapes4 = ufo.groupby(['Shape Reported', 'Colors Reported'])\n",
    "\n",
    "shapes4[['Shape Reported']].count().sort_values(['Shape Reported'], ascending = False)"
   ]
  },
  {
   "cell_type": "code",
   "execution_count": null,
   "metadata": {
    "collapsed": false
   },
   "outputs": [],
   "source": [
    "combineSC.count_values(['Colors Reported'])"
   ]
  },
  {
   "cell_type": "code",
   "execution_count": null,
   "metadata": {
    "collapsed": false
   },
   "outputs": [],
   "source": [
    "#combineSC['Shape Reported']\n",
    "\n",
    "combineSC['new column'] = combineSC['Colors Reported'].count(['Colors Reported'])\n",
    "\n",
    "combineSC"
   ]
  },
  {
   "cell_type": "code",
   "execution_count": null,
   "metadata": {
    "collapsed": false
   },
   "outputs": [],
   "source": [
    "##################   df = pd.DataFrame({'key': list('bbacab'), 'data1': range(6)})\n",
    "\n",
    "################    df\n",
    "\n",
    "\n",
    "################ pd.get_dummies(df['key'])\n",
    "\n",
    "\n",
    "combineSC['new column'] = combineSC['Colors Reported'].count()\n",
    "\n",
    "combineSC"
   ]
  },
  {
   "cell_type": "markdown",
   "metadata": {},
   "source": [
    "### 6. Display only the group for \"CIGAR\" using a bit mask.. \n",
    "Go ahead try it out."
   ]
  },
  {
   "cell_type": "code",
   "execution_count": null,
   "metadata": {
    "collapsed": false
   },
   "outputs": [],
   "source": [
    "cigar = combineSC['Shape Reported'][['CIGAR']]\n",
    "\n",
    "cigar"
   ]
  },
  {
   "cell_type": "code",
   "execution_count": null,
   "metadata": {
    "collapsed": false
   },
   "outputs": [],
   "source": [
    "#ufo['Shape Reported'][['CIGAR']]"
   ]
  },
  {
   "cell_type": "code",
   "execution_count": null,
   "metadata": {
    "collapsed": false
   },
   "outputs": [],
   "source": [
    "cigar.plot.bar()"
   ]
  },
  {
   "cell_type": "markdown",
   "metadata": {},
   "source": [
    "### 7. Return only the group for \"VARIOUS\" without using a bit mask..\n",
    "It can be done and we're not just making this up!"
   ]
  },
  {
   "cell_type": "code",
   "execution_count": null,
   "metadata": {
    "collapsed": false
   },
   "outputs": [],
   "source": [
    "combineSC['Shape Reported'][['VARIOUS']]"
   ]
  },
  {
   "cell_type": "code",
   "execution_count": null,
   "metadata": {
    "collapsed": false
   },
   "outputs": [],
   "source": [
    "newList = []\n",
    "for i in combineSC['Shape Reported']:\n",
    "    for x in i:\n",
    "        if x == combineSC:\n",
    "            newList.append(i)\n",
    "            print newList\n",
    "#newList\n",
    "\n",
    "#combineSC"
   ]
  },
  {
   "cell_type": "markdown",
   "metadata": {},
   "source": [
    "### 8. Plot the counts of shapes, states, colors\n",
    "Double check our notebook and feel free to use Google for help."
   ]
  },
  {
   "cell_type": "code",
   "execution_count": null,
   "metadata": {
    "collapsed": true
   },
   "outputs": [],
   "source": [
    "newTmp = ufo"
   ]
  },
  {
   "cell_type": "code",
   "execution_count": null,
   "metadata": {
    "collapsed": false
   },
   "outputs": [],
   "source": [
    "shapes.plot()\n",
    "stateCount = ufo.State.count()\n",
    "stateCount.plot()\n",
    "combineSC.plot()"
   ]
  },
  {
   "cell_type": "code",
   "execution_count": null,
   "metadata": {
    "collapsed": false
   },
   "outputs": [
    {
     "data": {
      "text/plain": [
       "<matplotlib.axes._subplots.AxesSubplot at 0x11ef02950>"
      ]
     },
     "execution_count": 54,
     "metadata": {},
     "output_type": "execute_result"
    },
    {
     "data": {
      "image/png": "iVBORw0KGgoAAAANSUhEUgAAAXkAAAIZCAYAAABDH0/6AAAABHNCSVQICAgIfAhkiAAAAAlwSFlz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\nMP8HIKrbhQN3dKkAAAAASUVORK5CYII=\n",
      "text/plain": [
       "<matplotlib.figure.Figure at 0x11ed28210>"
      ]
     },
     "metadata": {},
     "output_type": "display_data"
    }
   ],
   "source": [
    "ufo['City'].value_counts().plot(kind = 'bar')"
   ]
  },
  {
   "cell_type": "code",
   "execution_count": null,
   "metadata": {
    "collapsed": true
   },
   "outputs": [],
   "source": [
    "ufo.groupby(['City']).count().unstack()['State'].plot(kind = 'bar')"
   ]
  },
  {
   "cell_type": "markdown",
   "metadata": {},
   "source": [
    "### 9. Plot counts of sightings per City"
   ]
  },
  {
   "cell_type": "code",
   "execution_count": 52,
   "metadata": {
    "collapsed": false
   },
   "outputs": [
    {
     "data": {
      "text/html": [
       "<div>\n",
       "<table border=\"1\" class=\"dataframe\">\n",
       "  <thead>\n",
       "    <tr style=\"text-align: right;\">\n",
       "      <th></th>\n",
       "      <th>Colors Reported</th>\n",
       "      <th>Shape Reported</th>\n",
       "      <th>State</th>\n",
       "      <th>Time</th>\n",
       "    </tr>\n",
       "    <tr>\n",
       "      <th>City</th>\n",
       "      <th></th>\n",
       "      <th></th>\n",
       "      <th></th>\n",
       "      <th></th>\n",
       "    </tr>\n",
       "  </thead>\n",
       "  <tbody>\n",
       "    <tr>\n",
       "      <th>((HOAX??))</th>\n",
       "      <td>0</td>\n",
       "      <td>1</td>\n",
       "      <td>1</td>\n",
       "      <td>1</td>\n",
       "    </tr>\n",
       "    <tr>\n",
       "      <th>((Unspecified location))</th>\n",
       "      <td>0</td>\n",
       "      <td>1</td>\n",
       "      <td>1</td>\n",
       "      <td>1</td>\n",
       "    </tr>\n",
       "    <tr>\n",
       "      <th>(City not specified)</th>\n",
       "      <td>1</td>\n",
       "      <td>1</td>\n",
       "      <td>1</td>\n",
       "      <td>1</td>\n",
       "    </tr>\n",
       "    <tr>\n",
       "      <th>(above mountains in airplane)</th>\n",
       "      <td>0</td>\n",
       "      <td>1</td>\n",
       "      <td>1</td>\n",
       "      <td>1</td>\n",
       "    </tr>\n",
       "    <tr>\n",
       "      <th>Abbeville</th>\n",
       "      <td>1</td>\n",
       "      <td>7</td>\n",
       "      <td>7</td>\n",
       "      <td>7</td>\n",
       "    </tr>\n",
       "  </tbody>\n",
       "</table>\n",
       "</div>"
      ],
      "text/plain": [
       "                               Colors Reported  Shape Reported  State  Time\n",
       "City                                                                       \n",
       "((HOAX??))                                   0               1      1     1\n",
       "((Unspecified location))                     0               1      1     1\n",
       "(City not specified)                         1               1      1     1\n",
       "(above mountains in airplane)                0               1      1     1\n",
       "Abbeville                                    1               7      7     7"
      ]
     },
     "execution_count": 52,
     "metadata": {},
     "output_type": "execute_result"
    }
   ],
   "source": [
    "cityCount = ufo.groupby(['City']).count()\n",
    "cityCount.head()\n",
    "\n",
    "# import numpy as np\n",
    "\n",
    "\n",
    "# tmpINFO = ufo['City'].count().sort_values(['City'], ascending = False)\n",
    "\n",
    "# tmpINFO.head()"
   ]
  },
  {
   "cell_type": "code",
   "execution_count": 53,
   "metadata": {
    "collapsed": false
   },
   "outputs": [
    {
     "data": {
      "image/png": "iVBORw0KGgoAAAANSUhEUgAAAXcAAAERCAYAAACAbee5AAAABHNCSVQICAgIfAhkiAAAAAlwSFlz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\nyl0QBCELEeUuCIKQhYhyFwRByEL+Hxgdi+5ZuQEoAAAAAElFTkSuQmCC\n",
      "text/plain": [
       "<matplotlib.figure.Figure at 0x11ed28d90>"
      ]
     },
     "metadata": {},
     "output_type": "display_data"
    }
   ],
   "source": [
    "cityCount.plot()\n",
    "plt.show()\n"
   ]
  },
  {
   "cell_type": "markdown",
   "metadata": {},
   "source": [
    "### 10.  Your co-worker in your data science team has approached you with some concerns..\n",
    "\n",
    "<center>![a real data scientist](http://nerdist.com/wp-content/uploads/2016/02/20160225_becausescience_pokemon_1x1.jpg)\n",
    "_* Actual data scientists may vary in appearance_\n",
    "</center>\n",
    "\n",
    "\n",
    "They tell you that group counting your sightings by city might be inaccurate.  How can you reassure them that your logic is sound and you are certianly correct?  Demonstrate to them, in any other way possible (with code) that you think counting groups by city is a good idea (right?).  Show them by using another method, or grouping in conjunction with other variables validates your assumptions."
   ]
  },
  {
   "cell_type": "code",
   "execution_count": null,
   "metadata": {
    "collapsed": true
   },
   "outputs": [],
   "source": []
  },
  {
   "cell_type": "markdown",
   "metadata": {},
   "source": [
    "### 11.  Which cities have the most \"CIGAR\" sightings?"
   ]
  },
  {
   "cell_type": "code",
   "execution_count": null,
   "metadata": {
    "collapsed": true
   },
   "outputs": [],
   "source": []
  },
  {
   "cell_type": "markdown",
   "metadata": {},
   "source": [
    "---\n",
    "\n",
    "Ask instructors for help on everything previous to this point, but we have designed the bonus material around collaboration in mind.  The next few problems are to be completed without instructor help.\n",
    "\n",
    "```\n",
    "if lab_question > 11:\n",
    "    no_instructors_allowed()\n",
    "```"
   ]
  },
  {
   "cell_type": "markdown",
   "metadata": {},
   "source": [
    "### 12.  Bonus:  Display only top 20 shape counts reported by state!\n",
    "\n",
    "This is a weird problem yes?  You're going to have weird questions and google is your friend!  So for this problem, we have found the answer with the search term \"pandas top 10 by group\" is a semi-obvious place where you will find many of these types of answers.\n",
    "\n",
    "You will easily find the answer but you will need to think about how to implement the solution as the ones you find won't be copy and paste but should demonstrate the intuition for doing so using a grouby object.\n",
    "\n",
    "This is the expected output, _using a groupby() and [some method(s)] to display \"State\" and \"Shape\" as your group indexes with a count!_:\n",
    "\n",
    "```\n",
    "State  Shape Reported\n",
    "CA     LIGHT             2171\n",
    "       CIRCLE            1023\n",
    "WA     LIGHT             1016\n",
    "CA     TRIANGLE           955\n",
    "FL     LIGHT              916\n",
    "TX     LIGHT              847\n",
    "CA     FIREBALL           808\n",
    "       DISK               775\n",
    "       OTHER              749\n",
    "       SPHERE             726\n",
    "NY     LIGHT              691\n",
    "AZ     LIGHT              677\n",
    "IL     LIGHT              600\n",
    "PA     LIGHT              581\n",
    "OH     LIGHT              525\n",
    "FL     FIREBALL           524\n",
    "MI     LIGHT              468\n",
    "FL     CIRCLE             467\n",
    "OR     LIGHT              466\n",
    "CA     OVAL               465\n",
    "dtype: int64\n",
    "```"
   ]
  },
  {
   "cell_type": "markdown",
   "metadata": {},
   "source": [
    "### 13.  Bonus:  What are the top 20 shapes by City + State?\n"
   ]
  },
  {
   "cell_type": "code",
   "execution_count": null,
   "metadata": {
    "collapsed": true
   },
   "outputs": [],
   "source": []
  },
  {
   "cell_type": "markdown",
   "metadata": {},
   "source": [
    "### 14. Bonus: What hours of the day are sightings most commonly reported?\n",
    "\n",
    "To solve this problem, you will need to follow these steps:\n",
    "    - Convert time feature to datetime type\n",
    "    - Create a new feature based on a characteristic of the first step\n",
    "    - Check our Slack for how to accomplish this (dyerrington posted this recently) \n",
    "    \n",
    "There are at least 3 students who have asked how to do this out of personal interest in our class.  Your mission is to seek them out for advice.  No instructors allowed!"
   ]
  },
  {
   "cell_type": "markdown",
   "metadata": {},
   "source": [
    "### 15. BONUS BONUS:  Generally, what interesting insights can you share about our UFO dataset?\n",
    "    \n",
    "Be as detailed as possible and tell us a nice story (long or short), about your observations.  Great ideas are:\n",
    " - Summary statistics\n",
    " - Outliers\n",
    " - Patterns\n",
    " - Latent characteristics\n",
    " - Graphs / plots / ascii art"
   ]
  },
  {
   "cell_type": "code",
   "execution_count": null,
   "metadata": {
    "collapsed": true
   },
   "outputs": [],
   "source": []
  }
 ],
 "metadata": {
  "celltoolbar": "Slideshow",
  "kernelspec": {
   "display_name": "Python 2",
   "language": "python",
   "name": "python2"
  },
  "language_info": {
   "codemirror_mode": {
    "name": "ipython",
    "version": 2
   },
   "file_extension": ".py",
   "mimetype": "text/x-python",
   "name": "python",
   "nbconvert_exporter": "python",
   "pygments_lexer": "ipython2",
   "version": "2.7.11"
  },
  "widgets": {
   "state": {},
   "version": "1.1.2"
  }
 },
 "nbformat": 4,
 "nbformat_minor": 0
}
