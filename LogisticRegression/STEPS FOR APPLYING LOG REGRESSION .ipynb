{
 "cells": [
  {
   "cell_type": "markdown",
   "metadata": {},
   "source": [
    "# Logistic Regression Implementation with 2 Case Studies"
   ]
  },
  {
   "cell_type": "code",
   "execution_count": 3,
   "metadata": {
    "collapsed": false
   },
   "outputs": [],
   "source": [
    "# these will install packages from the notebook!\n",
    "#!pip install sklearn\n",
    "#!pip install matplotlib\n",
    "#!pip install numpy\n",
    "#!pip install pandas"
   ]
  },
  {
   "cell_type": "code",
<<<<<<< HEAD:curriculum/week-04/4.2-lab/code/STEPS FOR APPLYING LOG REGRESSION week4-4.2-demo.ipynb
<<<<<<< HEAD:curriculum/week-04/4.2-lab/code/STEPS FOR APPLYING LOG REGRESSION week4-4.2-demo.ipynb
   "execution_count": 19,
=======
   "execution_count": 2,
>>>>>>> c71cff7c7e498be4707f23e5a3efccf390283d1a:curriculum/week-04/4.2-lab/code/week4-4.2-demo.ipynb
=======
   "execution_count": 4,
>>>>>>> 1f415a36aaa6b396550651f8a516487252dab542:curriculum/week-04/4.2-lab/code/week4-4.2-demo.ipynb
   "metadata": {
    "collapsed": false
   },
   "outputs": [
    {
     "name": "stderr",
     "output_type": "stream",
     "text": [
      "/Users/powchow/.virtualenvs/gatech-ml/lib/python2.7/site-packages/matplotlib/font_manager.py:273: UserWarning: Matplotlib is building the font cache using fc-list. This may take a moment.\n",
      "  warnings.warn('Matplotlib is building the font cache using fc-list. This may take a moment.')\n"
     ]
    }
   ],
   "source": [
    "%matplotlib inline\n",
    "import numpy as np\n",
    "import matplotlib.pyplot as plt\n",
    "import pandas as pd\n",
    "from sklearn.linear_model import LogisticRegression\n",
    "from sklearn import datasets"
   ]
  },
  {
   "cell_type": "code",
<<<<<<< HEAD:curriculum/week-04/4.2-lab/code/STEPS FOR APPLYING LOG REGRESSION week4-4.2-demo.ipynb
<<<<<<< HEAD:curriculum/week-04/4.2-lab/code/STEPS FOR APPLYING LOG REGRESSION week4-4.2-demo.ipynb
   "execution_count": 20,
=======
   "execution_count": 3,
>>>>>>> c71cff7c7e498be4707f23e5a3efccf390283d1a:curriculum/week-04/4.2-lab/code/week4-4.2-demo.ipynb
=======
   "execution_count": 5,
>>>>>>> 1f415a36aaa6b396550651f8a516487252dab542:curriculum/week-04/4.2-lab/code/week4-4.2-demo.ipynb
   "metadata": {
    "collapsed": false
   },
   "outputs": [
    {
     "data": {
      "text/plain": [
       "sklearn.datasets.base.Bunch"
      ]
     },
<<<<<<< HEAD:curriculum/week-04/4.2-lab/code/STEPS FOR APPLYING LOG REGRESSION week4-4.2-demo.ipynb
<<<<<<< HEAD:curriculum/week-04/4.2-lab/code/STEPS FOR APPLYING LOG REGRESSION week4-4.2-demo.ipynb
     "execution_count": 20,
=======
     "execution_count": 3,
>>>>>>> c71cff7c7e498be4707f23e5a3efccf390283d1a:curriculum/week-04/4.2-lab/code/week4-4.2-demo.ipynb
=======
     "execution_count": 5,
>>>>>>> 1f415a36aaa6b396550651f8a516487252dab542:curriculum/week-04/4.2-lab/code/week4-4.2-demo.ipynb
     "metadata": {},
     "output_type": "execute_result"
    }
   ],
   "source": [
    "iris = datasets.load_iris() # load the digits (data)\n",
    "type(iris)"
   ]
  },
  {
   "cell_type": "code",
<<<<<<< HEAD:curriculum/week-04/4.2-lab/code/STEPS FOR APPLYING LOG REGRESSION week4-4.2-demo.ipynb
<<<<<<< HEAD:curriculum/week-04/4.2-lab/code/STEPS FOR APPLYING LOG REGRESSION week4-4.2-demo.ipynb
   "execution_count": 21,
=======
   "execution_count": 4,
>>>>>>> c71cff7c7e498be4707f23e5a3efccf390283d1a:curriculum/week-04/4.2-lab/code/week4-4.2-demo.ipynb
=======
   "execution_count": 6,
>>>>>>> 1f415a36aaa6b396550651f8a516487252dab542:curriculum/week-04/4.2-lab/code/week4-4.2-demo.ipynb
   "metadata": {
    "collapsed": false
   },
   "outputs": [
    {
     "data": {
      "text/plain": [
       "['setosa', 'versicolor', 'virginica']"
      ]
     },
<<<<<<< HEAD:curriculum/week-04/4.2-lab/code/STEPS FOR APPLYING LOG REGRESSION week4-4.2-demo.ipynb
<<<<<<< HEAD:curriculum/week-04/4.2-lab/code/STEPS FOR APPLYING LOG REGRESSION week4-4.2-demo.ipynb
     "execution_count": 21,
=======
     "execution_count": 4,
>>>>>>> c71cff7c7e498be4707f23e5a3efccf390283d1a:curriculum/week-04/4.2-lab/code/week4-4.2-demo.ipynb
=======
     "execution_count": 6,
>>>>>>> 1f415a36aaa6b396550651f8a516487252dab542:curriculum/week-04/4.2-lab/code/week4-4.2-demo.ipynb
     "metadata": {},
     "output_type": "execute_result"
    }
   ],
   "source": [
    "list(iris.target_names) # names of potential labels"
   ]
  },
  {
   "cell_type": "code",
<<<<<<< HEAD:curriculum/week-04/4.2-lab/code/STEPS FOR APPLYING LOG REGRESSION week4-4.2-demo.ipynb
<<<<<<< HEAD:curriculum/week-04/4.2-lab/code/STEPS FOR APPLYING LOG REGRESSION week4-4.2-demo.ipynb
   "execution_count": 22,
=======
   "execution_count": 5,
>>>>>>> c71cff7c7e498be4707f23e5a3efccf390283d1a:curriculum/week-04/4.2-lab/code/week4-4.2-demo.ipynb
   "metadata": {
    "collapsed": false
   },
   "outputs": [
    {
     "data": {
      "text/plain": [
       "['sepal length (cm)',\n",
       " 'sepal width (cm)',\n",
       " 'petal length (cm)',\n",
       " 'petal width (cm)']"
      ]
     },
<<<<<<< HEAD:curriculum/week-04/4.2-lab/code/STEPS FOR APPLYING LOG REGRESSION week4-4.2-demo.ipynb
     "execution_count": 22,
=======
     "execution_count": 5,
>>>>>>> c71cff7c7e498be4707f23e5a3efccf390283d1a:curriculum/week-04/4.2-lab/code/week4-4.2-demo.ipynb
     "metadata": {},
     "output_type": "execute_result"
    }
   ],
=======
   "execution_count": 7,
   "metadata": {
    "collapsed": false
   },
   "outputs": [],
>>>>>>> 1f415a36aaa6b396550651f8a516487252dab542:curriculum/week-04/4.2-lab/code/week4-4.2-demo.ipynb
   "source": [
    "list(iris.feature_names) # names of features\n",
    "a = list([1,2,3,4])\n"
   ]
  },
  {
   "cell_type": "code",
<<<<<<< HEAD:curriculum/week-04/4.2-lab/code/STEPS FOR APPLYING LOG REGRESSION week4-4.2-demo.ipynb
<<<<<<< HEAD:curriculum/week-04/4.2-lab/code/STEPS FOR APPLYING LOG REGRESSION week4-4.2-demo.ipynb
   "execution_count": 23,
=======
   "execution_count": 6,
>>>>>>> c71cff7c7e498be4707f23e5a3efccf390283d1a:curriculum/week-04/4.2-lab/code/week4-4.2-demo.ipynb
=======
   "execution_count": 11,
>>>>>>> 1f415a36aaa6b396550651f8a516487252dab542:curriculum/week-04/4.2-lab/code/week4-4.2-demo.ipynb
   "metadata": {
    "collapsed": false
   },
   "outputs": [
    {
     "name": "stdout",
     "output_type": "stream",
     "text": [
      "   sepal length (cm)  sepal width (cm)  petal length (cm)  petal width (cm)  \\\n",
      "0                5.1               3.5                1.4               0.2   \n",
      "1                4.9               3.0                1.4               0.2   \n",
      "\n",
      "   target  \n",
      "0       0  \n",
      "1       0  \n"
     ]
    }
   ],
   "source": [
    "irisdf = pd.DataFrame(iris.data, columns=iris.feature_names)\n",
    "irisdf['target'] = iris.target\n",
    "print irisdf.head(2)\n",
    "# append target (response column) to your new dataframe"
   ]
  },
  {
   "cell_type": "code",
<<<<<<< HEAD:curriculum/week-04/4.2-lab/code/STEPS FOR APPLYING LOG REGRESSION week4-4.2-demo.ipynb
<<<<<<< HEAD:curriculum/week-04/4.2-lab/code/STEPS FOR APPLYING LOG REGRESSION week4-4.2-demo.ipynb
   "execution_count": 24,
=======
   "execution_count": 7,
>>>>>>> c71cff7c7e498be4707f23e5a3efccf390283d1a:curriculum/week-04/4.2-lab/code/week4-4.2-demo.ipynb
=======
   "execution_count": 12,
>>>>>>> 1f415a36aaa6b396550651f8a516487252dab542:curriculum/week-04/4.2-lab/code/week4-4.2-demo.ipynb
   "metadata": {
    "collapsed": false
   },
   "outputs": [
    {
     "data": {
      "text/plain": [
       "sepal length (cm)    150\n",
       "sepal width (cm)     150\n",
       "petal length (cm)    150\n",
       "petal width (cm)     150\n",
       "target               150\n",
       "dtype: int64"
      ]
     },
<<<<<<< HEAD:curriculum/week-04/4.2-lab/code/STEPS FOR APPLYING LOG REGRESSION week4-4.2-demo.ipynb
<<<<<<< HEAD:curriculum/week-04/4.2-lab/code/STEPS FOR APPLYING LOG REGRESSION week4-4.2-demo.ipynb
     "execution_count": 24,
=======
     "execution_count": 7,
>>>>>>> c71cff7c7e498be4707f23e5a3efccf390283d1a:curriculum/week-04/4.2-lab/code/week4-4.2-demo.ipynb
=======
     "execution_count": 12,
>>>>>>> 1f415a36aaa6b396550651f8a516487252dab542:curriculum/week-04/4.2-lab/code/week4-4.2-demo.ipynb
     "metadata": {},
     "output_type": "execute_result"
    }
   ],
   "source": [
    "irisdf.count() # no null values present"
   ]
  },
  {
   "cell_type": "code",
<<<<<<< HEAD:curriculum/week-04/4.2-lab/code/STEPS FOR APPLYING LOG REGRESSION week4-4.2-demo.ipynb
   "execution_count": 25,
=======
   "execution_count": 8,
>>>>>>> c71cff7c7e498be4707f23e5a3efccf390283d1a:curriculum/week-04/4.2-lab/code/week4-4.2-demo.ipynb
   "metadata": {
    "collapsed": false
   },
   "outputs": [
    {
     "data": {
      "text/html": [
       "<div style=\"max-height:1000px;max-width:1500px;overflow:auto;\">\n",
       "<table border=\"1\" class=\"dataframe\">\n",
       "  <thead>\n",
       "    <tr style=\"text-align: right;\">\n",
       "      <th></th>\n",
       "      <th>sepal length (cm)</th>\n",
       "      <th>sepal width (cm)</th>\n",
       "      <th>petal length (cm)</th>\n",
       "      <th>petal width (cm)</th>\n",
       "      <th>target</th>\n",
       "    </tr>\n",
       "  </thead>\n",
       "  <tbody>\n",
       "    <tr>\n",
       "      <th>count</th>\n",
       "      <td> 150.000000</td>\n",
       "      <td> 150.000000</td>\n",
       "      <td> 150.000000</td>\n",
       "      <td> 150.000000</td>\n",
       "      <td> 150.000000</td>\n",
       "    </tr>\n",
       "    <tr>\n",
       "      <th>mean</th>\n",
       "      <td>   5.843333</td>\n",
       "      <td>   3.054000</td>\n",
       "      <td>   3.758667</td>\n",
       "      <td>   1.198667</td>\n",
       "      <td>   1.000000</td>\n",
       "    </tr>\n",
       "    <tr>\n",
       "      <th>std</th>\n",
       "      <td>   0.828066</td>\n",
       "      <td>   0.433594</td>\n",
       "      <td>   1.764420</td>\n",
       "      <td>   0.763161</td>\n",
       "      <td>   0.819232</td>\n",
       "    </tr>\n",
       "    <tr>\n",
       "      <th>min</th>\n",
       "      <td>   4.300000</td>\n",
       "      <td>   2.000000</td>\n",
       "      <td>   1.000000</td>\n",
       "      <td>   0.100000</td>\n",
       "      <td>   0.000000</td>\n",
       "    </tr>\n",
       "    <tr>\n",
       "      <th>25%</th>\n",
       "      <td>   5.100000</td>\n",
       "      <td>   2.800000</td>\n",
       "      <td>   1.600000</td>\n",
       "      <td>   0.300000</td>\n",
       "      <td>   0.000000</td>\n",
       "    </tr>\n",
       "    <tr>\n",
       "      <th>50%</th>\n",
       "      <td>   5.800000</td>\n",
       "      <td>   3.000000</td>\n",
       "      <td>   4.350000</td>\n",
       "      <td>   1.300000</td>\n",
       "      <td>   1.000000</td>\n",
       "    </tr>\n",
       "    <tr>\n",
       "      <th>75%</th>\n",
       "      <td>   6.400000</td>\n",
       "      <td>   3.300000</td>\n",
       "      <td>   5.100000</td>\n",
       "      <td>   1.800000</td>\n",
       "      <td>   2.000000</td>\n",
       "    </tr>\n",
       "    <tr>\n",
       "      <th>max</th>\n",
       "      <td>   7.900000</td>\n",
       "      <td>   4.400000</td>\n",
       "      <td>   6.900000</td>\n",
       "      <td>   2.500000</td>\n",
       "      <td>   2.000000</td>\n",
       "    </tr>\n",
       "  </tbody>\n",
       "</table>\n",
       "</div>"
      ],
      "text/plain": [
       "       sepal length (cm)  sepal width (cm)  petal length (cm)  \\\n",
       "count         150.000000        150.000000         150.000000   \n",
       "mean            5.843333          3.054000           3.758667   \n",
       "std             0.828066          0.433594           1.764420   \n",
       "min             4.300000          2.000000           1.000000   \n",
       "25%             5.100000          2.800000           1.600000   \n",
       "50%             5.800000          3.000000           4.350000   \n",
       "75%             6.400000          3.300000           5.100000   \n",
       "max             7.900000          4.400000           6.900000   \n",
       "\n",
       "       petal width (cm)      target  \n",
       "count        150.000000  150.000000  \n",
       "mean           1.198667    1.000000  \n",
       "std            0.763161    0.819232  \n",
       "min            0.100000    0.000000  \n",
       "25%            0.300000    0.000000  \n",
       "50%            1.300000    1.000000  \n",
       "75%            1.800000    2.000000  \n",
       "max            2.500000    2.000000  "
      ]
     },
<<<<<<< HEAD:curriculum/week-04/4.2-lab/code/STEPS FOR APPLYING LOG REGRESSION week4-4.2-demo.ipynb
     "execution_count": 25,
=======
     "execution_count": 8,
>>>>>>> c71cff7c7e498be4707f23e5a3efccf390283d1a:curriculum/week-04/4.2-lab/code/week4-4.2-demo.ipynb
     "metadata": {},
     "output_type": "execute_result"
    }
   ],
   "source": [
    "irisdf.describe()"
   ]
  },
  {
   "cell_type": "code",
<<<<<<< HEAD:curriculum/week-04/4.2-lab/code/STEPS FOR APPLYING LOG REGRESSION week4-4.2-demo.ipynb
<<<<<<< HEAD:curriculum/week-04/4.2-lab/code/STEPS FOR APPLYING LOG REGRESSION week4-4.2-demo.ipynb
   "execution_count": 26,
=======
   "execution_count": 9,
>>>>>>> c71cff7c7e498be4707f23e5a3efccf390283d1a:curriculum/week-04/4.2-lab/code/week4-4.2-demo.ipynb
=======
   "execution_count": 13,
>>>>>>> 1f415a36aaa6b396550651f8a516487252dab542:curriculum/week-04/4.2-lab/code/week4-4.2-demo.ipynb
   "metadata": {
    "collapsed": false
   },
   "outputs": [
    {
     "data": {
      "text/plain": [
       "sepal length (cm)    float64\n",
       "sepal width (cm)     float64\n",
       "petal length (cm)    float64\n",
       "petal width (cm)     float64\n",
       "target                 int64\n",
       "dtype: object"
      ]
     },
<<<<<<< HEAD:curriculum/week-04/4.2-lab/code/STEPS FOR APPLYING LOG REGRESSION week4-4.2-demo.ipynb
<<<<<<< HEAD:curriculum/week-04/4.2-lab/code/STEPS FOR APPLYING LOG REGRESSION week4-4.2-demo.ipynb
     "execution_count": 26,
=======
     "execution_count": 9,
>>>>>>> c71cff7c7e498be4707f23e5a3efccf390283d1a:curriculum/week-04/4.2-lab/code/week4-4.2-demo.ipynb
=======
     "execution_count": 13,
>>>>>>> 1f415a36aaa6b396550651f8a516487252dab542:curriculum/week-04/4.2-lab/code/week4-4.2-demo.ipynb
     "metadata": {},
     "output_type": "execute_result"
    }
   ],
   "source": [
    "irisdf.dtypes"
   ]
  },
  {
   "cell_type": "code",
<<<<<<< HEAD:curriculum/week-04/4.2-lab/code/STEPS FOR APPLYING LOG REGRESSION week4-4.2-demo.ipynb
<<<<<<< HEAD:curriculum/week-04/4.2-lab/code/STEPS FOR APPLYING LOG REGRESSION week4-4.2-demo.ipynb
   "execution_count": 27,
=======
   "execution_count": 10,
>>>>>>> c71cff7c7e498be4707f23e5a3efccf390283d1a:curriculum/week-04/4.2-lab/code/week4-4.2-demo.ipynb
=======
   "execution_count": 18,
>>>>>>> 1f415a36aaa6b396550651f8a516487252dab542:curriculum/week-04/4.2-lab/code/week4-4.2-demo.ipynb
   "metadata": {
    "collapsed": true
   },
   "outputs": [],
   "source": [
    "irisdf_new = irisdf[ irisdf.target != 2 ]\n",
    "# keep all rows which do not have target 2\n",
    "# since target can be 0,1, and 2, and logistic regression must be binary,\n",
    "# for this dataset, we will remove all rows which have a target of 2 to meet this requirement"
   ]
  },
  {
   "cell_type": "code",
<<<<<<< HEAD:curriculum/week-04/4.2-lab/code/STEPS FOR APPLYING LOG REGRESSION week4-4.2-demo.ipynb
<<<<<<< HEAD:curriculum/week-04/4.2-lab/code/STEPS FOR APPLYING LOG REGRESSION week4-4.2-demo.ipynb
   "execution_count": 28,
=======
   "execution_count": 11,
>>>>>>> c71cff7c7e498be4707f23e5a3efccf390283d1a:curriculum/week-04/4.2-lab/code/week4-4.2-demo.ipynb
=======
   "execution_count": 19,
>>>>>>> 1f415a36aaa6b396550651f8a516487252dab542:curriculum/week-04/4.2-lab/code/week4-4.2-demo.ipynb
   "metadata": {
    "collapsed": false
   },
   "outputs": [
    {
     "data": {
      "text/plain": [
       "sepal length (cm)    100\n",
       "sepal width (cm)     100\n",
       "petal length (cm)    100\n",
       "petal width (cm)     100\n",
       "target               100\n",
       "dtype: int64"
      ]
     },
<<<<<<< HEAD:curriculum/week-04/4.2-lab/code/STEPS FOR APPLYING LOG REGRESSION week4-4.2-demo.ipynb
<<<<<<< HEAD:curriculum/week-04/4.2-lab/code/STEPS FOR APPLYING LOG REGRESSION week4-4.2-demo.ipynb
     "execution_count": 28,
=======
     "execution_count": 11,
>>>>>>> c71cff7c7e498be4707f23e5a3efccf390283d1a:curriculum/week-04/4.2-lab/code/week4-4.2-demo.ipynb
=======
     "execution_count": 19,
>>>>>>> 1f415a36aaa6b396550651f8a516487252dab542:curriculum/week-04/4.2-lab/code/week4-4.2-demo.ipynb
     "metadata": {},
     "output_type": "execute_result"
    }
   ],
   "source": [
    "irisdf_new.count()"
   ]
  },
  {
   "cell_type": "code",
<<<<<<< HEAD:curriculum/week-04/4.2-lab/code/STEPS FOR APPLYING LOG REGRESSION week4-4.2-demo.ipynb
<<<<<<< HEAD:curriculum/week-04/4.2-lab/code/STEPS FOR APPLYING LOG REGRESSION week4-4.2-demo.ipynb
   "execution_count": 29,
=======
   "execution_count": 12,
>>>>>>> c71cff7c7e498be4707f23e5a3efccf390283d1a:curriculum/week-04/4.2-lab/code/week4-4.2-demo.ipynb
=======
   "execution_count": 20,
>>>>>>> 1f415a36aaa6b396550651f8a516487252dab542:curriculum/week-04/4.2-lab/code/week4-4.2-demo.ipynb
   "metadata": {
    "collapsed": false
   },
   "outputs": [
    {
     "data": {
      "text/html": [
       "<div>\n",
       "<table border=\"1\" class=\"dataframe\">\n",
       "  <thead>\n",
       "    <tr style=\"text-align: right;\">\n",
       "      <th></th>\n",
       "      <th>sepal length (cm)</th>\n",
       "      <th>sepal width (cm)</th>\n",
       "      <th>petal length (cm)</th>\n",
       "      <th>petal width (cm)</th>\n",
       "      <th>target</th>\n",
       "    </tr>\n",
       "  </thead>\n",
       "  <tbody>\n",
       "    <tr>\n",
       "      <th>count</th>\n",
       "      <td>100.000000</td>\n",
       "      <td>100.000000</td>\n",
       "      <td>100.000000</td>\n",
       "      <td>100.000000</td>\n",
       "      <td>100.000000</td>\n",
       "    </tr>\n",
       "    <tr>\n",
       "      <th>mean</th>\n",
       "      <td>5.471000</td>\n",
       "      <td>3.094000</td>\n",
       "      <td>2.862000</td>\n",
       "      <td>0.785000</td>\n",
       "      <td>0.500000</td>\n",
       "    </tr>\n",
       "    <tr>\n",
       "      <th>std</th>\n",
       "      <td>0.641698</td>\n",
       "      <td>0.476057</td>\n",
       "      <td>1.448565</td>\n",
       "      <td>0.566288</td>\n",
       "      <td>0.502519</td>\n",
       "    </tr>\n",
       "    <tr>\n",
       "      <th>min</th>\n",
       "      <td>4.300000</td>\n",
       "      <td>2.000000</td>\n",
       "      <td>1.000000</td>\n",
       "      <td>0.100000</td>\n",
       "      <td>0.000000</td>\n",
       "    </tr>\n",
       "    <tr>\n",
       "      <th>25%</th>\n",
       "      <td>5.000000</td>\n",
       "      <td>2.800000</td>\n",
       "      <td>1.500000</td>\n",
       "      <td>0.200000</td>\n",
       "      <td>0.000000</td>\n",
       "    </tr>\n",
       "    <tr>\n",
       "      <th>50%</th>\n",
       "      <td>5.400000</td>\n",
       "      <td>3.050000</td>\n",
       "      <td>2.450000</td>\n",
       "      <td>0.800000</td>\n",
       "      <td>0.500000</td>\n",
       "    </tr>\n",
       "    <tr>\n",
       "      <th>75%</th>\n",
       "      <td>5.900000</td>\n",
       "      <td>3.400000</td>\n",
       "      <td>4.325000</td>\n",
       "      <td>1.300000</td>\n",
       "      <td>1.000000</td>\n",
       "    </tr>\n",
       "    <tr>\n",
       "      <th>max</th>\n",
       "      <td>7.000000</td>\n",
       "      <td>4.400000</td>\n",
       "      <td>5.100000</td>\n",
       "      <td>1.800000</td>\n",
       "      <td>1.000000</td>\n",
       "    </tr>\n",
       "  </tbody>\n",
       "</table>\n",
       "</div>"
      ],
      "text/plain": [
       "       sepal length (cm)  sepal width (cm)  petal length (cm)  \\\n",
       "count         100.000000        100.000000         100.000000   \n",
       "mean            5.471000          3.094000           2.862000   \n",
       "std             0.641698          0.476057           1.448565   \n",
       "min             4.300000          2.000000           1.000000   \n",
       "25%             5.000000          2.800000           1.500000   \n",
       "50%             5.400000          3.050000           2.450000   \n",
       "75%             5.900000          3.400000           4.325000   \n",
       "max             7.000000          4.400000           5.100000   \n",
       "\n",
       "       petal width (cm)      target  \n",
       "count        100.000000  100.000000  \n",
       "mean           0.785000    0.500000  \n",
       "std            0.566288    0.502519  \n",
       "min            0.100000    0.000000  \n",
       "25%            0.200000    0.000000  \n",
       "50%            0.800000    0.500000  \n",
       "75%            1.300000    1.000000  \n",
       "max            1.800000    1.000000  "
      ]
     },
<<<<<<< HEAD:curriculum/week-04/4.2-lab/code/STEPS FOR APPLYING LOG REGRESSION week4-4.2-demo.ipynb
<<<<<<< HEAD:curriculum/week-04/4.2-lab/code/STEPS FOR APPLYING LOG REGRESSION week4-4.2-demo.ipynb
     "execution_count": 29,
=======
     "execution_count": 12,
>>>>>>> c71cff7c7e498be4707f23e5a3efccf390283d1a:curriculum/week-04/4.2-lab/code/week4-4.2-demo.ipynb
=======
     "execution_count": 20,
>>>>>>> 1f415a36aaa6b396550651f8a516487252dab542:curriculum/week-04/4.2-lab/code/week4-4.2-demo.ipynb
     "metadata": {},
     "output_type": "execute_result"
    }
   ],
   "source": [
    "irisdf_new.describe()"
   ]
  },
  {
   "cell_type": "code",
   "execution_count": 27,
   "metadata": {
    "collapsed": false
   },
   "outputs": [
    {
     "name": "stdout",
     "output_type": "stream",
     "text": [
      "   sepal length (cm)  sepal width (cm)  petal length (cm)  petal width (cm)  \\\n",
      "0                5.1               3.5                1.4               0.2   \n",
      "1                4.9               3.0                1.4               0.2   \n",
      "2                4.7               3.2                1.3               0.2   \n",
      "3                4.6               3.1                1.5               0.2   \n",
      "4                5.0               3.6                1.4               0.2   \n",
      "\n",
      "   target  \n",
      "0       0  \n",
      "1       0  \n",
      "2       0  \n",
      "3       0  \n",
      "4       0  \n"
     ]
    }
   ],
   "source": [
    "test_df = irisdf_new[ irisdf_new.index < 30 ]\n",
    "# reserve 30 records for testing!\n",
    "# we will refer to this dataset later.\n",
    "\n",
    "test_df.count() \n",
    "print test_df.head()"
   ]
  },
  {
   "cell_type": "code",
<<<<<<< HEAD:curriculum/week-04/4.2-lab/code/STEPS FOR APPLYING LOG REGRESSION week4-4.2-demo.ipynb
<<<<<<< HEAD:curriculum/week-04/4.2-lab/code/STEPS FOR APPLYING LOG REGRESSION week4-4.2-demo.ipynb
   "execution_count": 30,
=======
   "execution_count": 13,
>>>>>>> c71cff7c7e498be4707f23e5a3efccf390283d1a:curriculum/week-04/4.2-lab/code/week4-4.2-demo.ipynb
=======
   "execution_count": 23,
>>>>>>> 1f415a36aaa6b396550651f8a516487252dab542:curriculum/week-04/4.2-lab/code/week4-4.2-demo.ipynb
   "metadata": {
    "collapsed": false
   },
   "outputs": [
    {
     "data": {
      "text/plain": [
       "sepal length (cm)    70\n",
       "sepal width (cm)     70\n",
       "petal length (cm)    70\n",
       "petal width (cm)     70\n",
       "target               70\n",
       "dtype: int64"
      ]
     },
<<<<<<< HEAD:curriculum/week-04/4.2-lab/code/STEPS FOR APPLYING LOG REGRESSION week4-4.2-demo.ipynb
<<<<<<< HEAD:curriculum/week-04/4.2-lab/code/STEPS FOR APPLYING LOG REGRESSION week4-4.2-demo.ipynb
     "execution_count": 30,
=======
     "execution_count": 13,
>>>>>>> c71cff7c7e498be4707f23e5a3efccf390283d1a:curriculum/week-04/4.2-lab/code/week4-4.2-demo.ipynb
=======
     "execution_count": 23,
>>>>>>> 1f415a36aaa6b396550651f8a516487252dab542:curriculum/week-04/4.2-lab/code/week4-4.2-demo.ipynb
     "metadata": {},
     "output_type": "execute_result"
    }
   ],
   "source": [
    "train_df = irisdf_new[ irisdf_new.index >= 30 ] \n",
    "\n",
    "# take 70 records for model training\n",
    "train_df.count()"
   ]
  },
  {
   "cell_type": "code",
<<<<<<< HEAD:curriculum/week-04/4.2-lab/code/STEPS FOR APPLYING LOG REGRESSION week4-4.2-demo.ipynb
<<<<<<< HEAD:curriculum/week-04/4.2-lab/code/STEPS FOR APPLYING LOG REGRESSION week4-4.2-demo.ipynb
   "execution_count": 31,
=======
   "execution_count": 14,
>>>>>>> c71cff7c7e498be4707f23e5a3efccf390283d1a:curriculum/week-04/4.2-lab/code/week4-4.2-demo.ipynb
=======
   "execution_count": 24,
>>>>>>> 1f415a36aaa6b396550651f8a516487252dab542:curriculum/week-04/4.2-lab/code/week4-4.2-demo.ipynb
   "metadata": {
    "collapsed": true
   },
   "outputs": [],
   "source": [
    "predictor_cols = [\"sepal length (cm)\",\"sepal width (cm)\",\n",
    "                  \"petal length (cm)\",\"petal width (cm)\"]\n",
    "# here is list of features"
   ]
  },
  {
   "cell_type": "code",
<<<<<<< HEAD:curriculum/week-04/4.2-lab/code/STEPS FOR APPLYING LOG REGRESSION week4-4.2-demo.ipynb
<<<<<<< HEAD:curriculum/week-04/4.2-lab/code/STEPS FOR APPLYING LOG REGRESSION week4-4.2-demo.ipynb
   "execution_count": 32,
=======
   "execution_count": 15,
>>>>>>> c71cff7c7e498be4707f23e5a3efccf390283d1a:curriculum/week-04/4.2-lab/code/week4-4.2-demo.ipynb
=======
   "execution_count": 28,
>>>>>>> 1f415a36aaa6b396550651f8a516487252dab542:curriculum/week-04/4.2-lab/code/week4-4.2-demo.ipynb
   "metadata": {
    "collapsed": false
   },
   "outputs": [
    {
     "name": "stdout",
     "output_type": "stream",
     "text": [
      "    sepal length (cm)  sepal width (cm)  petal length (cm)  petal width (cm)\n",
      "30                4.8               3.1                1.6               0.2\n",
      "31                5.4               3.4                1.5               0.4\n",
      "32                5.2               4.1                1.5               0.1\n",
      "33                5.5               4.2                1.4               0.2\n",
      "34                4.9               3.1                1.5               0.1\n"
     ]
    }
   ],
   "source": [
    "# lets create our prediction dataframe (columns are strickly feature columns)\n",
    "df_pred = train_df[predictor_cols]\n",
    "print df_pred.head()"
   ]
  },
  {
   "cell_type": "code",
<<<<<<< HEAD:curriculum/week-04/4.2-lab/code/STEPS FOR APPLYING LOG REGRESSION week4-4.2-demo.ipynb
   "execution_count": 33,
=======
   "execution_count": 16,
>>>>>>> c71cff7c7e498be4707f23e5a3efccf390283d1a:curriculum/week-04/4.2-lab/code/week4-4.2-demo.ipynb
   "metadata": {
    "collapsed": false
   },
   "outputs": [
    {
     "data": {
      "text/plain": [
       "sepal length (cm)    70\n",
       "sepal width (cm)     70\n",
       "petal length (cm)    70\n",
       "petal width (cm)     70\n",
       "dtype: int64"
      ]
     },
<<<<<<< HEAD:curriculum/week-04/4.2-lab/code/STEPS FOR APPLYING LOG REGRESSION week4-4.2-demo.ipynb
     "execution_count": 33,
=======
     "execution_count": 16,
>>>>>>> c71cff7c7e498be4707f23e5a3efccf390283d1a:curriculum/week-04/4.2-lab/code/week4-4.2-demo.ipynb
     "metadata": {},
     "output_type": "execute_result"
    }
   ],
   "source": [
    "df_pred.count()"
   ]
  },
  {
   "cell_type": "code",
<<<<<<< HEAD:curriculum/week-04/4.2-lab/code/STEPS FOR APPLYING LOG REGRESSION week4-4.2-demo.ipynb
<<<<<<< HEAD:curriculum/week-04/4.2-lab/code/STEPS FOR APPLYING LOG REGRESSION week4-4.2-demo.ipynb
   "execution_count": 34,
=======
   "execution_count": 17,
>>>>>>> c71cff7c7e498be4707f23e5a3efccf390283d1a:curriculum/week-04/4.2-lab/code/week4-4.2-demo.ipynb
=======
   "execution_count": 30,
>>>>>>> 1f415a36aaa6b396550651f8a516487252dab542:curriculum/week-04/4.2-lab/code/week4-4.2-demo.ipynb
   "metadata": {
    "collapsed": false
   },
   "outputs": [
    {
     "name": "stdout",
     "output_type": "stream",
     "text": [
      "<class 'sklearn.linear_model.logistic.LogisticRegression'>\n",
      "LogisticRegression(C=1.0, class_weight=None, dual=False, fit_intercept=True,\n",
      "          intercept_scaling=1, max_iter=100, multi_class='ovr', n_jobs=1,\n",
      "          penalty='l2', random_state=None, solver='liblinear', tol=0.0001,\n",
      "          verbose=0, warm_start=False)\n"
     ]
    }
   ],
   "source": [
    "# Now time to fit our model, using StatsModels!\n",
    "# to fit model you will use the training dataset, not the test dataset!\n",
    "logit = LogisticRegression()\n",
    "results = logit.fit(df_pred, train_df.target)\n",
    "\n",
    "print type(results)\n",
    "print results"
   ]
  },
  {
   "cell_type": "code",
<<<<<<< HEAD:curriculum/week-04/4.2-lab/code/STEPS FOR APPLYING LOG REGRESSION week4-4.2-demo.ipynb
<<<<<<< HEAD:curriculum/week-04/4.2-lab/code/STEPS FOR APPLYING LOG REGRESSION week4-4.2-demo.ipynb
   "execution_count": 35,
=======
   "execution_count": 18,
>>>>>>> c71cff7c7e498be4707f23e5a3efccf390283d1a:curriculum/week-04/4.2-lab/code/week4-4.2-demo.ipynb
=======
   "execution_count": 32,
>>>>>>> 1f415a36aaa6b396550651f8a516487252dab542:curriculum/week-04/4.2-lab/code/week4-4.2-demo.ipynb
   "metadata": {
    "collapsed": false
   },
   "outputs": [],
   "source": [
    "# disable chained-assignment caution\n",
    "pd.options.mode.chained_assignment = None\n",
    "# input test_pred_df into the logit model and append column to original test_df\n",
    "test_df['prediction'] = logit.predict(test_df[predictor_cols])"
   ]
  },
  {
   "cell_type": "code",
<<<<<<< HEAD:curriculum/week-04/4.2-lab/code/STEPS FOR APPLYING LOG REGRESSION week4-4.2-demo.ipynb
<<<<<<< HEAD:curriculum/week-04/4.2-lab/code/STEPS FOR APPLYING LOG REGRESSION week4-4.2-demo.ipynb
   "execution_count": 36,
=======
   "execution_count": 19,
>>>>>>> c71cff7c7e498be4707f23e5a3efccf390283d1a:curriculum/week-04/4.2-lab/code/week4-4.2-demo.ipynb
=======
   "execution_count": 33,
>>>>>>> 1f415a36aaa6b396550651f8a516487252dab542:curriculum/week-04/4.2-lab/code/week4-4.2-demo.ipynb
   "metadata": {
    "collapsed": false
   },
   "outputs": [
    {
     "data": {
      "text/html": [
       "<div>\n",
       "<table border=\"1\" class=\"dataframe\">\n",
       "  <thead>\n",
       "    <tr style=\"text-align: right;\">\n",
       "      <th></th>\n",
       "      <th>sepal length (cm)</th>\n",
       "      <th>sepal width (cm)</th>\n",
       "      <th>petal length (cm)</th>\n",
       "      <th>petal width (cm)</th>\n",
       "      <th>target</th>\n",
       "      <th>prediction</th>\n",
       "    </tr>\n",
       "  </thead>\n",
       "  <tbody>\n",
       "    <tr>\n",
       "      <th>0</th>\n",
       "      <td>5.1</td>\n",
       "      <td>3.5</td>\n",
       "      <td>1.4</td>\n",
       "      <td>0.2</td>\n",
       "      <td>0</td>\n",
       "      <td>0</td>\n",
       "    </tr>\n",
       "    <tr>\n",
       "      <th>1</th>\n",
       "      <td>4.9</td>\n",
       "      <td>3.0</td>\n",
       "      <td>1.4</td>\n",
       "      <td>0.2</td>\n",
       "      <td>0</td>\n",
       "      <td>0</td>\n",
       "    </tr>\n",
       "    <tr>\n",
       "      <th>2</th>\n",
       "      <td>4.7</td>\n",
       "      <td>3.2</td>\n",
       "      <td>1.3</td>\n",
       "      <td>0.2</td>\n",
       "      <td>0</td>\n",
       "      <td>0</td>\n",
       "    </tr>\n",
       "    <tr>\n",
       "      <th>3</th>\n",
       "      <td>4.6</td>\n",
       "      <td>3.1</td>\n",
       "      <td>1.5</td>\n",
       "      <td>0.2</td>\n",
       "      <td>0</td>\n",
       "      <td>0</td>\n",
       "    </tr>\n",
       "    <tr>\n",
       "      <th>4</th>\n",
       "      <td>5.0</td>\n",
       "      <td>3.6</td>\n",
       "      <td>1.4</td>\n",
       "      <td>0.2</td>\n",
       "      <td>0</td>\n",
       "      <td>0</td>\n",
       "    </tr>\n",
       "    <tr>\n",
       "      <th>5</th>\n",
       "      <td>5.4</td>\n",
       "      <td>3.9</td>\n",
       "      <td>1.7</td>\n",
       "      <td>0.4</td>\n",
       "      <td>0</td>\n",
       "      <td>0</td>\n",
       "    </tr>\n",
       "    <tr>\n",
       "      <th>6</th>\n",
       "      <td>4.6</td>\n",
       "      <td>3.4</td>\n",
       "      <td>1.4</td>\n",
       "      <td>0.3</td>\n",
       "      <td>0</td>\n",
       "      <td>0</td>\n",
       "    </tr>\n",
       "    <tr>\n",
       "      <th>7</th>\n",
       "      <td>5.0</td>\n",
       "      <td>3.4</td>\n",
       "      <td>1.5</td>\n",
       "      <td>0.2</td>\n",
       "      <td>0</td>\n",
       "      <td>0</td>\n",
       "    </tr>\n",
       "    <tr>\n",
       "      <th>8</th>\n",
       "      <td>4.4</td>\n",
       "      <td>2.9</td>\n",
       "      <td>1.4</td>\n",
       "      <td>0.2</td>\n",
       "      <td>0</td>\n",
       "      <td>0</td>\n",
       "    </tr>\n",
       "    <tr>\n",
       "      <th>9</th>\n",
       "      <td>4.9</td>\n",
       "      <td>3.1</td>\n",
       "      <td>1.5</td>\n",
       "      <td>0.1</td>\n",
       "      <td>0</td>\n",
       "      <td>0</td>\n",
       "    </tr>\n",
       "    <tr>\n",
       "      <th>10</th>\n",
       "      <td>5.4</td>\n",
       "      <td>3.7</td>\n",
       "      <td>1.5</td>\n",
       "      <td>0.2</td>\n",
       "      <td>0</td>\n",
       "      <td>0</td>\n",
       "    </tr>\n",
       "    <tr>\n",
       "      <th>11</th>\n",
       "      <td>4.8</td>\n",
       "      <td>3.4</td>\n",
       "      <td>1.6</td>\n",
       "      <td>0.2</td>\n",
       "      <td>0</td>\n",
       "      <td>0</td>\n",
       "    </tr>\n",
       "    <tr>\n",
       "      <th>12</th>\n",
       "      <td>4.8</td>\n",
       "      <td>3.0</td>\n",
       "      <td>1.4</td>\n",
       "      <td>0.1</td>\n",
       "      <td>0</td>\n",
       "      <td>0</td>\n",
       "    </tr>\n",
       "    <tr>\n",
       "      <th>13</th>\n",
       "      <td>4.3</td>\n",
       "      <td>3.0</td>\n",
       "      <td>1.1</td>\n",
       "      <td>0.1</td>\n",
       "      <td>0</td>\n",
       "      <td>0</td>\n",
       "    </tr>\n",
       "    <tr>\n",
       "      <th>14</th>\n",
       "      <td>5.8</td>\n",
       "      <td>4.0</td>\n",
       "      <td>1.2</td>\n",
       "      <td>0.2</td>\n",
       "      <td>0</td>\n",
       "      <td>0</td>\n",
       "    </tr>\n",
       "    <tr>\n",
       "      <th>15</th>\n",
       "      <td>5.7</td>\n",
       "      <td>4.4</td>\n",
       "      <td>1.5</td>\n",
       "      <td>0.4</td>\n",
       "      <td>0</td>\n",
       "      <td>0</td>\n",
       "    </tr>\n",
       "    <tr>\n",
       "      <th>16</th>\n",
       "      <td>5.4</td>\n",
       "      <td>3.9</td>\n",
       "      <td>1.3</td>\n",
       "      <td>0.4</td>\n",
       "      <td>0</td>\n",
       "      <td>0</td>\n",
       "    </tr>\n",
       "    <tr>\n",
       "      <th>17</th>\n",
       "      <td>5.1</td>\n",
       "      <td>3.5</td>\n",
       "      <td>1.4</td>\n",
       "      <td>0.3</td>\n",
       "      <td>0</td>\n",
       "      <td>0</td>\n",
       "    </tr>\n",
       "    <tr>\n",
       "      <th>18</th>\n",
       "      <td>5.7</td>\n",
       "      <td>3.8</td>\n",
       "      <td>1.7</td>\n",
       "      <td>0.3</td>\n",
       "      <td>0</td>\n",
       "      <td>0</td>\n",
       "    </tr>\n",
       "    <tr>\n",
       "      <th>19</th>\n",
       "      <td>5.1</td>\n",
       "      <td>3.8</td>\n",
       "      <td>1.5</td>\n",
       "      <td>0.3</td>\n",
       "      <td>0</td>\n",
       "      <td>0</td>\n",
       "    </tr>\n",
       "    <tr>\n",
       "      <th>20</th>\n",
       "      <td>5.4</td>\n",
       "      <td>3.4</td>\n",
       "      <td>1.7</td>\n",
       "      <td>0.2</td>\n",
       "      <td>0</td>\n",
       "      <td>0</td>\n",
       "    </tr>\n",
       "    <tr>\n",
       "      <th>21</th>\n",
       "      <td>5.1</td>\n",
       "      <td>3.7</td>\n",
       "      <td>1.5</td>\n",
       "      <td>0.4</td>\n",
       "      <td>0</td>\n",
       "      <td>0</td>\n",
       "    </tr>\n",
       "    <tr>\n",
       "      <th>22</th>\n",
       "      <td>4.6</td>\n",
       "      <td>3.6</td>\n",
       "      <td>1.0</td>\n",
       "      <td>0.2</td>\n",
       "      <td>0</td>\n",
       "      <td>0</td>\n",
       "    </tr>\n",
       "    <tr>\n",
       "      <th>23</th>\n",
       "      <td>5.1</td>\n",
       "      <td>3.3</td>\n",
       "      <td>1.7</td>\n",
       "      <td>0.5</td>\n",
       "      <td>0</td>\n",
       "      <td>0</td>\n",
       "    </tr>\n",
       "    <tr>\n",
       "      <th>24</th>\n",
       "      <td>4.8</td>\n",
       "      <td>3.4</td>\n",
       "      <td>1.9</td>\n",
       "      <td>0.2</td>\n",
       "      <td>0</td>\n",
       "      <td>0</td>\n",
       "    </tr>\n",
       "    <tr>\n",
       "      <th>25</th>\n",
       "      <td>5.0</td>\n",
       "      <td>3.0</td>\n",
       "      <td>1.6</td>\n",
       "      <td>0.2</td>\n",
       "      <td>0</td>\n",
       "      <td>0</td>\n",
       "    </tr>\n",
       "    <tr>\n",
       "      <th>26</th>\n",
       "      <td>5.0</td>\n",
       "      <td>3.4</td>\n",
       "      <td>1.6</td>\n",
       "      <td>0.4</td>\n",
       "      <td>0</td>\n",
       "      <td>0</td>\n",
       "    </tr>\n",
       "    <tr>\n",
       "      <th>27</th>\n",
       "      <td>5.2</td>\n",
       "      <td>3.5</td>\n",
       "      <td>1.5</td>\n",
       "      <td>0.2</td>\n",
       "      <td>0</td>\n",
       "      <td>0</td>\n",
       "    </tr>\n",
       "    <tr>\n",
       "      <th>28</th>\n",
       "      <td>5.2</td>\n",
       "      <td>3.4</td>\n",
       "      <td>1.4</td>\n",
       "      <td>0.2</td>\n",
       "      <td>0</td>\n",
       "      <td>0</td>\n",
       "    </tr>\n",
       "    <tr>\n",
       "      <th>29</th>\n",
       "      <td>4.7</td>\n",
       "      <td>3.2</td>\n",
       "      <td>1.6</td>\n",
       "      <td>0.2</td>\n",
       "      <td>0</td>\n",
       "      <td>0</td>\n",
       "    </tr>\n",
       "  </tbody>\n",
       "</table>\n",
       "</div>"
      ],
      "text/plain": [
       "    sepal length (cm)  sepal width (cm)  petal length (cm)  petal width (cm)  \\\n",
       "0                 5.1               3.5                1.4               0.2   \n",
       "1                 4.9               3.0                1.4               0.2   \n",
       "2                 4.7               3.2                1.3               0.2   \n",
       "3                 4.6               3.1                1.5               0.2   \n",
       "4                 5.0               3.6                1.4               0.2   \n",
       "5                 5.4               3.9                1.7               0.4   \n",
       "6                 4.6               3.4                1.4               0.3   \n",
       "7                 5.0               3.4                1.5               0.2   \n",
       "8                 4.4               2.9                1.4               0.2   \n",
       "9                 4.9               3.1                1.5               0.1   \n",
       "10                5.4               3.7                1.5               0.2   \n",
       "11                4.8               3.4                1.6               0.2   \n",
       "12                4.8               3.0                1.4               0.1   \n",
       "13                4.3               3.0                1.1               0.1   \n",
       "14                5.8               4.0                1.2               0.2   \n",
       "15                5.7               4.4                1.5               0.4   \n",
       "16                5.4               3.9                1.3               0.4   \n",
       "17                5.1               3.5                1.4               0.3   \n",
       "18                5.7               3.8                1.7               0.3   \n",
       "19                5.1               3.8                1.5               0.3   \n",
       "20                5.4               3.4                1.7               0.2   \n",
       "21                5.1               3.7                1.5               0.4   \n",
       "22                4.6               3.6                1.0               0.2   \n",
       "23                5.1               3.3                1.7               0.5   \n",
       "24                4.8               3.4                1.9               0.2   \n",
       "25                5.0               3.0                1.6               0.2   \n",
       "26                5.0               3.4                1.6               0.4   \n",
       "27                5.2               3.5                1.5               0.2   \n",
       "28                5.2               3.4                1.4               0.2   \n",
       "29                4.7               3.2                1.6               0.2   \n",
       "\n",
       "    target  prediction  \n",
       "0        0           0  \n",
       "1        0           0  \n",
       "2        0           0  \n",
       "3        0           0  \n",
       "4        0           0  \n",
       "5        0           0  \n",
       "6        0           0  \n",
       "7        0           0  \n",
       "8        0           0  \n",
       "9        0           0  \n",
       "10       0           0  \n",
       "11       0           0  \n",
       "12       0           0  \n",
       "13       0           0  \n",
       "14       0           0  \n",
       "15       0           0  \n",
       "16       0           0  \n",
       "17       0           0  \n",
       "18       0           0  \n",
       "19       0           0  \n",
       "20       0           0  \n",
       "21       0           0  \n",
       "22       0           0  \n",
       "23       0           0  \n",
       "24       0           0  \n",
       "25       0           0  \n",
       "26       0           0  \n",
       "27       0           0  \n",
       "28       0           0  \n",
       "29       0           0  "
      ]
     },
<<<<<<< HEAD:curriculum/week-04/4.2-lab/code/STEPS FOR APPLYING LOG REGRESSION week4-4.2-demo.ipynb
<<<<<<< HEAD:curriculum/week-04/4.2-lab/code/STEPS FOR APPLYING LOG REGRESSION week4-4.2-demo.ipynb
     "execution_count": 36,
=======
     "execution_count": 19,
>>>>>>> c71cff7c7e498be4707f23e5a3efccf390283d1a:curriculum/week-04/4.2-lab/code/week4-4.2-demo.ipynb
=======
     "execution_count": 33,
>>>>>>> 1f415a36aaa6b396550651f8a516487252dab542:curriculum/week-04/4.2-lab/code/week4-4.2-demo.ipynb
     "metadata": {},
     "output_type": "execute_result"
    }
   ],
   "source": [
    "test_df"
   ]
  },
  {
   "cell_type": "code",
   "execution_count": null,
   "metadata": {
    "collapsed": true
   },
   "outputs": [],
   "source": []
  },
  {
   "cell_type": "code",
   "execution_count": null,
   "metadata": {
    "collapsed": true
   },
   "outputs": [],
   "source": []
  }
 ],
 "metadata": {
  "kernelspec": {
   "display_name": "Python 2",
   "language": "python",
   "name": "python2"
  },
  "language_info": {
   "codemirror_mode": {
    "name": "ipython",
    "version": 2
   },
   "file_extension": ".py",
   "mimetype": "text/x-python",
   "name": "python",
   "nbconvert_exporter": "python",
   "pygments_lexer": "ipython2",
   "version": "2.7.5"
  }
 },
 "nbformat": 4,
 "nbformat_minor": 0
}
